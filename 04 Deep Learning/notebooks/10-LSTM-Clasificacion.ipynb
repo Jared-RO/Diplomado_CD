{
  "nbformat": 4,
  "nbformat_minor": 0,
  "metadata": {
    "colab": {
      "provenance": []
    },
    "kernelspec": {
      "name": "python3",
      "display_name": "Python 3"
    },
    "language_info": {
      "name": "python"
    },
    "accelerator": "GPU",
    "gpuClass": "standard"
  },
  "cells": [
    {
      "cell_type": "markdown",
      "source": [
        "<a href=\"https://colab.research.google.com/github/DCDPUAEM/DCDP/blob/main/04%20Deep%20Learning/notebooks/10-LSTM-Clasificacion.ipynb\" target=\"_parent\"><img src=\"https://colab.research.google.com/assets/colab-badge.svg\" alt=\"Open In Colab\"/></a>"
      ],
      "metadata": {
        "id": "HSyYPlAKVJGE"
      }
    },
    {
      "cell_type": "markdown",
      "source": [
        "<h1>Long Short-Term Memory Networks: Sentiment Analysis</h1>\n",
        "\n",
        "En esta notebook usaremos redes LSTM para análisis de sentimientos. Estudiaremos el dataset de reviews de películas de IMDB. Este es un dataset muy usado para tareas de análisis de sentimientos.\n",
        "\n",
        "En esta tarea no nos interesa tener una salida en cada elemento de la secuencia, solamente queremos la salida al final de la secuencia.\n",
        "\n",
        "\n",
        "<img align=\"left\" width=\"50%\" src=\"https://github.com/DCDPUAEM/DCDP/blob/main/04%20Deep%20Learning/img/LSTM.png?raw=1\"/>"
      ],
      "metadata": {
        "id": "0-QiMUBj-xrJ"
      }
    },
    {
      "cell_type": "code",
      "source": [
        "import tensorflow as tf\n",
        "\n",
        "print('GPU presente en: {}'.format(tf.test.gpu_device_name()))"
      ],
      "metadata": {
        "id": "WtXXpPwLBFOa",
        "colab": {
          "base_uri": "https://localhost:8080/"
        },
        "outputId": "5968aa13-e98c-457a-c273-bc725baf9146"
      },
      "execution_count": 1,
      "outputs": [
        {
          "output_type": "stream",
          "name": "stdout",
          "text": [
            "GPU presente en: /device:GPU:0\n"
          ]
        }
      ]
    },
    {
      "cell_type": "code",
      "execution_count": 2,
      "metadata": {
        "id": "QsQlfmy8YYDK"
      },
      "outputs": [],
      "source": [
        "import numpy as np\n",
        "import matplotlib.pyplot as plt"
      ]
    },
    {
      "cell_type": "code",
      "source": [
        "import re\n",
        "import numpy as np\n",
        "\n",
        "\n",
        "import keras\n",
        "from sklearn.metrics import classification_report\n",
        "from sklearn.metrics import accuracy_score\n",
        "import math\n",
        "import nltk"
      ],
      "metadata": {
        "id": "8cOV9jZib6RU"
      },
      "execution_count": 3,
      "outputs": []
    },
    {
      "cell_type": "markdown",
      "source": [
        "# LSTM for Sentiment Analysis"
      ],
      "metadata": {
        "id": "cCAbMc5gD32H"
      }
    },
    {
      "cell_type": "markdown",
      "source": [
        "## El conjunto de datos"
      ],
      "metadata": {
        "id": "Tje27BV-GVdi"
      }
    },
    {
      "cell_type": "markdown",
      "source": [
        "IMDB\n",
        "\n",
        "* Original source: http://ai.stanford.edu/~amaas/data/sentiment/\n",
        "* Kaggle: https://www.kaggle.com/datasets/lakshmi25npathi/imdb-dataset-of-50k-movie-reviews"
      ],
      "metadata": {
        "id": "xmH2IBtuGXaQ"
      }
    },
    {
      "cell_type": "markdown",
      "source": [
        "Bajamos este archivo desde Drive. En caso de tener problemas con el siguiente comando, puedes bajar el archivo de [aquí](https://drive.google.com/uc?id=1TewLD3BbgqV1t2I905Al3vm_VqUzoPzg) y luego subirlo manualmente a Colab."
      ],
      "metadata": {
        "id": "wmtR29HCIDIp"
      }
    },
    {
      "cell_type": "code",
      "source": [
        "!pip install -q gdown"
      ],
      "metadata": {
        "id": "cs_gYXs9bSUb"
      },
      "execution_count": 4,
      "outputs": []
    },
    {
      "cell_type": "code",
      "source": [
        "!gdown 1TewLD3BbgqV1t2I905Al3vm_VqUzoPzg"
      ],
      "metadata": {
        "id": "QscswTFwBSQM",
        "colab": {
          "base_uri": "https://localhost:8080/"
        },
        "outputId": "2602ee20-7ade-45bd-a0c3-9026dcd19352"
      },
      "execution_count": 5,
      "outputs": [
        {
          "output_type": "stream",
          "name": "stdout",
          "text": [
            "Downloading...\n",
            "From: https://drive.google.com/uc?id=1TewLD3BbgqV1t2I905Al3vm_VqUzoPzg\n",
            "To: /content/IMDB Dataset.csv\n",
            "100% 66.2M/66.2M [00:03<00:00, 17.7MB/s]\n"
          ]
        }
      ]
    },
    {
      "cell_type": "markdown",
      "source": [
        "Leemos el dataframe"
      ],
      "metadata": {
        "id": "P5-xL-av1NaY"
      }
    },
    {
      "cell_type": "code",
      "source": [
        "import pandas as pd\n",
        "\n",
        "df = pd.read_csv('/content/IMDB Dataset.csv')\n",
        "display(df)"
      ],
      "metadata": {
        "id": "l4E4bIiAZuUf",
        "colab": {
          "base_uri": "https://localhost:8080/",
          "height": 444
        },
        "outputId": "7abbdbab-bbde-45dd-afea-540eddc5c83e"
      },
      "execution_count": 6,
      "outputs": [
        {
          "output_type": "display_data",
          "data": {
            "text/plain": [
              "                                                  review sentiment\n",
              "0      One of the other reviewers has mentioned that ...  positive\n",
              "1      A wonderful little production. <br /><br />The...  positive\n",
              "2      I thought this was a wonderful way to spend ti...  positive\n",
              "3      Basically there's a family where a little boy ...  negative\n",
              "4      Petter Mattei's \"Love in the Time of Money\" is...  positive\n",
              "...                                                  ...       ...\n",
              "49995  I thought this movie did a down right good job...  positive\n",
              "49996  Bad plot, bad dialogue, bad acting, idiotic di...  negative\n",
              "49997  I am a Catholic taught in parochial elementary...  negative\n",
              "49998  I'm going to have to disagree with the previou...  negative\n",
              "49999  No one expects the Star Trek movies to be high...  negative\n",
              "\n",
              "[50000 rows x 2 columns]"
            ],
            "text/html": [
              "\n",
              "  <div id=\"df-5a6f0624-4743-4bf7-a2ca-bd3dd20cc572\" class=\"colab-df-container\">\n",
              "    <div>\n",
              "<style scoped>\n",
              "    .dataframe tbody tr th:only-of-type {\n",
              "        vertical-align: middle;\n",
              "    }\n",
              "\n",
              "    .dataframe tbody tr th {\n",
              "        vertical-align: top;\n",
              "    }\n",
              "\n",
              "    .dataframe thead th {\n",
              "        text-align: right;\n",
              "    }\n",
              "</style>\n",
              "<table border=\"1\" class=\"dataframe\">\n",
              "  <thead>\n",
              "    <tr style=\"text-align: right;\">\n",
              "      <th></th>\n",
              "      <th>review</th>\n",
              "      <th>sentiment</th>\n",
              "    </tr>\n",
              "  </thead>\n",
              "  <tbody>\n",
              "    <tr>\n",
              "      <th>0</th>\n",
              "      <td>One of the other reviewers has mentioned that ...</td>\n",
              "      <td>positive</td>\n",
              "    </tr>\n",
              "    <tr>\n",
              "      <th>1</th>\n",
              "      <td>A wonderful little production. &lt;br /&gt;&lt;br /&gt;The...</td>\n",
              "      <td>positive</td>\n",
              "    </tr>\n",
              "    <tr>\n",
              "      <th>2</th>\n",
              "      <td>I thought this was a wonderful way to spend ti...</td>\n",
              "      <td>positive</td>\n",
              "    </tr>\n",
              "    <tr>\n",
              "      <th>3</th>\n",
              "      <td>Basically there's a family where a little boy ...</td>\n",
              "      <td>negative</td>\n",
              "    </tr>\n",
              "    <tr>\n",
              "      <th>4</th>\n",
              "      <td>Petter Mattei's \"Love in the Time of Money\" is...</td>\n",
              "      <td>positive</td>\n",
              "    </tr>\n",
              "    <tr>\n",
              "      <th>...</th>\n",
              "      <td>...</td>\n",
              "      <td>...</td>\n",
              "    </tr>\n",
              "    <tr>\n",
              "      <th>49995</th>\n",
              "      <td>I thought this movie did a down right good job...</td>\n",
              "      <td>positive</td>\n",
              "    </tr>\n",
              "    <tr>\n",
              "      <th>49996</th>\n",
              "      <td>Bad plot, bad dialogue, bad acting, idiotic di...</td>\n",
              "      <td>negative</td>\n",
              "    </tr>\n",
              "    <tr>\n",
              "      <th>49997</th>\n",
              "      <td>I am a Catholic taught in parochial elementary...</td>\n",
              "      <td>negative</td>\n",
              "    </tr>\n",
              "    <tr>\n",
              "      <th>49998</th>\n",
              "      <td>I'm going to have to disagree with the previou...</td>\n",
              "      <td>negative</td>\n",
              "    </tr>\n",
              "    <tr>\n",
              "      <th>49999</th>\n",
              "      <td>No one expects the Star Trek movies to be high...</td>\n",
              "      <td>negative</td>\n",
              "    </tr>\n",
              "  </tbody>\n",
              "</table>\n",
              "<p>50000 rows × 2 columns</p>\n",
              "</div>\n",
              "    <div class=\"colab-df-buttons\">\n",
              "\n",
              "  <div class=\"colab-df-container\">\n",
              "    <button class=\"colab-df-convert\" onclick=\"convertToInteractive('df-5a6f0624-4743-4bf7-a2ca-bd3dd20cc572')\"\n",
              "            title=\"Convert this dataframe to an interactive table.\"\n",
              "            style=\"display:none;\">\n",
              "\n",
              "  <svg xmlns=\"http://www.w3.org/2000/svg\" height=\"24px\" viewBox=\"0 -960 960 960\">\n",
              "    <path d=\"M120-120v-720h720v720H120Zm60-500h600v-160H180v160Zm220 220h160v-160H400v160Zm0 220h160v-160H400v160ZM180-400h160v-160H180v160Zm440 0h160v-160H620v160ZM180-180h160v-160H180v160Zm440 0h160v-160H620v160Z\"/>\n",
              "  </svg>\n",
              "    </button>\n",
              "\n",
              "  <style>\n",
              "    .colab-df-container {\n",
              "      display:flex;\n",
              "      gap: 12px;\n",
              "    }\n",
              "\n",
              "    .colab-df-convert {\n",
              "      background-color: #E8F0FE;\n",
              "      border: none;\n",
              "      border-radius: 50%;\n",
              "      cursor: pointer;\n",
              "      display: none;\n",
              "      fill: #1967D2;\n",
              "      height: 32px;\n",
              "      padding: 0 0 0 0;\n",
              "      width: 32px;\n",
              "    }\n",
              "\n",
              "    .colab-df-convert:hover {\n",
              "      background-color: #E2EBFA;\n",
              "      box-shadow: 0px 1px 2px rgba(60, 64, 67, 0.3), 0px 1px 3px 1px rgba(60, 64, 67, 0.15);\n",
              "      fill: #174EA6;\n",
              "    }\n",
              "\n",
              "    .colab-df-buttons div {\n",
              "      margin-bottom: 4px;\n",
              "    }\n",
              "\n",
              "    [theme=dark] .colab-df-convert {\n",
              "      background-color: #3B4455;\n",
              "      fill: #D2E3FC;\n",
              "    }\n",
              "\n",
              "    [theme=dark] .colab-df-convert:hover {\n",
              "      background-color: #434B5C;\n",
              "      box-shadow: 0px 1px 3px 1px rgba(0, 0, 0, 0.15);\n",
              "      filter: drop-shadow(0px 1px 2px rgba(0, 0, 0, 0.3));\n",
              "      fill: #FFFFFF;\n",
              "    }\n",
              "  </style>\n",
              "\n",
              "    <script>\n",
              "      const buttonEl =\n",
              "        document.querySelector('#df-5a6f0624-4743-4bf7-a2ca-bd3dd20cc572 button.colab-df-convert');\n",
              "      buttonEl.style.display =\n",
              "        google.colab.kernel.accessAllowed ? 'block' : 'none';\n",
              "\n",
              "      async function convertToInteractive(key) {\n",
              "        const element = document.querySelector('#df-5a6f0624-4743-4bf7-a2ca-bd3dd20cc572');\n",
              "        const dataTable =\n",
              "          await google.colab.kernel.invokeFunction('convertToInteractive',\n",
              "                                                    [key], {});\n",
              "        if (!dataTable) return;\n",
              "\n",
              "        const docLinkHtml = 'Like what you see? Visit the ' +\n",
              "          '<a target=\"_blank\" href=https://colab.research.google.com/notebooks/data_table.ipynb>data table notebook</a>'\n",
              "          + ' to learn more about interactive tables.';\n",
              "        element.innerHTML = '';\n",
              "        dataTable['output_type'] = 'display_data';\n",
              "        await google.colab.output.renderOutput(dataTable, element);\n",
              "        const docLink = document.createElement('div');\n",
              "        docLink.innerHTML = docLinkHtml;\n",
              "        element.appendChild(docLink);\n",
              "      }\n",
              "    </script>\n",
              "  </div>\n",
              "\n",
              "\n",
              "<div id=\"df-f5ab0dff-a790-42e0-960a-2732c594892a\">\n",
              "  <button class=\"colab-df-quickchart\" onclick=\"quickchart('df-f5ab0dff-a790-42e0-960a-2732c594892a')\"\n",
              "            title=\"Suggest charts\"\n",
              "            style=\"display:none;\">\n",
              "\n",
              "<svg xmlns=\"http://www.w3.org/2000/svg\" height=\"24px\"viewBox=\"0 0 24 24\"\n",
              "     width=\"24px\">\n",
              "    <g>\n",
              "        <path d=\"M19 3H5c-1.1 0-2 .9-2 2v14c0 1.1.9 2 2 2h14c1.1 0 2-.9 2-2V5c0-1.1-.9-2-2-2zM9 17H7v-7h2v7zm4 0h-2V7h2v10zm4 0h-2v-4h2v4z\"/>\n",
              "    </g>\n",
              "</svg>\n",
              "  </button>\n",
              "\n",
              "<style>\n",
              "  .colab-df-quickchart {\n",
              "      --bg-color: #E8F0FE;\n",
              "      --fill-color: #1967D2;\n",
              "      --hover-bg-color: #E2EBFA;\n",
              "      --hover-fill-color: #174EA6;\n",
              "      --disabled-fill-color: #AAA;\n",
              "      --disabled-bg-color: #DDD;\n",
              "  }\n",
              "\n",
              "  [theme=dark] .colab-df-quickchart {\n",
              "      --bg-color: #3B4455;\n",
              "      --fill-color: #D2E3FC;\n",
              "      --hover-bg-color: #434B5C;\n",
              "      --hover-fill-color: #FFFFFF;\n",
              "      --disabled-bg-color: #3B4455;\n",
              "      --disabled-fill-color: #666;\n",
              "  }\n",
              "\n",
              "  .colab-df-quickchart {\n",
              "    background-color: var(--bg-color);\n",
              "    border: none;\n",
              "    border-radius: 50%;\n",
              "    cursor: pointer;\n",
              "    display: none;\n",
              "    fill: var(--fill-color);\n",
              "    height: 32px;\n",
              "    padding: 0;\n",
              "    width: 32px;\n",
              "  }\n",
              "\n",
              "  .colab-df-quickchart:hover {\n",
              "    background-color: var(--hover-bg-color);\n",
              "    box-shadow: 0 1px 2px rgba(60, 64, 67, 0.3), 0 1px 3px 1px rgba(60, 64, 67, 0.15);\n",
              "    fill: var(--button-hover-fill-color);\n",
              "  }\n",
              "\n",
              "  .colab-df-quickchart-complete:disabled,\n",
              "  .colab-df-quickchart-complete:disabled:hover {\n",
              "    background-color: var(--disabled-bg-color);\n",
              "    fill: var(--disabled-fill-color);\n",
              "    box-shadow: none;\n",
              "  }\n",
              "\n",
              "  .colab-df-spinner {\n",
              "    border: 2px solid var(--fill-color);\n",
              "    border-color: transparent;\n",
              "    border-bottom-color: var(--fill-color);\n",
              "    animation:\n",
              "      spin 1s steps(1) infinite;\n",
              "  }\n",
              "\n",
              "  @keyframes spin {\n",
              "    0% {\n",
              "      border-color: transparent;\n",
              "      border-bottom-color: var(--fill-color);\n",
              "      border-left-color: var(--fill-color);\n",
              "    }\n",
              "    20% {\n",
              "      border-color: transparent;\n",
              "      border-left-color: var(--fill-color);\n",
              "      border-top-color: var(--fill-color);\n",
              "    }\n",
              "    30% {\n",
              "      border-color: transparent;\n",
              "      border-left-color: var(--fill-color);\n",
              "      border-top-color: var(--fill-color);\n",
              "      border-right-color: var(--fill-color);\n",
              "    }\n",
              "    40% {\n",
              "      border-color: transparent;\n",
              "      border-right-color: var(--fill-color);\n",
              "      border-top-color: var(--fill-color);\n",
              "    }\n",
              "    60% {\n",
              "      border-color: transparent;\n",
              "      border-right-color: var(--fill-color);\n",
              "    }\n",
              "    80% {\n",
              "      border-color: transparent;\n",
              "      border-right-color: var(--fill-color);\n",
              "      border-bottom-color: var(--fill-color);\n",
              "    }\n",
              "    90% {\n",
              "      border-color: transparent;\n",
              "      border-bottom-color: var(--fill-color);\n",
              "    }\n",
              "  }\n",
              "</style>\n",
              "\n",
              "  <script>\n",
              "    async function quickchart(key) {\n",
              "      const quickchartButtonEl =\n",
              "        document.querySelector('#' + key + ' button');\n",
              "      quickchartButtonEl.disabled = true;  // To prevent multiple clicks.\n",
              "      quickchartButtonEl.classList.add('colab-df-spinner');\n",
              "      try {\n",
              "        const charts = await google.colab.kernel.invokeFunction(\n",
              "            'suggestCharts', [key], {});\n",
              "      } catch (error) {\n",
              "        console.error('Error during call to suggestCharts:', error);\n",
              "      }\n",
              "      quickchartButtonEl.classList.remove('colab-df-spinner');\n",
              "      quickchartButtonEl.classList.add('colab-df-quickchart-complete');\n",
              "    }\n",
              "    (() => {\n",
              "      let quickchartButtonEl =\n",
              "        document.querySelector('#df-f5ab0dff-a790-42e0-960a-2732c594892a button');\n",
              "      quickchartButtonEl.style.display =\n",
              "        google.colab.kernel.accessAllowed ? 'block' : 'none';\n",
              "    })();\n",
              "  </script>\n",
              "</div>\n",
              "\n",
              "  <div id=\"id_3cceaa21-6b26-4c38-b42f-e490feb82817\">\n",
              "    <style>\n",
              "      .colab-df-generate {\n",
              "        background-color: #E8F0FE;\n",
              "        border: none;\n",
              "        border-radius: 50%;\n",
              "        cursor: pointer;\n",
              "        display: none;\n",
              "        fill: #1967D2;\n",
              "        height: 32px;\n",
              "        padding: 0 0 0 0;\n",
              "        width: 32px;\n",
              "      }\n",
              "\n",
              "      .colab-df-generate:hover {\n",
              "        background-color: #E2EBFA;\n",
              "        box-shadow: 0px 1px 2px rgba(60, 64, 67, 0.3), 0px 1px 3px 1px rgba(60, 64, 67, 0.15);\n",
              "        fill: #174EA6;\n",
              "      }\n",
              "\n",
              "      [theme=dark] .colab-df-generate {\n",
              "        background-color: #3B4455;\n",
              "        fill: #D2E3FC;\n",
              "      }\n",
              "\n",
              "      [theme=dark] .colab-df-generate:hover {\n",
              "        background-color: #434B5C;\n",
              "        box-shadow: 0px 1px 3px 1px rgba(0, 0, 0, 0.15);\n",
              "        filter: drop-shadow(0px 1px 2px rgba(0, 0, 0, 0.3));\n",
              "        fill: #FFFFFF;\n",
              "      }\n",
              "    </style>\n",
              "    <button class=\"colab-df-generate\" onclick=\"generateWithVariable('df')\"\n",
              "            title=\"Generate code using this dataframe.\"\n",
              "            style=\"display:none;\">\n",
              "\n",
              "  <svg xmlns=\"http://www.w3.org/2000/svg\" height=\"24px\"viewBox=\"0 0 24 24\"\n",
              "       width=\"24px\">\n",
              "    <path d=\"M7,19H8.4L18.45,9,17,7.55,7,17.6ZM5,21V16.75L18.45,3.32a2,2,0,0,1,2.83,0l1.4,1.43a1.91,1.91,0,0,1,.58,1.4,1.91,1.91,0,0,1-.58,1.4L9.25,21ZM18.45,9,17,7.55Zm-12,3A5.31,5.31,0,0,0,4.9,8.1,5.31,5.31,0,0,0,1,6.5,5.31,5.31,0,0,0,4.9,4.9,5.31,5.31,0,0,0,6.5,1,5.31,5.31,0,0,0,8.1,4.9,5.31,5.31,0,0,0,12,6.5,5.46,5.46,0,0,0,6.5,12Z\"/>\n",
              "  </svg>\n",
              "    </button>\n",
              "    <script>\n",
              "      (() => {\n",
              "      const buttonEl =\n",
              "        document.querySelector('#id_3cceaa21-6b26-4c38-b42f-e490feb82817 button.colab-df-generate');\n",
              "      buttonEl.style.display =\n",
              "        google.colab.kernel.accessAllowed ? 'block' : 'none';\n",
              "\n",
              "      buttonEl.onclick = () => {\n",
              "        google.colab.notebook.generateWithVariable('df');\n",
              "      }\n",
              "      })();\n",
              "    </script>\n",
              "  </div>\n",
              "\n",
              "    </div>\n",
              "  </div>\n"
            ],
            "application/vnd.google.colaboratory.intrinsic+json": {
              "type": "dataframe",
              "variable_name": "df",
              "summary": "{\n  \"name\": \"df\",\n  \"rows\": 50000,\n  \"fields\": [\n    {\n      \"column\": \"review\",\n      \"properties\": {\n        \"dtype\": \"string\",\n        \"num_unique_values\": 49582,\n        \"samples\": [\n          \"\\\"Soul Plane\\\" is a horrible attempt at comedy that only should appeal people with thick skulls, bloodshot eyes and furry pawns. <br /><br />The plot is not only incoherent but also non-existent, acting is mostly sub sub-par with a gang of highly moronic and dreadful characters thrown in for bad measure, jokes are often spotted miles ahead and almost never even a bit amusing. This movie lacks any structure and is full of racial stereotypes that must have seemed old even in the fifties, the only thing it really has going for it is some pretty ladies, but really, if you want that you can rent something from the \\\"Adult\\\" section. OK?<br /><br />I can hardly see anything here to recommend since you'll probably have a lot a better and productive time chasing rats with a sledgehammer or inventing waterproof teabags or whatever.<br /><br />2/10\",\n          \"Guest from the Future tells a fascinating story of time travel, friendship, battle of good and evil -- all with a small budget, child actors, and few special effects. Something for Spielberg and Lucas to learn from. ;) A sixth-grader Kolya \\\"Nick\\\" Gerasimov finds a time machine in the basement of a decrepit building and travels 100 years into the future. He discovers a near-perfect, utopian society where robots play guitars and write poetry, everyone is kind to each other and people enjoy everything technology has to offer. Alice is the daughter of a prominent scientist who invented a device called Mielophone that allows to read minds of humans and animals. The device can be put to both good and bad use, depending on whose hands it falls into. When two evil space pirates from Saturn who want to rule the universe attempt to steal Mielophone, it falls into the hands of 20th century school boy Nick. With the pirates hot on his tracks, he travels back to his time, followed by the pirates, and Alice. Chaos, confusion and funny situations follow as the luckless pirates try to blend in with the earthlings. Alice enrolls in the same school Nick goes to and demonstrates superhuman abilities in PE class. The catch is, Alice doesn't know what Nick looks like, while the pirates do. Also, the pirates are able to change their appearance and turn literally into anyone. (Hmm, I wonder if this is where James Cameron got the idea for Terminator...) Who gets to Nick -- and Mielophone -- first? Excellent plot, non-stop adventures, and great soundtrack. I wish Hollywood made kid movies like this one...\",\n          \"\\\"National Treasure\\\" (2004) is a thoroughly misguided hodge-podge of plot entanglements that borrow from nearly every cloak and dagger government conspiracy clich\\u00e9 that has ever been written. The film stars Nicholas Cage as Benjamin Franklin Gates (how precious is that, I ask you?); a seemingly normal fellow who, for no other reason than being of a lineage of like-minded misguided fortune hunters, decides to steal a 'national treasure' that has been hidden by the United States founding fathers. After a bit of subtext and background that plays laughably (unintentionally) like Indiana Jones meets The Patriot, the film degenerates into one misguided whimsy after another \\u0096 attempting to create a 'Stanley Goodspeed' regurgitation of Nicholas Cage and launch the whole convoluted mess forward with a series of high octane, but disconnected misadventures.<br /><br />The relevancy and logic to having George Washington and his motley crew of patriots burying a king's ransom someplace on native soil, and then, going through the meticulous plan of leaving clues scattered throughout U.S. currency art work, is something that director Jon Turteltaub never quite gets around to explaining. Couldn't Washington found better usage for such wealth during the start up of the country? Hence, we are left with a mystery built on top of an enigma that is already on shaky ground by the time Ben appoints himself the new custodian of this untold wealth. Ben's intentions are noble \\u0096 if confusing. He's set on protecting the treasure. For who and when?\\u0085your guess is as good as mine.<br /><br />But there are a few problems with Ben's crusade. First up, his friend, Ian Holmes (Sean Bean) decides that he can't wait for Ben to make up his mind about stealing the Declaration of Independence from the National Archives (oh, yeah \\u0096 brilliant idea!). Presumably, the back of that famous document holds the secret answer to the ultimate fortune. So Ian tries to kill Ben. The assassination attempt is, of course, unsuccessful, if overly melodramatic. It also affords Ben the opportunity to pick up, and pick on, the very sultry curator of the archives, Abigail Chase (Diane Kruger). She thinks Ben is clearly a nut \\u0096 at least at the beginning. But true to action/romance form, Abby's resolve melts quicker than you can say, \\\"is that the Hope Diamond?\\\" The film moves into full X-File-ish mode, as the FBI, mistakenly believing that Ben is behind the theft, retaliate in various benign ways that lead to a multi-layering of action sequences reminiscent of Mission Impossible meets The Fugitive. Honestly, don't those guys ever get 'intelligence' information that is correct? In the final analysis, \\\"National Treasure\\\" isn't great film making, so much as it's a patchwork rehash of tired old bits from other movies, woven together from scraps, the likes of which would make IL' Betsy Ross blush.<br /><br />The Buena Vista DVD delivers a far more generous treatment than this film is deserving of. The anamorphic widescreen picture exhibits a very smooth and finely detailed image with very rich colors, natural flesh tones, solid blacks and clean whites. The stylized image is also free of blemishes and digital enhancements. The audio is 5.1 and delivers a nice sonic boom to your side and rear speakers with intensity and realism. Extras include a host of promotional junket material that is rather deep and over the top in its explanation of how and why this film was made. If only, as an audience, we had had more clarification as to why Ben and co. were chasing after an illusive treasure, this might have been one good flick. Extras conclude with the theatrical trailer, audio commentary and deleted scenes. Not for the faint-hearted \\u0096 just the thick-headed.\"\n        ],\n        \"semantic_type\": \"\",\n        \"description\": \"\"\n      }\n    },\n    {\n      \"column\": \"sentiment\",\n      \"properties\": {\n        \"dtype\": \"category\",\n        \"num_unique_values\": 2,\n        \"samples\": [\n          \"negative\",\n          \"positive\"\n        ],\n        \"semantic_type\": \"\",\n        \"description\": \"\"\n      }\n    }\n  ]\n}"
            }
          },
          "metadata": {}
        }
      ]
    },
    {
      "cell_type": "markdown",
      "source": [
        "Tenemos dos clases. Es un problema de clasificación binaria"
      ],
      "metadata": {
        "id": "CD4QuvXuiteD"
      }
    },
    {
      "cell_type": "code",
      "source": [
        "df['sentiment'].unique()"
      ],
      "metadata": {
        "colab": {
          "base_uri": "https://localhost:8080/"
        },
        "id": "tomZPOEIijlR",
        "outputId": "461b9c5f-80dd-4a52-9d5d-c4ab582d8883"
      },
      "execution_count": 7,
      "outputs": [
        {
          "output_type": "execute_result",
          "data": {
            "text/plain": [
              "array(['positive', 'negative'], dtype=object)"
            ]
          },
          "metadata": {},
          "execution_count": 7
        }
      ]
    },
    {
      "cell_type": "markdown",
      "source": [
        "Las clases están balanceadas"
      ],
      "metadata": {
        "id": "fxBUbJTYkbrU"
      }
    },
    {
      "cell_type": "code",
      "source": [
        "import seaborn as sns\n",
        "\n",
        "sns.histplot(df['sentiment'].values)\n",
        "plt.show()"
      ],
      "metadata": {
        "id": "cpKZ7laCj-4v",
        "colab": {
          "base_uri": "https://localhost:8080/",
          "height": 450
        },
        "outputId": "5cdafe0e-4d58-4e96-b583-25a63bc954da"
      },
      "execution_count": 8,
      "outputs": [
        {
          "output_type": "display_data",
          "data": {
            "text/plain": [
              "<Figure size 640x480 with 1 Axes>"
            ],
            "image/png": "[encoded data removed]"
          },
          "metadata": {}
        }
      ]
    },
    {
      "cell_type": "code",
      "source": [
        "from sklearn.preprocessing import LabelEncoder\n",
        "\n",
        "labels = df['sentiment'].values\n",
        "encoder = LabelEncoder()\n",
        "encoded_labels = encoder.fit_transform(labels)"
      ],
      "metadata": {
        "id": "MHnnTxIBqTrr"
      },
      "execution_count": 9,
      "outputs": []
    },
    {
      "cell_type": "code",
      "source": [
        "print(f\"Before encoding {labels[:3]}\")\n",
        "print(f\"After encoding {encoded_labels[:3]}\")"
      ],
      "metadata": {
        "id": "Xsxqt7-75H21",
        "colab": {
          "base_uri": "https://localhost:8080/"
        },
        "outputId": "1e156281-e935-4f95-bce4-39229f1ad40d"
      },
      "execution_count": 10,
      "outputs": [
        {
          "output_type": "stream",
          "name": "stdout",
          "text": [
            "Before encoding ['positive' 'positive' 'positive']\n",
            "After encoding [1 1 1]\n"
          ]
        }
      ]
    },
    {
      "cell_type": "markdown",
      "source": [
        "## Limpiar texto"
      ],
      "metadata": {
        "id": "-7oXHUhEc2VU"
      }
    },
    {
      "cell_type": "code",
      "source": [
        "import nltk\n",
        "\n",
        "nltk.download('stopwords')\n",
        "nltk.download('punkt')\n",
        "nltk.download('wordnet')\n",
        "nltk.download('omw-1.4')"
      ],
      "metadata": {
        "id": "lKRYt1e9c2Ah",
        "colab": {
          "base_uri": "https://localhost:8080/"
        },
        "outputId": "b067035e-2cd4-4d9b-e9f1-89a8f0bb3e81"
      },
      "execution_count": 11,
      "outputs": [
        {
          "output_type": "stream",
          "name": "stderr",
          "text": [
            "[nltk_data] Downloading package stopwords to /root/nltk_data...\n",
            "[nltk_data]   Unzipping corpora/stopwords.zip.\n",
            "[nltk_data] Downloading package punkt to /root/nltk_data...\n",
            "[nltk_data]   Unzipping tokenizers/punkt.zip.\n",
            "[nltk_data] Downloading package wordnet to /root/nltk_data...\n",
            "[nltk_data] Downloading package omw-1.4 to /root/nltk_data...\n"
          ]
        },
        {
          "output_type": "execute_result",
          "data": {
            "text/plain": [
              "True"
            ]
          },
          "metadata": {},
          "execution_count": 11
        }
      ]
    },
    {
      "cell_type": "markdown",
      "source": [
        "Limpiamos quitando stopwords, símbolos, tags HTML, etc usando herramientas del módulo `nltk`. Para hacer la limpieza también usamos expresiones regulares *regex*. Puedes practicar el uso de expresiones regulares [aquí](https://regex101.com/)."
      ],
      "metadata": {
        "id": "MIdZY2ozl6su"
      }
    },
    {
      "cell_type": "code",
      "source": [
        "import nltk\n",
        "from nltk.corpus import stopwords\n",
        "from nltk.tokenize import word_tokenize\n",
        "import re\n",
        "\n",
        "CLEANR = re.compile('<.*?>|&([a-z0-9]+|#[0-9]{1,6}|#x[0-9a-f]{1,6});')\n",
        "\n",
        "w_tokenizer = nltk.tokenize.WhitespaceTokenizer()\n",
        "lemmatizer = nltk.stem.WordNetLemmatizer()\n",
        "\n",
        "def clean(text):\n",
        "    clean_text = re.sub(CLEANR, '', text.lower()) # Quitamos etiquetas HTML\n",
        "    clean_text = re.sub(r'[^\\w\\s]', '', clean_text.lower()) # Quitamos signos de puntuación y símbolos\n",
        "    clean_text = re.sub('[0-9]', '', clean_text.lower())  # Quitamos números\n",
        "    SW = stopwords.words('english') # Leemos la lista de stopwords del inglés\n",
        "    tokens_no_sw = [word for word in word_tokenize(clean_text) if not word in SW] # Quitamos stopwords\n",
        "    stems = \"\"\n",
        "    for w in tokens_no_sw:\n",
        "        stems += lemmatizer.lemmatize(w) + \" \"\n",
        "    return stems"
      ],
      "metadata": {
        "id": "M_P3nmmIi7PU"
      },
      "execution_count": 12,
      "outputs": []
    },
    {
      "cell_type": "markdown",
      "source": [
        "Aplicamos la función de limpieza, tarda alrededor de 1 minuto"
      ],
      "metadata": {
        "id": "Mv1LPJh5Z5Fl"
      }
    },
    {
      "cell_type": "code",
      "source": [
        "df['clean'] = df['review'].apply(clean)\n",
        "df"
      ],
      "metadata": {
        "id": "v3gnQqwbnAt3",
        "colab": {
          "base_uri": "https://localhost:8080/",
          "height": 444
        },
        "outputId": "a47e9747-d29c-492d-b8d9-d8f35db53e4e"
      },
      "execution_count": 13,
      "outputs": [
        {
          "output_type": "execute_result",
          "data": {
            "text/plain": [
              "                                                  review sentiment  \\\n",
              "0      One of the other reviewers has mentioned that ...  positive   \n",
              "1      A wonderful little production. <br /><br />The...  positive   \n",
              "2      I thought this was a wonderful way to spend ti...  positive   \n",
              "3      Basically there's a family where a little boy ...  negative   \n",
              "4      Petter Mattei's \"Love in the Time of Money\" is...  positive   \n",
              "...                                                  ...       ...   \n",
              "49995  I thought this movie did a down right good job...  positive   \n",
              "49996  Bad plot, bad dialogue, bad acting, idiotic di...  negative   \n",
              "49997  I am a Catholic taught in parochial elementary...  negative   \n",
              "49998  I'm going to have to disagree with the previou...  negative   \n",
              "49999  No one expects the Star Trek movies to be high...  negative   \n",
              "\n",
              "                                                   clean  \n",
              "0      one reviewer mentioned watching oz episode you...  \n",
              "1      wonderful little production filming technique ...  \n",
              "2      thought wonderful way spend time hot summer we...  \n",
              "3      basically there family little boy jake think t...  \n",
              "4      petter matteis love time money visually stunni...  \n",
              "...                                                  ...  \n",
              "49995  thought movie right good job wasnt creative or...  \n",
              "49996  bad plot bad dialogue bad acting idiotic direc...  \n",
              "49997  catholic taught parochial elementary school nu...  \n",
              "49998  im going disagree previous comment side maltin...  \n",
              "49999  one expects star trek movie high art fan expec...  \n",
              "\n",
              "[50000 rows x 3 columns]"
            ],
            "text/html": [
              "\n",
              "  <div id=\"df-cd3ada74-e959-4709-83c4-15d4c8c48c88\" class=\"colab-df-container\">\n",
              "    <div>\n",
              "<style scoped>\n",
              "    .dataframe tbody tr th:only-of-type {\n",
              "        vertical-align: middle;\n",
              "    }\n",
              "\n",
              "    .dataframe tbody tr th {\n",
              "        vertical-align: top;\n",
              "    }\n",
              "\n",
              "    .dataframe thead th {\n",
              "        text-align: right;\n",
              "    }\n",
              "</style>\n",
              "<table border=\"1\" class=\"dataframe\">\n",
              "  <thead>\n",
              "    <tr style=\"text-align: right;\">\n",
              "      <th></th>\n",
              "      <th>review</th>\n",
              "      <th>sentiment</th>\n",
              "      <th>clean</th>\n",
              "    </tr>\n",
              "  </thead>\n",
              "  <tbody>\n",
              "    <tr>\n",
              "      <th>0</th>\n",
              "      <td>One of the other reviewers has mentioned that ...</td>\n",
              "      <td>positive</td>\n",
              "      <td>one reviewer mentioned watching oz episode you...</td>\n",
              "    </tr>\n",
              "    <tr>\n",
              "      <th>1</th>\n",
              "      <td>A wonderful little production. &lt;br /&gt;&lt;br /&gt;The...</td>\n",
              "      <td>positive</td>\n",
              "      <td>wonderful little production filming technique ...</td>\n",
              "    </tr>\n",
              "    <tr>\n",
              "      <th>2</th>\n",
              "      <td>I thought this was a wonderful way to spend ti...</td>\n",
              "      <td>positive</td>\n",
              "      <td>thought wonderful way spend time hot summer we...</td>\n",
              "    </tr>\n",
              "    <tr>\n",
              "      <th>3</th>\n",
              "      <td>Basically there's a family where a little boy ...</td>\n",
              "      <td>negative</td>\n",
              "      <td>basically there family little boy jake think t...</td>\n",
              "    </tr>\n",
              "    <tr>\n",
              "      <th>4</th>\n",
              "      <td>Petter Mattei's \"Love in the Time of Money\" is...</td>\n",
              "      <td>positive</td>\n",
              "      <td>petter matteis love time money visually stunni...</td>\n",
              "    </tr>\n",
              "    <tr>\n",
              "      <th>...</th>\n",
              "      <td>...</td>\n",
              "      <td>...</td>\n",
              "      <td>...</td>\n",
              "    </tr>\n",
              "    <tr>\n",
              "      <th>49995</th>\n",
              "      <td>I thought this movie did a down right good job...</td>\n",
              "      <td>positive</td>\n",
              "      <td>thought movie right good job wasnt creative or...</td>\n",
              "    </tr>\n",
              "    <tr>\n",
              "      <th>49996</th>\n",
              "      <td>Bad plot, bad dialogue, bad acting, idiotic di...</td>\n",
              "      <td>negative</td>\n",
              "      <td>bad plot bad dialogue bad acting idiotic direc...</td>\n",
              "    </tr>\n",
              "    <tr>\n",
              "      <th>49997</th>\n",
              "      <td>I am a Catholic taught in parochial elementary...</td>\n",
              "      <td>negative</td>\n",
              "      <td>catholic taught parochial elementary school nu...</td>\n",
              "    </tr>\n",
              "    <tr>\n",
              "      <th>49998</th>\n",
              "      <td>I'm going to have to disagree with the previou...</td>\n",
              "      <td>negative</td>\n",
              "      <td>im going disagree previous comment side maltin...</td>\n",
              "    </tr>\n",
              "    <tr>\n",
              "      <th>49999</th>\n",
              "      <td>No one expects the Star Trek movies to be high...</td>\n",
              "      <td>negative</td>\n",
              "      <td>one expects star trek movie high art fan expec...</td>\n",
              "    </tr>\n",
              "  </tbody>\n",
              "</table>\n",
              "<p>50000 rows × 3 columns</p>\n",
              "</div>\n",
              "    <div class=\"colab-df-buttons\">\n",
              "\n",
              "  <div class=\"colab-df-container\">\n",
              "    <button class=\"colab-df-convert\" onclick=\"convertToInteractive('df-cd3ada74-e959-4709-83c4-15d4c8c48c88')\"\n",
              "            title=\"Convert this dataframe to an interactive table.\"\n",
              "            style=\"display:none;\">\n",
              "\n",
              "  <svg xmlns=\"http://www.w3.org/2000/svg\" height=\"24px\" viewBox=\"0 -960 960 960\">\n",
              "    <path d=\"M120-120v-720h720v720H120Zm60-500h600v-160H180v160Zm220 220h160v-160H400v160Zm0 220h160v-160H400v160ZM180-400h160v-160H180v160Zm440 0h160v-160H620v160ZM180-180h160v-160H180v160Zm440 0h160v-160H620v160Z\"/>\n",
              "  </svg>\n",
              "    </button>\n",
              "\n",
              "  <style>\n",
              "    .colab-df-container {\n",
              "      display:flex;\n",
              "      gap: 12px;\n",
              "    }\n",
              "\n",
              "    .colab-df-convert {\n",
              "      background-color: #E8F0FE;\n",
              "      border: none;\n",
              "      border-radius: 50%;\n",
              "      cursor: pointer;\n",
              "      display: none;\n",
              "      fill: #1967D2;\n",
              "      height: 32px;\n",
              "      padding: 0 0 0 0;\n",
              "      width: 32px;\n",
              "    }\n",
              "\n",
              "    .colab-df-convert:hover {\n",
              "      background-color: #E2EBFA;\n",
              "      box-shadow: 0px 1px 2px rgba(60, 64, 67, 0.3), 0px 1px 3px 1px rgba(60, 64, 67, 0.15);\n",
              "      fill: #174EA6;\n",
              "    }\n",
              "\n",
              "    .colab-df-buttons div {\n",
              "      margin-bottom: 4px;\n",
              "    }\n",
              "\n",
              "    [theme=dark] .colab-df-convert {\n",
              "      background-color: #3B4455;\n",
              "      fill: #D2E3FC;\n",
              "    }\n",
              "\n",
              "    [theme=dark] .colab-df-convert:hover {\n",
              "      background-color: #434B5C;\n",
              "      box-shadow: 0px 1px 3px 1px rgba(0, 0, 0, 0.15);\n",
              "      filter: drop-shadow(0px 1px 2px rgba(0, 0, 0, 0.3));\n",
              "      fill: #FFFFFF;\n",
              "    }\n",
              "  </style>\n",
              "\n",
              "    <script>\n",
              "      const buttonEl =\n",
              "        document.querySelector('#df-cd3ada74-e959-4709-83c4-15d4c8c48c88 button.colab-df-convert');\n",
              "      buttonEl.style.display =\n",
              "        google.colab.kernel.accessAllowed ? 'block' : 'none';\n",
              "\n",
              "      async function convertToInteractive(key) {\n",
              "        const element = document.querySelector('#df-cd3ada74-e959-4709-83c4-15d4c8c48c88');\n",
              "        const dataTable =\n",
              "          await google.colab.kernel.invokeFunction('convertToInteractive',\n",
              "                                                    [key], {});\n",
              "        if (!dataTable) return;\n",
              "\n",
              "        const docLinkHtml = 'Like what you see? Visit the ' +\n",
              "          '<a target=\"_blank\" href=https://colab.research.google.com/notebooks/data_table.ipynb>data table notebook</a>'\n",
              "          + ' to learn more about interactive tables.';\n",
              "        element.innerHTML = '';\n",
              "        dataTable['output_type'] = 'display_data';\n",
              "        await google.colab.output.renderOutput(dataTable, element);\n",
              "        const docLink = document.createElement('div');\n",
              "        docLink.innerHTML = docLinkHtml;\n",
              "        element.appendChild(docLink);\n",
              "      }\n",
              "    </script>\n",
              "  </div>\n",
              "\n",
              "\n",
              "<div id=\"df-758cc64e-d225-4621-bc08-94217bd4f502\">\n",
              "  <button class=\"colab-df-quickchart\" onclick=\"quickchart('df-758cc64e-d225-4621-bc08-94217bd4f502')\"\n",
              "            title=\"Suggest charts\"\n",
              "            style=\"display:none;\">\n",
              "\n",
              "<svg xmlns=\"http://www.w3.org/2000/svg\" height=\"24px\"viewBox=\"0 0 24 24\"\n",
              "     width=\"24px\">\n",
              "    <g>\n",
              "        <path d=\"M19 3H5c-1.1 0-2 .9-2 2v14c0 1.1.9 2 2 2h14c1.1 0 2-.9 2-2V5c0-1.1-.9-2-2-2zM9 17H7v-7h2v7zm4 0h-2V7h2v10zm4 0h-2v-4h2v4z\"/>\n",
              "    </g>\n",
              "</svg>\n",
              "  </button>\n",
              "\n",
              "<style>\n",
              "  .colab-df-quickchart {\n",
              "      --bg-color: #E8F0FE;\n",
              "      --fill-color: #1967D2;\n",
              "      --hover-bg-color: #E2EBFA;\n",
              "      --hover-fill-color: #174EA6;\n",
              "      --disabled-fill-color: #AAA;\n",
              "      --disabled-bg-color: #DDD;\n",
              "  }\n",
              "\n",
              "  [theme=dark] .colab-df-quickchart {\n",
              "      --bg-color: #3B4455;\n",
              "      --fill-color: #D2E3FC;\n",
              "      --hover-bg-color: #434B5C;\n",
              "      --hover-fill-color: #FFFFFF;\n",
              "      --disabled-bg-color: #3B4455;\n",
              "      --disabled-fill-color: #666;\n",
              "  }\n",
              "\n",
              "  .colab-df-quickchart {\n",
              "    background-color: var(--bg-color);\n",
              "    border: none;\n",
              "    border-radius: 50%;\n",
              "    cursor: pointer;\n",
              "    display: none;\n",
              "    fill: var(--fill-color);\n",
              "    height: 32px;\n",
              "    padding: 0;\n",
              "    width: 32px;\n",
              "  }\n",
              "\n",
              "  .colab-df-quickchart:hover {\n",
              "    background-color: var(--hover-bg-color);\n",
              "    box-shadow: 0 1px 2px rgba(60, 64, 67, 0.3), 0 1px 3px 1px rgba(60, 64, 67, 0.15);\n",
              "    fill: var(--button-hover-fill-color);\n",
              "  }\n",
              "\n",
              "  .colab-df-quickchart-complete:disabled,\n",
              "  .colab-df-quickchart-complete:disabled:hover {\n",
              "    background-color: var(--disabled-bg-color);\n",
              "    fill: var(--disabled-fill-color);\n",
              "    box-shadow: none;\n",
              "  }\n",
              "\n",
              "  .colab-df-spinner {\n",
              "    border: 2px solid var(--fill-color);\n",
              "    border-color: transparent;\n",
              "    border-bottom-color: var(--fill-color);\n",
              "    animation:\n",
              "      spin 1s steps(1) infinite;\n",
              "  }\n",
              "\n",
              "  @keyframes spin {\n",
              "    0% {\n",
              "      border-color: transparent;\n",
              "      border-bottom-color: var(--fill-color);\n",
              "      border-left-color: var(--fill-color);\n",
              "    }\n",
              "    20% {\n",
              "      border-color: transparent;\n",
              "      border-left-color: var(--fill-color);\n",
              "      border-top-color: var(--fill-color);\n",
              "    }\n",
              "    30% {\n",
              "      border-color: transparent;\n",
              "      border-left-color: var(--fill-color);\n",
              "      border-top-color: var(--fill-color);\n",
              "      border-right-color: var(--fill-color);\n",
              "    }\n",
              "    40% {\n",
              "      border-color: transparent;\n",
              "      border-right-color: var(--fill-color);\n",
              "      border-top-color: var(--fill-color);\n",
              "    }\n",
              "    60% {\n",
              "      border-color: transparent;\n",
              "      border-right-color: var(--fill-color);\n",
              "    }\n",
              "    80% {\n",
              "      border-color: transparent;\n",
              "      border-right-color: var(--fill-color);\n",
              "      border-bottom-color: var(--fill-color);\n",
              "    }\n",
              "    90% {\n",
              "      border-color: transparent;\n",
              "      border-bottom-color: var(--fill-color);\n",
              "    }\n",
              "  }\n",
              "</style>\n",
              "\n",
              "  <script>\n",
              "    async function quickchart(key) {\n",
              "      const quickchartButtonEl =\n",
              "        document.querySelector('#' + key + ' button');\n",
              "      quickchartButtonEl.disabled = true;  // To prevent multiple clicks.\n",
              "      quickchartButtonEl.classList.add('colab-df-spinner');\n",
              "      try {\n",
              "        const charts = await google.colab.kernel.invokeFunction(\n",
              "            'suggestCharts', [key], {});\n",
              "      } catch (error) {\n",
              "        console.error('Error during call to suggestCharts:', error);\n",
              "      }\n",
              "      quickchartButtonEl.classList.remove('colab-df-spinner');\n",
              "      quickchartButtonEl.classList.add('colab-df-quickchart-complete');\n",
              "    }\n",
              "    (() => {\n",
              "      let quickchartButtonEl =\n",
              "        document.querySelector('#df-758cc64e-d225-4621-bc08-94217bd4f502 button');\n",
              "      quickchartButtonEl.style.display =\n",
              "        google.colab.kernel.accessAllowed ? 'block' : 'none';\n",
              "    })();\n",
              "  </script>\n",
              "</div>\n",
              "\n",
              "  <div id=\"id_860a3a10-8941-4afd-b5ee-e714a18837d0\">\n",
              "    <style>\n",
              "      .colab-df-generate {\n",
              "        background-color: #E8F0FE;\n",
              "        border: none;\n",
              "        border-radius: 50%;\n",
              "        cursor: pointer;\n",
              "        display: none;\n",
              "        fill: #1967D2;\n",
              "        height: 32px;\n",
              "        padding: 0 0 0 0;\n",
              "        width: 32px;\n",
              "      }\n",
              "\n",
              "      .colab-df-generate:hover {\n",
              "        background-color: #E2EBFA;\n",
              "        box-shadow: 0px 1px 2px rgba(60, 64, 67, 0.3), 0px 1px 3px 1px rgba(60, 64, 67, 0.15);\n",
              "        fill: #174EA6;\n",
              "      }\n",
              "\n",
              "      [theme=dark] .colab-df-generate {\n",
              "        background-color: #3B4455;\n",
              "        fill: #D2E3FC;\n",
              "      }\n",
              "\n",
              "      [theme=dark] .colab-df-generate:hover {\n",
              "        background-color: #434B5C;\n",
              "        box-shadow: 0px 1px 3px 1px rgba(0, 0, 0, 0.15);\n",
              "        filter: drop-shadow(0px 1px 2px rgba(0, 0, 0, 0.3));\n",
              "        fill: #FFFFFF;\n",
              "      }\n",
              "    </style>\n",
              "    <button class=\"colab-df-generate\" onclick=\"generateWithVariable('df')\"\n",
              "            title=\"Generate code using this dataframe.\"\n",
              "            style=\"display:none;\">\n",
              "\n",
              "  <svg xmlns=\"http://www.w3.org/2000/svg\" height=\"24px\"viewBox=\"0 0 24 24\"\n",
              "       width=\"24px\">\n",
              "    <path d=\"M7,19H8.4L18.45,9,17,7.55,7,17.6ZM5,21V16.75L18.45,3.32a2,2,0,0,1,2.83,0l1.4,1.43a1.91,1.91,0,0,1,.58,1.4,1.91,1.91,0,0,1-.58,1.4L9.25,21ZM18.45,9,17,7.55Zm-12,3A5.31,5.31,0,0,0,4.9,8.1,5.31,5.31,0,0,0,1,6.5,5.31,5.31,0,0,0,4.9,4.9,5.31,5.31,0,0,0,6.5,1,5.31,5.31,0,0,0,8.1,4.9,5.31,5.31,0,0,0,12,6.5,5.46,5.46,0,0,0,6.5,12Z\"/>\n",
              "  </svg>\n",
              "    </button>\n",
              "    <script>\n",
              "      (() => {\n",
              "      const buttonEl =\n",
              "        document.querySelector('#id_860a3a10-8941-4afd-b5ee-e714a18837d0 button.colab-df-generate');\n",
              "      buttonEl.style.display =\n",
              "        google.colab.kernel.accessAllowed ? 'block' : 'none';\n",
              "\n",
              "      buttonEl.onclick = () => {\n",
              "        google.colab.notebook.generateWithVariable('df');\n",
              "      }\n",
              "      })();\n",
              "    </script>\n",
              "  </div>\n",
              "\n",
              "    </div>\n",
              "  </div>\n"
            ],
            "application/vnd.google.colaboratory.intrinsic+json": {
              "type": "dataframe",
              "variable_name": "df",
              "summary": "{\n  \"name\": \"df\",\n  \"rows\": 50000,\n  \"fields\": [\n    {\n      \"column\": \"review\",\n      \"properties\": {\n        \"dtype\": \"string\",\n        \"num_unique_values\": 49582,\n        \"samples\": [\n          \"\\\"Soul Plane\\\" is a horrible attempt at comedy that only should appeal people with thick skulls, bloodshot eyes and furry pawns. <br /><br />The plot is not only incoherent but also non-existent, acting is mostly sub sub-par with a gang of highly moronic and dreadful characters thrown in for bad measure, jokes are often spotted miles ahead and almost never even a bit amusing. This movie lacks any structure and is full of racial stereotypes that must have seemed old even in the fifties, the only thing it really has going for it is some pretty ladies, but really, if you want that you can rent something from the \\\"Adult\\\" section. OK?<br /><br />I can hardly see anything here to recommend since you'll probably have a lot a better and productive time chasing rats with a sledgehammer or inventing waterproof teabags or whatever.<br /><br />2/10\",\n          \"Guest from the Future tells a fascinating story of time travel, friendship, battle of good and evil -- all with a small budget, child actors, and few special effects. Something for Spielberg and Lucas to learn from. ;) A sixth-grader Kolya \\\"Nick\\\" Gerasimov finds a time machine in the basement of a decrepit building and travels 100 years into the future. He discovers a near-perfect, utopian society where robots play guitars and write poetry, everyone is kind to each other and people enjoy everything technology has to offer. Alice is the daughter of a prominent scientist who invented a device called Mielophone that allows to read minds of humans and animals. The device can be put to both good and bad use, depending on whose hands it falls into. When two evil space pirates from Saturn who want to rule the universe attempt to steal Mielophone, it falls into the hands of 20th century school boy Nick. With the pirates hot on his tracks, he travels back to his time, followed by the pirates, and Alice. Chaos, confusion and funny situations follow as the luckless pirates try to blend in with the earthlings. Alice enrolls in the same school Nick goes to and demonstrates superhuman abilities in PE class. The catch is, Alice doesn't know what Nick looks like, while the pirates do. Also, the pirates are able to change their appearance and turn literally into anyone. (Hmm, I wonder if this is where James Cameron got the idea for Terminator...) Who gets to Nick -- and Mielophone -- first? Excellent plot, non-stop adventures, and great soundtrack. I wish Hollywood made kid movies like this one...\",\n          \"\\\"National Treasure\\\" (2004) is a thoroughly misguided hodge-podge of plot entanglements that borrow from nearly every cloak and dagger government conspiracy clich\\u00e9 that has ever been written. The film stars Nicholas Cage as Benjamin Franklin Gates (how precious is that, I ask you?); a seemingly normal fellow who, for no other reason than being of a lineage of like-minded misguided fortune hunters, decides to steal a 'national treasure' that has been hidden by the United States founding fathers. After a bit of subtext and background that plays laughably (unintentionally) like Indiana Jones meets The Patriot, the film degenerates into one misguided whimsy after another \\u0096 attempting to create a 'Stanley Goodspeed' regurgitation of Nicholas Cage and launch the whole convoluted mess forward with a series of high octane, but disconnected misadventures.<br /><br />The relevancy and logic to having George Washington and his motley crew of patriots burying a king's ransom someplace on native soil, and then, going through the meticulous plan of leaving clues scattered throughout U.S. currency art work, is something that director Jon Turteltaub never quite gets around to explaining. Couldn't Washington found better usage for such wealth during the start up of the country? Hence, we are left with a mystery built on top of an enigma that is already on shaky ground by the time Ben appoints himself the new custodian of this untold wealth. Ben's intentions are noble \\u0096 if confusing. He's set on protecting the treasure. For who and when?\\u0085your guess is as good as mine.<br /><br />But there are a few problems with Ben's crusade. First up, his friend, Ian Holmes (Sean Bean) decides that he can't wait for Ben to make up his mind about stealing the Declaration of Independence from the National Archives (oh, yeah \\u0096 brilliant idea!). Presumably, the back of that famous document holds the secret answer to the ultimate fortune. So Ian tries to kill Ben. The assassination attempt is, of course, unsuccessful, if overly melodramatic. It also affords Ben the opportunity to pick up, and pick on, the very sultry curator of the archives, Abigail Chase (Diane Kruger). She thinks Ben is clearly a nut \\u0096 at least at the beginning. But true to action/romance form, Abby's resolve melts quicker than you can say, \\\"is that the Hope Diamond?\\\" The film moves into full X-File-ish mode, as the FBI, mistakenly believing that Ben is behind the theft, retaliate in various benign ways that lead to a multi-layering of action sequences reminiscent of Mission Impossible meets The Fugitive. Honestly, don't those guys ever get 'intelligence' information that is correct? In the final analysis, \\\"National Treasure\\\" isn't great film making, so much as it's a patchwork rehash of tired old bits from other movies, woven together from scraps, the likes of which would make IL' Betsy Ross blush.<br /><br />The Buena Vista DVD delivers a far more generous treatment than this film is deserving of. The anamorphic widescreen picture exhibits a very smooth and finely detailed image with very rich colors, natural flesh tones, solid blacks and clean whites. The stylized image is also free of blemishes and digital enhancements. The audio is 5.1 and delivers a nice sonic boom to your side and rear speakers with intensity and realism. Extras include a host of promotional junket material that is rather deep and over the top in its explanation of how and why this film was made. If only, as an audience, we had had more clarification as to why Ben and co. were chasing after an illusive treasure, this might have been one good flick. Extras conclude with the theatrical trailer, audio commentary and deleted scenes. Not for the faint-hearted \\u0096 just the thick-headed.\"\n        ],\n        \"semantic_type\": \"\",\n        \"description\": \"\"\n      }\n    },\n    {\n      \"column\": \"sentiment\",\n      \"properties\": {\n        \"dtype\": \"category\",\n        \"num_unique_values\": 2,\n        \"samples\": [\n          \"negative\",\n          \"positive\"\n        ],\n        \"semantic_type\": \"\",\n        \"description\": \"\"\n      }\n    },\n    {\n      \"column\": \"clean\",\n      \"properties\": {\n        \"dtype\": \"string\",\n        \"num_unique_values\": 49577,\n        \"samples\": [\n          \"sat enjoyable fast paced min rollroll country boy mat toby malone dream becoming sport star mat travel city picked cousin george damien robertson well plan anyway george involved gangster tiny john batchelor making delivery needle say mat get dragged george world thought great mat teach george moral respect george teach mat relax enjoy life little toby damien well cast together outstanding jobevery character movie complimented well two cop great david ngoombujarra brought great comic relief movie tiny played likable gangster reminded one favourite character pando two handsone thing liked roll showcased city grew lived year perth fremantle good see sight landmark grew especially old ferris wheelthis rock n roll \",\n          \"twenty year ago five year old boy michael hawthorne witnessed father killing mother axe empty road committing suicide later present day michael gordon currie invite girlfriend peg stacy grant best friend chris myc agnew jennifer emmanuelle vaugier lisa ann kelly benson ned brendon beiser mitch maldive phillip rhys trish rachel hayward spend halloween country grandparent farm asks friend wear costume would represent greatest innermost fear together indian friend crow byron chief moon would perform ancient indian celebration using carved wooden dummy morty jon fedele would eliminate fear forever greatest fear michael become serial killer like father something go wrong morty turn father killing friendsthe fear resurrection disappointing pointless slash movie us interesting concept eliminating greatest innermost fear friend grows messy screenplay full clich\\u00e9s exaggerated performance like example m betsy palmer others weak general acting good unfortunately explanation dummy brought live spite surrounded close friend group feel pain sorrow one dy lowpace along fifty minute could used built better dramatic situation end michael show charm father interested noticed along story know whether previous reference edited dvd released brazil minute running time special effect reasonable bmovie vote fourtitle brazil fear uma noite de halloween fear one night halloween \"\n        ],\n        \"semantic_type\": \"\",\n        \"description\": \"\"\n      }\n    }\n  ]\n}"
            }
          },
          "metadata": {},
          "execution_count": 13
        }
      ]
    },
    {
      "cell_type": "code",
      "source": [
        "reviews = df['clean'].values"
      ],
      "metadata": {
        "id": "OB0IMAIwr0Cl"
      },
      "execution_count": 14,
      "outputs": []
    },
    {
      "cell_type": "markdown",
      "source": [
        "Separamos en entrenamiento y prueba"
      ],
      "metadata": {
        "id": "PM7lVVK1rwKJ"
      }
    },
    {
      "cell_type": "code",
      "source": [
        "from sklearn.model_selection import train_test_split\n",
        "\n",
        "train_reviews, test_reviews, train_labels, test_labels = train_test_split(reviews, encoded_labels, train_size=0.8)#, stratify = encoded_labels)}}\n",
        "\n",
        "print(f\"Shape of X_train: {train_reviews.shape}\")\n",
        "print(f\"Shape of X_test: {test_reviews.shape}\")"
      ],
      "metadata": {
        "id": "5DLD8mHjrzDh",
        "colab": {
          "base_uri": "https://localhost:8080/"
        },
        "outputId": "153b27bb-176a-48db-b863-ef8a97c3f080"
      },
      "execution_count": 15,
      "outputs": [
        {
          "output_type": "stream",
          "name": "stdout",
          "text": [
            "Shape of X_train: (40000,)\n",
            "Shape of X_test: (10000,)\n"
          ]
        }
      ]
    },
    {
      "cell_type": "markdown",
      "source": [
        "Preparamos los reviews. Este proceso consta de dos partes:\n",
        "\n",
        "1. Vectorización: La clase `Tokenizer` de `keras` permite vectorizar un corpus de textos, convirtiendo cada texto en una secuencia de índices (cada índice representa un token en un diccionario, los índices son $1,...,n$). No se toman en cuenta todas las palabras del vocabulario, se toman solamente las `vocab_size` más frecuentes.\n",
        "\n",
        "2. Padding: Las secuencias de índices tienen diferentes longitudes, dependiendo de la longitud del review. Las hacemos todas del mismo tamaño de acuerdo a dos criterios:\n",
        "\n",
        "    * Si la secuencia es más corta que el tamaño especificado, añadimos ceros al final de la secuencia.\n",
        "    * Si la secuencia es más larga que el tamaño especificado, truncamos la secuencia.\n",
        "\n",
        "\n",
        "---\n",
        "\n",
        "**Importante**: Observa que el tokenizador se entrena con los textos de entrenamiento solamente. Después las secuencias de prueba se generan con este tokenizador.\n",
        "\n",
        "⭕ ¿Qué consecuencias tiene esto?\n",
        "\n"
      ],
      "metadata": {
        "id": "80DJ3ghFsibk"
      }
    },
    {
      "cell_type": "code",
      "source": [
        "from tensorflow.keras.preprocessing.text import Tokenizer\n",
        "from tensorflow.keras.preprocessing.sequence import pad_sequences\n",
        "\n",
        "# ----- Hiperparámetros para este preprocesamiento\n",
        "vocab_size = 3000   # Nos limitaremos a ese número de palabras del vocabulario\n",
        "oov_tok = ''        # Las palabras fuera del vocabulario se reemplazarán con este string\n",
        "max_length = 200    # La longitud común deseada para las secuencias al hacer el padding\n",
        "\n",
        "#  ----- Entrenamos el tokenizador\n",
        "tokenizer = Tokenizer(num_words = vocab_size, oov_token=oov_tok)\n",
        "tokenizer.fit_on_texts(train_reviews)\n",
        "\n",
        "#  ----- Creamos las secuencias de entrenamiento y hacemos el padding\n",
        "train_sequences = tokenizer.texts_to_sequences(train_reviews)\n",
        "train_padded = pad_sequences(train_sequences, padding='post', maxlen=max_length)\n",
        "\n",
        "#  ----- Creamos las secuencias de prueba y hacemos el padding\n",
        "test_sequences = tokenizer.texts_to_sequences(test_reviews)\n",
        "test_padded = pad_sequences(test_sequences, padding='post', maxlen=max_length)"
      ],
      "metadata": {
        "id": "dtqOEb6Ksh93"
      },
      "execution_count": 16,
      "outputs": []
    },
    {
      "cell_type": "markdown",
      "source": [
        "Veamos un ejemplo de cómo se ven las secuencias."
      ],
      "metadata": {
        "id": "ldJbIKXBNZa9"
      }
    },
    {
      "cell_type": "code",
      "source": [
        "print(f\"NL review:\\n{train_reviews[0]}\\n\")\n",
        "print(f\"Sequence:\\n{train_sequences[0]}\\n\")\n",
        "print(f\"Padded Sequence:\\n{train_padded[0]}\\n\")"
      ],
      "metadata": {
        "id": "oLD0B8GrLtdU",
        "colab": {
          "base_uri": "https://localhost:8080/"
        },
        "outputId": "2a0b29f4-1f2f-4644-8183-b4975c848064"
      },
      "execution_count": 17,
      "outputs": [
        {
          "output_type": "stream",
          "name": "stdout",
          "text": [
            "NL review:\n",
            "film exceeded expectation thought heard going rubbish wasnt expecting much however pleasantly surprised first didnt take well lead girl didnt really care lived died definitely grew became likable character slasher film people die reason background story take second film explains lot would recommend film everyone youre sure watch anyway hour half life youre going live year anyway \n",
            "\n",
            "Sequence:\n",
            "[3, 1, 1134, 97, 432, 78, 1815, 189, 859, 17, 113, 1, 624, 23, 70, 51, 18, 217, 84, 70, 15, 301, 1237, 908, 302, 1835, 753, 1351, 8, 1044, 3, 19, 660, 146, 713, 10, 51, 204, 3, 2343, 61, 12, 265, 3, 207, 231, 158, 34, 549, 222, 251, 31, 231, 78, 328, 48, 549]\n",
            "\n",
            "Padded Sequence:\n",
            "[   3    1 1134   97  432   78 1815  189  859   17  113    1  624   23\n",
            "   70   51   18  217   84   70   15  301 1237  908  302 1835  753 1351\n",
            "    8 1044    3   19  660  146  713   10   51  204    3 2343   61   12\n",
            "  265    3  207  231  158   34  549  222  251   31  231   78  328   48\n",
            "  549    0    0    0    0    0    0    0    0    0    0    0    0    0\n",
            "    0    0    0    0    0    0    0    0    0    0    0    0    0    0\n",
            "    0    0    0    0    0    0    0    0    0    0    0    0    0    0\n",
            "    0    0    0    0    0    0    0    0    0    0    0    0    0    0\n",
            "    0    0    0    0    0    0    0    0    0    0    0    0    0    0\n",
            "    0    0    0    0    0    0    0    0    0    0    0    0    0    0\n",
            "    0    0    0    0    0    0    0    0    0    0    0    0    0    0\n",
            "    0    0    0    0    0    0    0    0    0    0    0    0    0    0\n",
            "    0    0    0    0    0    0    0    0    0    0    0    0    0    0\n",
            "    0    0    0    0    0    0    0    0    0    0    0    0    0    0\n",
            "    0    0    0    0]\n",
            "\n"
          ]
        }
      ]
    },
    {
      "cell_type": "markdown",
      "source": [
        "Definimos la arquitectura del modelo.\n",
        "\n",
        "Observa la capa `Embedding` ([documentación](https://keras.io/api/layers/core_layers/embedding/)). Esta capa se encarga de asignar representaciones vectoriales (embeddings) a cada palabra, lo hace de manera implícita durante el entrenamiento. Otra alternativa es pasar directamente los embeddings pre-entrenados de palabras generados por *word2vec*, *FastText*, *GloVe*, etc."
      ],
      "metadata": {
        "id": "uuMGkHFD8HQx"
      }
    },
    {
      "cell_type": "markdown",
      "source": [
        "Definimos la dimensión de los embeddings."
      ],
      "metadata": {
        "id": "CPwYQXOxXT5e"
      }
    },
    {
      "cell_type": "code",
      "source": [
        "embedding_dim = 100"
      ],
      "metadata": {
        "id": "_YTQg7LY4Dqd"
      },
      "execution_count": 18,
      "outputs": []
    },
    {
      "cell_type": "markdown",
      "source": [
        "Construimos el modelo de red neuronal para esta tarea de clasificación. La red consiste de las siguientes partes:\n",
        "\n",
        "1. Capa de Embedding. Esta capa *traduce* las secuencias de índices a representaciones vectoriales densas de menor dimensión `embedding_dim`. Le especificamos el tamaño de las secuencias y el número de palabras del vocabulario.\n",
        "2. Célula de LSTM. Esta es la capa recurrente que irá recibiendo secuencialmente las palabras, una a una, de cada review y al final de la secuencia producirá una salida que irá a la siguiente capa.\n",
        "3. Red MLP. En esta parte de la red hay una red *fully connected* con capas densas.\n",
        "4. Capa de salida. Dado que es una clasificación binaria, al final tenemos una capa densa de 1 neurona prediciendo la probabilidad de que el review sea positivo. Dado que es una clasificación binaria, usamos la perdida `binary_crossentropy` y además, la métrica `accuracy`."
      ],
      "metadata": {
        "id": "3RshV--hIwdy"
      }
    },
    {
      "cell_type": "code",
      "source": [
        "from keras.models import Sequential\n",
        "from keras.layers import Dense, Embedding, Dropout\n",
        "from keras.layers import LSTM\n",
        "\n",
        "# ----- model initialization\n",
        "model = keras.Sequential([\n",
        "    Embedding(vocab_size, embedding_dim, input_length=max_length),\n",
        "    LSTM(100, dropout=0.2),\n",
        "    Dense(16, activation='relu'),\n",
        "    Dense(1, activation='sigmoid')\n",
        "])\n",
        "\n",
        "# ----- compile model\n",
        "model.compile(loss='binary_crossentropy',\n",
        "              optimizer='adam',\n",
        "              metrics=['accuracy'])\n",
        "\n",
        "model.summary()"
      ],
      "metadata": {
        "id": "X6Xmo4iEAeI4",
        "colab": {
          "base_uri": "https://localhost:8080/"
        },
        "outputId": "a414adc7-6968-4a29-bd32-70c2383fa8db"
      },
      "execution_count": 19,
      "outputs": [
        {
          "output_type": "stream",
          "name": "stdout",
          "text": [
            "Model: \"sequential\"\n",
            "_________________________________________________________________\n",
            " Layer (type)                Output Shape              Param #   \n",
            "=================================================================\n",
            " embedding (Embedding)       (None, 200, 100)          300000    \n",
            "                                                                 \n",
            " lstm (LSTM)                 (None, 100)               80400     \n",
            "                                                                 \n",
            " dense (Dense)               (None, 16)                1616      \n",
            "                                                                 \n",
            " dense_1 (Dense)             (None, 1)                 17        \n",
            "                                                                 \n",
            "=================================================================\n",
            "Total params: 382033 (1.46 MB)\n",
            "Trainable params: 382033 (1.46 MB)\n",
            "Non-trainable params: 0 (0.00 Byte)\n",
            "_________________________________________________________________\n"
          ]
        }
      ]
    },
    {
      "cell_type": "markdown",
      "source": [
        "Creamos un callback `EarlyStopping` para parar el entrenamiento de la red cuando la pérdida de validación empiece a aumentar. Observa el parámetro `patience`."
      ],
      "metadata": {
        "id": "fzuNsu1m7VKR"
      }
    },
    {
      "cell_type": "code",
      "source": [
        "from tensorflow.keras.callbacks import EarlyStopping\n",
        "\n",
        "es = EarlyStopping(monitor='val_loss', mode='min', verbose=1, patience=2)"
      ],
      "metadata": {
        "id": "pfGZfzrS2vMn"
      },
      "execution_count": 20,
      "outputs": []
    },
    {
      "cell_type": "markdown",
      "source": [
        "Entrenamos el modelo, este entrenamiento tarda alrededor de 6 minutos"
      ],
      "metadata": {
        "id": "Q_qiS1LtIaNo"
      }
    },
    {
      "cell_type": "code",
      "source": [
        "num_epochs = 20\n",
        "\n",
        "history = model.fit(train_padded, train_labels,\n",
        "                    epochs=num_epochs, verbose=1,\n",
        "                    validation_split=0.1,\n",
        "                    callbacks=[es])"
      ],
      "metadata": {
        "id": "xU982WFBAgO4",
        "colab": {
          "base_uri": "https://localhost:8080/"
        },
        "outputId": "95047001-1db6-4927-b3d6-7cf02ee1b855"
      },
      "execution_count": 21,
      "outputs": [
        {
          "output_type": "stream",
          "name": "stdout",
          "text": [
            "Epoch 1/20\n",
            "1125/1125 [==============================] - 158s 134ms/step - loss: 0.6887 - accuracy: 0.5224 - val_loss: 0.6907 - val_accuracy: 0.4940\n",
            "Epoch 2/20\n",
            "1125/1125 [==============================] - 46s 41ms/step - loss: 0.5635 - accuracy: 0.6820 - val_loss: 0.3694 - val_accuracy: 0.8438\n",
            "Epoch 3/20\n",
            "1125/1125 [==============================] - 38s 34ms/step - loss: 0.3087 - accuracy: 0.8716 - val_loss: 0.3125 - val_accuracy: 0.8708\n",
            "Epoch 4/20\n",
            "1125/1125 [==============================] - 39s 35ms/step - loss: 0.2599 - accuracy: 0.8962 - val_loss: 0.3141 - val_accuracy: 0.8683\n",
            "Epoch 5/20\n",
            "1125/1125 [==============================] - 39s 35ms/step - loss: 0.2289 - accuracy: 0.9121 - val_loss: 0.3263 - val_accuracy: 0.8690\n",
            "Epoch 5: early stopping\n"
          ]
        }
      ]
    },
    {
      "cell_type": "markdown",
      "source": [
        "Veamos las curvas de entrenamiento"
      ],
      "metadata": {
        "id": "ykCTxNHs8DkD"
      }
    },
    {
      "cell_type": "code",
      "source": [
        "plt.figure(figsize=(12, 4),dpi=100)\n",
        "plt.suptitle(\"Training Curves\",fontsize=16)\n",
        "plt.subplot(1, 2, 1)\n",
        "plt.suptitle(\"Validation and Training Loss\",fontsize=14)\n",
        "plt.plot(history.history['loss'], label='train')\n",
        "plt.plot(history.history['val_loss'], label='validation')\n",
        "plt.ylabel(\"Loss\")\n",
        "plt.xlabel(\"Epochs\")\n",
        "plt.legend()\n",
        "plt.subplot(1, 2, 2)\n",
        "plt.suptitle(\"Validation and Training Accuracy\",fontsize=14)\n",
        "plt.plot(history.history['accuracy'], label='train')\n",
        "plt.plot(history.history['val_accuracy'], label='validation')\n",
        "plt.legend()\n",
        "plt.xlabel(\"Epochs\")\n",
        "plt.ylabel(\"Accuracy\")\n",
        "plt.show()"
      ],
      "metadata": {
        "id": "91zBpqvIytvw",
        "colab": {
          "base_uri": "https://localhost:8080/",
          "height": 448
        },
        "outputId": "0dcaab76-74d7-4cec-c14c-6842ee991d8c"
      },
      "execution_count": 22,
      "outputs": [
        {
          "output_type": "display_data",
          "data": {
            "text/plain": [
              "<Figure size 1200x400 with 2 Axes>"
            ],
            "image/png": "[encoded data removed]"
          },
          "metadata": {}
        }
      ]
    },
    {
      "cell_type": "markdown",
      "source": [
        "## Obtenemos las predicciones y evaluamos el desempeño de la red"
      ],
      "metadata": {
        "id": "lnGjOjfxDu9N"
      }
    },
    {
      "cell_type": "markdown",
      "source": [
        "¿Cómo se ven las predicciones?"
      ],
      "metadata": {
        "id": "5sEybYIh4ctU"
      }
    },
    {
      "cell_type": "code",
      "source": [
        "predictions = model.predict(test_padded)\n",
        "\n",
        "print(predictions[:5])"
      ],
      "metadata": {
        "id": "_Iyt2VS6Ak3z",
        "colab": {
          "base_uri": "https://localhost:8080/"
        },
        "outputId": "cb94a1d5-fcd2-4492-c30d-816e33bbd1d7"
      },
      "execution_count": 23,
      "outputs": [
        {
          "output_type": "stream",
          "name": "stdout",
          "text": [
            "313/313 [==============================] - 2s 5ms/step\n",
            "[[0.32623193]\n",
            " [0.51860046]\n",
            " [0.38870212]\n",
            " [0.9724992 ]\n",
            " [0.15194389]]\n"
          ]
        }
      ]
    },
    {
      "cell_type": "markdown",
      "source": [
        "Como podemos ver, la predicción de la red LSTM para cada review es un valor $0 \\leq x \\leq 1$ (esto, ya que la activación es una sigmoide). Podemos interpretar este valor como la probabilidad que estima la red de que el review tenga la clase 1 (es decir, que el review tenga opinión \"positiva\").\n",
        "\n",
        "Entonces, para obtener las predicciones de las clases, asignamos la clase 1 si $x\\geq 0.5$ y clase 0 si $x<0.5$."
      ],
      "metadata": {
        "id": "52rmyyMU4vGZ"
      }
    },
    {
      "cell_type": "code",
      "source": [
        "pred_labels = []\n",
        "\n",
        "for x in predictions:\n",
        "    if x >= 0.5:\n",
        "        pred_labels.append(1)\n",
        "    else:\n",
        "        pred_labels.append(0)\n",
        "\n",
        "print(pred_labels[:5])"
      ],
      "metadata": {
        "id": "cCsskJdX4ZES",
        "colab": {
          "base_uri": "https://localhost:8080/"
        },
        "outputId": "4dc7cf35-bd74-4856-d94e-6b4b774e4f97"
      },
      "execution_count": 24,
      "outputs": [
        {
          "output_type": "stream",
          "name": "stdout",
          "text": [
            "[0, 1, 0, 1, 0]\n"
          ]
        }
      ]
    },
    {
      "cell_type": "markdown",
      "source": [
        "Evaluamos la calidad de las predicciones usando el accuracy y el recall. Es una mejora respecto a la MLP con embeddings promedio de word2vec."
      ],
      "metadata": {
        "id": "at5o4R897_LF"
      }
    },
    {
      "cell_type": "code",
      "source": [
        "from sklearn.metrics import accuracy_score, recall_score, confusion_matrix\n",
        "\n",
        "test_accuracy = accuracy_score(test_labels,pred_labels)\n",
        "test_recall = recall_score(test_labels,pred_labels)\n",
        "print(f\"Test Accuracy: {round(test_accuracy,3)}\")\n",
        "print(f\"Test Recall: {round(test_recall,3)}\")\n",
        "\n",
        "print(\"\\nConfusion Matrix:\\n\",confusion_matrix(test_labels,pred_labels))"
      ],
      "metadata": {
        "id": "bO1AqC1K5r7c",
        "colab": {
          "base_uri": "https://localhost:8080/"
        },
        "outputId": "d4151df6-c49a-4c94-ef17-4b4d70914201"
      },
      "execution_count": 25,
      "outputs": [
        {
          "output_type": "stream",
          "name": "stdout",
          "text": [
            "Test Accuracy: 0.871\n",
            "Test Recall: 0.908\n",
            "\n",
            "Confusion Matrix:\n",
            " [[4095  821]\n",
            " [ 469 4615]]\n"
          ]
        }
      ]
    },
    {
      "cell_type": "markdown",
      "source": [
        "Finalmente, veamos algunas predicciones arbitrarias:"
      ],
      "metadata": {
        "id": "SAU457OM6QDV"
      }
    },
    {
      "cell_type": "code",
      "source": [
        "test_size = len(test_reviews)\n",
        "\n",
        "idxs = np.random.choice(test_size,size=5,replace=False)\n",
        "\n",
        "for j in idxs:\n",
        "    print(\"Review:\")\n",
        "    print(df.loc[j,'review'])\n",
        "    print(f\"Label: {df.loc[j,'sentiment']}\")\n",
        "    print(f\"Predicted Label: {pred_labels[j]}\\n\")"
      ],
      "metadata": {
        "id": "rOi7dbki6OfX",
        "colab": {
          "base_uri": "https://localhost:8080/"
        },
        "outputId": "1d4589ee-fd9c-4a8a-d619-46f747dcddb3"
      },
      "execution_count": 26,
      "outputs": [
        {
          "output_type": "stream",
          "name": "stdout",
          "text": [
            "Review:\n",
            "The club scenes in this film are extremely believable, Tim Curry is in his most venal mode, and there are enough drugs and violence here for two movies, maybe even three. What more do you require from an evening's entertainment? Pump up the volume.\n",
            "Label: positive\n",
            "Predicted Label: 0\n",
            "\n",
            "Review:\n",
            "this movie offers nothing but the dumbest conversations possible. as a matter of fact i most probably could not have imagined how meaningless a film, how synthetic the dialogs could be until an hour ago, but then again i saw this video. in a movie that does not depend on a powerful script, one expects to see at least good acting and tasty conversations and even some humor maybe, yet this movie lacks them all. you heard me it lacks them all. there is not a single point i like about this movie, none. i hate it. i'm sure anyone will do so too. the name is intended to give the target audience some thoughts of nudity and stuff, yet it fails even at the nudity. i don't know how but i beared to watch this thing for an hour or so, and i definitely recommend you don't do so. worst movie i've seen in my entire life. if someone offers you to watch it, ruuun awaaaaay saaaaaave your liiiiiiiiife\n",
            "Label: negative\n",
            "Predicted Label: 0\n",
            "\n",
            "Review:\n",
            "I rented this film because of my interest in American history, and especially the somewhat weird story of the Mormons. This movie attempts to make some sense out of how Joseph Smith could turn his \"vision\" into a major world religion. It first focuses on the troubles the Mormons had in their settlement at Navuoo, Illinois. It portrays the trial of Joseph Smith. Within the course of that trial, Brigham Young stands up to tell of his conversion to Mormonism, and of his belief in the spiritual message of Smith. Then Smith is assassinated, and Young must deal with his own doubts about whether he has been chosen to lead the Mormons to a new land. Despite his grave doubts, he perseveres, and finally has a vision (that Utah is the place for his colony) that gives him confidence in the rightness of his leadership. Later, as crops are destroyed by crickets, he again doubts that he has truly been chosen--however, a miracle occurs, which cements his place in history.<br /><br />I found the performances to be moving, and the story to be convincing and interesting. I would love to know whether Mormons believe that this is an accurate portrayal. Polygamy is a part of the story, but the reasons why this is central to LDS are not raised. The issue is not emphasized.<br /><br />I'm sure people stay away from this movie because of its religious subject-matter, but it has a great cast and will hold your interest throughout.\n",
            "Label: positive\n",
            "Predicted Label: 1\n",
            "\n",
            "Review:\n",
            "François Villon was a real-life poet and rogue who lived in Paris in the 15th century. However, most of what is portrayed in this historical film is actually fiction--from a play created at the beginning of the 20th century. Whereas in the film he met and became friends with Louis XI, in reality he died in his 30s and was never involved in all the intrigues like he was in this film. In reality, he wrote some lovely verse and was frequently on the wrong side of the law--not the combination of a patriot and Robin Hood-like character like he is in the film. Provided you know that the film is nearly 100% fiction, then it's well worth seeing--just don't assume it's a good history lesson.<br /><br />In THE BELOVED ROGUE, Villon is played with wild abandon by John Barrymore. I was also pretty excited to see that his three friends were all played by very familiar faces. Angelo Rossitto, who was the plucky dwarf, played in tons of films over the years and had a very long career. Slim Summerville was a character actor known for adding a touch of comedy to films. Mack Swain is best known as the silent film foil in many of Chaplin's short films and played his partner in THE GOLD RUSH. All four of these men did a nice job and have no complaints---even with Barrymore's rather over-the-top treatment that was rather reminiscent of a Douglas Fairbanks performance. However, the performance I had a serious problem with was Conrad Veidt as King Louis XI. To call this \"unsubtle\" would be a gross understatement. He played the role like a high schooler who thought he was supposed to be the stereotypical Richard III--skulking about and acting like a demoniacal caricature. While Veidt was wonderful in many, many films (both silent and sound) but here he is just ridiculous.<br /><br />As for the story, it's full of lusty adventure and action--like a swashbuckling film minus the sailing ships. The sets worked out well for all this, as they'd been used the previous year for THE HUNCHBACK OF NOTRE DAME. Both films were set around the same time period.<br /><br />Overall, it's one of the last great silent films. There's a lot to like and the film is a lovely combination of romance, comedy and action. Well worth seeing, though it loses a couple of points for Veidt's overacting as well as the way the film plays fast and loose with history.<br /><br />By the way, this film was also made twice as IF I WERE KING (1920 and 1938) and apparently these two films are closest to the original play. However, in total, six films have been about Villon and tell, more or less, variations on the same tale!\n",
            "Label: positive\n",
            "Predicted Label: 0\n",
            "\n",
            "Review:\n",
            "I really wanted to write a title for this review that didn't come off as corny or gushing but still described my feelings for this show. I can see now that it is not possible. \"American Family\" is one of the best shows I have ever had the pleasure of watching on television. Several reviewers here on IMDb have mentioned the word \"beautiful\" when describing this show. Never has a word been more fitting. The cinematography for this show is stunning. Every scene and shot looks like a masterpiece. The lighting, camera moves, scene composition and colors...I have to keep reminding myself that I'm watching a TV Show and not a Motion Picture masterpiece. The score by Lee Holdridge and Nathan Wang brings tears to my eyes. And most importantly, the acting by the all around amazing cast is honest and sincere. I do not feel like I am watching performances...I feel like I'm watching real life. If only real life could be this beautiful.<br /><br />\"American Family\" has indeed raised the bar for quality entertainment on Television. I highly recommend this show to anyone who is willing to watch it. I could easily chide CBS for passing on this show, but I have to say that it doesn't matter to me who airs it. I'm just glad it's out there for everyone to see. So I do thank PBS for not allowing this show to disappear into nothingness.<br /><br />I have to give special recognition to the way each season's finale ended. The first one was pure creative brilliance and it moved me to tears. I was waiting to see if season two would also end in a creative way, and sure enough it did. Again, tears.<br /><br />My thanks to all of those involved. You really have made a special piece of art with this show, and I sincerely mean that. It is a shame that we only got two seasons, but a miracle we got anything at all.\n",
            "Label: positive\n",
            "Predicted Label: 1\n",
            "\n"
          ]
        }
      ]
    },
    {
      "cell_type": "markdown",
      "source": [
        "Podemos extraer los embeddings de la capa `Embeddings`. Recordar que tenemos un vocabulario de 3000 tokens, cada uno representado por un vector de dimensión 100."
      ],
      "metadata": {
        "id": "7oAflDMUd_JC"
      }
    },
    {
      "cell_type": "code",
      "source": [
        "token_embeddings = model.layers[0].get_weights()[0]\n",
        "print(token_embeddings.shape)\n",
        "print(token_embeddings[:3,:5])"
      ],
      "metadata": {
        "colab": {
          "base_uri": "https://localhost:8080/"
        },
        "id": "wZZPGco5cWln",
        "outputId": "3625a877-78e5-4d90-c4f2-9f4d5fd5fd52"
      },
      "execution_count": 38,
      "outputs": [
        {
          "output_type": "stream",
          "name": "stdout",
          "text": [
            "(3000, 100)\n",
            "[[ 0.02244858 -0.1303166  -0.01985386  0.01916426 -0.00923782]\n",
            " [-0.07827036 -0.10441415 -0.01493354  0.06874032 -0.05910604]\n",
            " [-0.03622475  0.17890815  0.01982057  0.02083774  0.02176663]]\n"
          ]
        }
      ]
    },
    {
      "cell_type": "markdown",
      "source": [
        "Podemos acceder a la palabra representada por un índice de la siguiente forma:"
      ],
      "metadata": {
        "id": "sYN5-diKeN32"
      }
    },
    {
      "cell_type": "code",
      "source": [
        "tokenizer.index_word[24]"
      ],
      "metadata": {
        "colab": {
          "base_uri": "https://localhost:8080/",
          "height": 55
        },
        "id": "c4m6rh2cdv-U",
        "outputId": "1c9082a0-8fb8-41b2-9065-77749d06d8fd"
      },
      "execution_count": 35,
      "outputs": [
        {
          "output_type": "execute_result",
          "data": {
            "text/plain": [
              "'show'"
            ],
            "application/vnd.google.colaboratory.intrinsic+json": {
              "type": "string"
            }
          },
          "metadata": {},
          "execution_count": 35
        }
      ]
    },
    {
      "cell_type": "code",
      "source": [
        "token_embeddings[24]"
      ],
      "metadata": {
        "colab": {
          "base_uri": "https://localhost:8080/"
        },
        "id": "z5lrW9j_eUAl",
        "outputId": "493f2b23-3865-474a-c538-88d9216e8a35"
      },
      "execution_count": 39,
      "outputs": [
        {
          "output_type": "execute_result",
          "data": {
            "text/plain": [
              "array([-0.00607501,  0.05310506,  0.00453518,  0.02183053, -0.06617219,\n",
              "        0.11866309, -0.03988339, -0.06534487, -0.02495076,  0.03667073,\n",
              "        0.04109494,  0.01423875, -0.05585079, -0.10102765, -0.00071177,\n",
              "        0.04110536,  0.07657961, -0.10185053, -0.04791454, -0.08789884,\n",
              "       -0.04462264, -0.0676532 , -0.06600341, -0.01077465,  0.01523085,\n",
              "       -0.05446685,  0.10739408,  0.12378637, -0.03288903,  0.14325257,\n",
              "        0.1159004 , -0.02685537, -0.00593445,  0.06209739, -0.07822862,\n",
              "        0.04361798, -0.05625609,  0.0364788 ,  0.02722731,  0.08215545,\n",
              "       -0.04303742, -0.03846146, -0.04811568, -0.0580217 ,  0.10826319,\n",
              "       -0.00473713,  0.01674828, -0.06441899,  0.0088102 ,  0.01239982,\n",
              "        0.02054347, -0.0789052 ,  0.05624491,  0.0221479 ,  0.00442156,\n",
              "        0.01609149,  0.0282408 , -0.11278795, -0.0003072 , -0.08351704,\n",
              "        0.11109002, -0.15461046, -0.00780354, -0.02329537,  0.03226152,\n",
              "       -0.02478274, -0.03673957, -0.01834458,  0.05100186, -0.05698367,\n",
              "       -0.08312923, -0.04247984,  0.01950798, -0.09960663, -0.01028245,\n",
              "       -0.02840696, -0.0136195 , -0.01563305,  0.02605636, -0.01874401,\n",
              "       -0.08108072,  0.02929267, -0.0279536 ,  0.03237192, -0.04721874,\n",
              "       -0.08277217, -0.10390516, -0.02228338,  0.00803676,  0.05078497,\n",
              "        0.06317759,  0.00695618, -0.02788724, -0.09297504,  0.05596121,\n",
              "        0.03762628,  0.12820363,  0.06337543,  0.02201646, -0.05546255],\n",
              "      dtype=float32)"
            ]
          },
          "metadata": {},
          "execution_count": 39
        }
      ]
    },
    {
      "cell_type": "markdown",
      "source": [
        "Hagamos reducción de dimensionalidad. Con esto podríamos ver cada palabra y sus palabras más cercanas."
      ],
      "metadata": {
        "id": "zx8xu7G6fXM6"
      }
    },
    {
      "cell_type": "code",
      "source": [
        "from sklearn.manifold import TSNE\n",
        "import matplotlib.pyplot as plt\n",
        "\n",
        "tsne = TSNE(n_components=2, random_state=0)\n",
        "token_embeddings_tsne = tsne.fit_transform(token_embeddings)\n",
        "\n",
        "plt.figure()\n",
        "plt.scatter(token_embeddings_tsne[:, 0], token_embeddings_tsne[:, 1])\n",
        "plt.show()"
      ],
      "metadata": {
        "colab": {
          "base_uri": "https://localhost:8080/",
          "height": 850
        },
        "id": "jWgERRuseh7i",
        "outputId": "62501d42-44df-4faf-e519-636ab861709c"
      },
      "execution_count": 40,
      "outputs": [
        {
          "output_type": "display_data",
          "data": {
            "text/plain": [
              "<Figure size 1000x1000 with 1 Axes>"
            ],
            "image/png": "[encoded data removed]"
          },
          "metadata": {}
        }
      ]
    },
    {
      "cell_type": "markdown",
      "source": [
        "Veamos los vecinos más cercanos de un par de palabras. ¿En qué sentido son las similitudes?"
      ],
      "metadata": {
        "id": "Ps0m-bjrhpN0"
      }
    },
    {
      "cell_type": "code",
      "source": [
        "from sklearn.neighbors import NearestNeighbors\n",
        "\n",
        "nn = NearestNeighbors(n_neighbors=5)\n",
        "nn.fit(token_embeddings)\n",
        "\n",
        "test_words = ['awful','show']\n",
        "idxs = [tokenizer.word_index[w] for w in test_words]\n",
        "print(idxs)\n",
        "\n",
        "distances, indices = nn.kneighbors(token_embeddings[idxs])\n",
        "print(distances)\n",
        "print(indices)\n",
        "print([[tokenizer.index_word[idx] for idx in indices[k]] for k in [0,1]])"
      ],
      "metadata": {
        "colab": {
          "base_uri": "https://localhost:8080/"
        },
        "id": "N5cel9ZHfdFk",
        "outputId": "846a2865-91ec-47ac-de1e-9cae4b5695c6"
      },
      "execution_count": 59,
      "outputs": [
        {
          "output_type": "stream",
          "name": "stdout",
          "text": [
            "[282, 24]\n",
            "[[7.30004830e-08 1.24647483e+00 1.25428467e+00 1.25724732e+00\n",
            "  1.28645482e+00]\n",
            " [1.05367121e-08 6.11314670e-01 6.72547558e-01 6.78985343e-01\n",
            "  6.81870408e-01]]\n",
            "[[ 282 2239 2913 2444  622]\n",
            " [  24   13 1047 2720 2439]]\n",
            "[['awful', 'asleep', 'miscast', 'unconvincing', 'dull'], ['show', 'make', 'ben', 'bride', 'clark']]\n"
          ]
        }
      ]
    },
    {
      "cell_type": "markdown",
      "source": [
        "# ⭕ Ejercicio:\n",
        "\n",
        "* Modifica la arquitectura de la LSTM para mejorar el desempeño de la LSTM anterior.\n",
        "* Puedes usar también capas de dropout, callbacks, modificar las capas densas del final (recuerda que la capa final no se puede mover)."
      ],
      "metadata": {
        "id": "A80nr1Cvv38Z"
      }
    },
    {
      "cell_type": "code",
      "source": [],
      "metadata": {
        "id": "nPeL6eZdCxkK"
      },
      "execution_count": null,
      "outputs": []
    }
  ]
}