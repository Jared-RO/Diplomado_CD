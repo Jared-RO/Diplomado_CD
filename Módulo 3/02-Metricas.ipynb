{
  "cells": [
    {
      "cell_type": "markdown",
      "metadata": {
        "id": "kqAFGSYu55TU"
      },
      "source": [
        "[![Open In Colab](https://colab.research.google.com/assets/colab-badge.svg)](https://colab.research.google.com/github/DCDPUAEM/DCDP/blob/main/03%20Machine%20Learning/notebooks/02-Metricas.ipynb)"
      ]
    },
    {
      "cell_type": "markdown",
      "metadata": {
        "id": "fWoR7uPEld_a"
      },
      "source": [
        "# Métricas de Rendimiento"
      ]
    },
    {
      "cell_type": "markdown",
      "metadata": {
        "id": "DVyD03jKlhCr"
      },
      "source": [
        "En esta notebook comenzaremos a usar métricas de rendimiento para cuantificar el rendimiento de predicciones hechas sobre una pequeña sección de un dataset de correo SPAM.\n",
        "\n",
        "El objetivo es visualizar la función de las métricas de rendimiento por sí mismas, independientemente de cualquier algoritmo de Machine Learning.\n",
        "\n",
        "Además, practicaremos la importación de métricas de evaluación de `scikit learn`."
      ]
    },
    {
      "cell_type": "code",
      "execution_count": 1,
      "metadata": {
        "id": "tA2WSDsujttB"
      },
      "outputs": [
        {
          "ename": "ModuleNotFoundError",
          "evalue": "No module named 'google.colab'",
          "output_type": "error",
          "traceback": [
            "\u001b[1;31m---------------------------------------------------------------------------\u001b[0m",
            "\u001b[1;31mModuleNotFoundError\u001b[0m                       Traceback (most recent call last)",
            "Cell \u001b[1;32mIn[1], line 2\u001b[0m\n\u001b[0;32m      1\u001b[0m \u001b[38;5;28;01mimport\u001b[39;00m \u001b[38;5;21;01mpandas\u001b[39;00m \u001b[38;5;28;01mas\u001b[39;00m \u001b[38;5;21;01mpd\u001b[39;00m\n\u001b[1;32m----> 2\u001b[0m \u001b[38;5;28;01mfrom\u001b[39;00m \u001b[38;5;21;01mgoogle\u001b[39;00m\u001b[38;5;21;01m.\u001b[39;00m\u001b[38;5;21;01mcolab\u001b[39;00m \u001b[38;5;28;01mimport\u001b[39;00m data_table\n\u001b[0;32m      4\u001b[0m url \u001b[38;5;241m=\u001b[39m \u001b[38;5;124m'\u001b[39m\u001b[38;5;124mhttps://github.com/DCDPUAEM/DCDP/raw/main/03\u001b[39m\u001b[38;5;124m%\u001b[39m\u001b[38;5;124m20Machine\u001b[39m\u001b[38;5;132;01m%20Le\u001b[39;00m\u001b[38;5;124marning/data/sample-spam.csv\u001b[39m\u001b[38;5;124m'\u001b[39m\n\u001b[0;32m      5\u001b[0m sample_df \u001b[38;5;241m=\u001b[39m pd\u001b[38;5;241m.\u001b[39mread_csv(url,index_col\u001b[38;5;241m=\u001b[39m\u001b[38;5;241m0\u001b[39m)\n",
            "\u001b[1;31mModuleNotFoundError\u001b[0m: No module named 'google.colab'"
          ]
        }
      ],
      "source": [
        "import pandas as pd\n",
        "from google.colab import data_table\n",
        "\n",
        "url = 'https://github.com/DCDPUAEM/DCDP/raw/main/03%20Machine%20Learning/data/sample-spam.csv'\n",
        "sample_df = pd.read_csv(url,index_col=0)\n",
        "sample_df.reset_index(inplace=True,drop=True)\n",
        "sample_df"
      ]
    },
    {
      "cell_type": "markdown",
      "metadata": {
        "id": "NQ0UFAXCoNrt"
      },
      "source": [
        "⭕ Crea una lista con predicciones sobre cada texto de este dataframe, ¿es SPAM o HAM?\n",
        "\n",
        "*   HAM (No SPAM): 0\n",
        "*   SPAM: 1\n",
        "\n",
        "Esto se acostumbra así porque la tarea es detección de SPAM, entonces la clase positiva es 1 y la clase negativa es 0.\n",
        "\n",
        "Esta lista de predicciones serán las predicciones del modelo de Machine Learning (tú eres el modelo de Machine Learning).\n",
        "\n"
      ]
    },
    {
      "cell_type": "code",
      "execution_count": null,
      "metadata": {
        "id": "tHhTlyBddQPT"
      },
      "outputs": [],
      "source": [
        "predicciones =\n",
        "\n",
        "assert len(predicciones) == 10"
      ]
    },
    {
      "cell_type": "markdown",
      "metadata": {
        "id": "0McgoYrOx6I0"
      },
      "source": [
        "Leemos las etiquetas reales donde se indica si cada texto es o no SPAM."
      ]
    },
    {
      "cell_type": "code",
      "execution_count": null,
      "metadata": {
        "id": "lFYdePM_d09i"
      },
      "outputs": [],
      "source": []
    },
    {
      "cell_type": "markdown",
      "metadata": {
        "id": "CqCFPs1bygxa"
      },
      "source": [
        "Ahora evaluaremos las predicciones usando el porcentaje de aciertos visto en la sesión pasada. Esta métrica de rendimiento se llama `Accuracy` y, al igual que muchas métricas de evaluación, se encuentra ya implementada en el módulo [`sklearn.metrics`](https://scikit-learn.org/stable/modules/model_evaluation.html) de scikit-learn.\n",
        "\n",
        "¿Qué tan buena fué tu predicción?\n",
        "\n",
        "**Observación**: En este caso, `accuracy_score` es una función."
      ]
    },
    {
      "cell_type": "code",
      "execution_count": null,
      "metadata": {
        "id": "uZ-t1GV-o_1G"
      },
      "outputs": [],
      "source": [
        "from sklearn.metrics import accuracy_score\n",
        "\n",
        "accuracy_score(reales,predicciones)"
      ]
    },
    {
      "cell_type": "markdown",
      "metadata": {
        "id": "nlS_7z9Y3ook"
      },
      "source": [
        "Probemos otras métricas, [`recall_score`](https://scikit-learn.org/stable/modules/generated/sklearn.metrics.recall_score.html#sklearn.metrics.recall_score) y [`f1_score`](https://scikit-learn.org/stable/modules/generated/sklearn.metrics.f1_score.htm).\n",
        "\n",
        "⭕ Calcula e imprime ambas métricas comparando tus predicciones con las predicciones reales."
      ]
    },
    {
      "cell_type": "code",
      "execution_count": null,
      "metadata": {
        "id": "0yvbn6Qryixh"
      },
      "outputs": [],
      "source": [
        "from sklearn.metrics import recall_score, f1_score\n",
        "\n",
        "..."
      ]
    }
  ],
  "metadata": {
    "colab": {
      "provenance": []
    },
    "kernelspec": {
      "display_name": "Python 3",
      "name": "python3"
    },
    "language_info": {
      "codemirror_mode": {
        "name": "ipython",
        "version": 3
      },
      "file_extension": ".py",
      "mimetype": "text/x-python",
      "name": "python",
      "nbconvert_exporter": "python",
      "pygments_lexer": "ipython3",
      "version": "3.10.11"
    }
  },
  "nbformat": 4,
  "nbformat_minor": 0
}
