{
  "cells": [
    {
      "cell_type": "markdown",
      "metadata": {
        "id": "n3cv9-x_gKat"
      },
      "source": [
        "<a href=\"https://colab.research.google.com/github/DCDPUAEM/DCDP/blob/main/03%20Machine%20Learning/notebooks/07-Decision-Trees.ipynb\" target=\"_parent\"><img src=\"https://colab.research.google.com/assets/colab-badge.svg\" alt=\"Open In Colab\"/></a>"
      ]
    },
    {
      "cell_type": "markdown",
      "metadata": {
        "id": "o6TaZpW8qma6"
      },
      "source": [
        "# Árboles de decisión"
      ]
    },
    {
      "cell_type": "markdown",
      "metadata": {
        "id": "gLY1XR5rjmL4"
      },
      "source": [
        "<img src=\"https://github.com/DCDPUAEM/DCDP/raw/main/03%20Machine%20Learning/img/DT.png\">"
      ]
    },
    {
      "cell_type": "markdown",
      "metadata": {
        "id": "DHVlH2Bud4Da"
      },
      "source": [
        "En esta notebook usaremos el clasificador [Decision Tree](https://scikit-learn.org/stable/modules/generated/sklearn.tree.DecisionTreeClassifier.html) de scikit-learn.\n",
        "\n",
        "Primero, observaremos algunas caracteristicas generales del método y después, lo usaremos en un problema de clasificación con un dataset clásico del machine learning.\n",
        "\n",
        "🎯 Los objetivos de esta notebook son:\n",
        "\n",
        "1. Familiarizarse con el uso del algoritmo y sus hiperparámetros principales.\n",
        "2. Percibir las particularidades de este algoritmo y compararlo con otros algoritmos.\n",
        "3. Usar el algoritmo en un dataset real.  "
      ]
    },
    {
      "cell_type": "code",
      "execution_count": null,
      "metadata": {
        "id": "FcheG_cRD9_a"
      },
      "outputs": [],
      "source": [
        "import pandas as pd\n",
        "import matplotlib.pyplot as plt"
      ]
    },
    {
      "cell_type": "code",
      "execution_count": null,
      "metadata": {
        "cellView": "form",
        "id": "XJ2MgCSHFmBY"
      },
      "outputs": [],
      "source": [
        "#@title Función para graficar la frontera de decisión\n",
        "\n",
        "from sklearn.inspection import DecisionBoundaryDisplay\n",
        "import numpy as np\n",
        "\n",
        "def graficar_FD(X,y,clf,h=0):\n",
        "    '''\n",
        "    X es todas las instancias las cuales incluiremos en el gráfico\n",
        "    '''\n",
        "    assert X.shape[1] == 2   # Sólo funciona para datos en dimensión 2\n",
        "    feature_1, feature_2 = np.meshgrid(\n",
        "    np.linspace(X[:,0].min()-h, X[:, 0].max()+h),\n",
        "    np.linspace(X[:, 1].min()-h, X[:, 1].max()+h)\n",
        "    )\n",
        "    grid = np.vstack([feature_1.ravel(), feature_2.ravel()]).T\n",
        "    y_grid_pred = clf.predict(grid)\n",
        "    y_grid_pred = y_grid_pred.reshape(feature_1.shape)\n",
        "    display = DecisionBoundaryDisplay(\n",
        "    xx0=feature_1, xx1=feature_2, response=y_grid_pred\n",
        "    )\n",
        "    display.plot()\n",
        "    display.ax_.scatter(\n",
        "        X[:, 0], X[:, 1], c=y, edgecolor=\"black\"\n",
        "    )\n",
        "    plt.show()\n",
        "    return display.ax_"
      ]
    },
    {
      "cell_type": "markdown",
      "metadata": {
        "id": "h6vhe29d5uVK"
      },
      "source": [
        "El módulo `dtreeviz` es útil para la visualización de árboles de decisión y la interpretación de modelos ([documentación](https://github.com/parrt/dtreeviz))."
      ]
    },
    {
      "cell_type": "code",
      "execution_count": null,
      "metadata": {
        "id": "YKhWGzhP5hNG"
      },
      "outputs": [],
      "source": [
        "!pip install -qq dtreeviz"
      ]
    },
    {
      "cell_type": "markdown",
      "metadata": {
        "id": "hHm65FMfuY4K"
      },
      "source": [
        "# Ejemplo 1: Un ejemplo ilustrativo\n",
        "\n",
        "Con este ejemplo, exploraremos el uso básico del álgoritmo y observaremos las características y particularidades del clasificador DT."
      ]
    },
    {
      "cell_type": "markdown",
      "metadata": {
        "id": "_Tia5xfFLylY"
      },
      "source": [
        "## 1. Datos linealmente separables con una línea horizontal\n",
        "\n"
      ]
    },
    {
      "cell_type": "markdown",
      "metadata": {
        "id": "P4D3IsxALKe2"
      },
      "source": [
        "### Conjunto de datos\n",
        "\n",
        "En este primer ejemplo generamos un conjunto de datos linealmente separables con `make_blobs`. Estos datos pueden ser separados con una línea vértical, es decir con una condición de tipo\n",
        "\n",
        "* Si $x>\\alpha$ entonces $(x,y)\\in\\text{clase}_0$.\n",
        "* Si $x<\\alpha$ entonces $(x,y)\\in\\text{clase}_1$."
      ]
    },
    {
      "cell_type": "markdown",
      "metadata": {
        "id": "d9r0a-hD4Uli"
      },
      "source": [
        "Primero, generamos y visualizamos los datos"
      ]
    },
    {
      "cell_type": "code",
      "execution_count": null,
      "metadata": {
        "id": "lqZPXmUYN9ro"
      },
      "outputs": [],
      "source": [
        "from sklearn.datasets import make_blobs\n",
        "\n",
        "X, y = make_blobs(n_samples=600,centers=2,random_state=31)\n",
        "\n",
        "# colors = {0: 'blue', 1: 'red'} # Forzar a que cada clase tenga un color determinado\n",
        "colors = ['blue' if yi==0 else 'red' for yi in y] # Forzar a que cada clase tenga un color determinado\n",
        "\n",
        "plt.figure()\n",
        "# plt.scatter(X[:,0],X[:,1],c=[colors[yi] for yi in y])\n",
        "plt.scatter(X[:,0],X[:,1],c=colors)\n",
        "plt.show()"
      ]
    },
    {
      "cell_type": "markdown",
      "metadata": {
        "id": "AkBPTaa84anV"
      },
      "source": [
        "Dividimos los datos en *train/test*. Entrenamos el árbol de decisión usando la implementación de scikit-learn `sklearn.tree.DecisionTreeClassifier`. Realizamos la predicción sobre el conjunto de prueba."
      ]
    },
    {
      "cell_type": "code",
      "execution_count": null,
      "metadata": {
        "id": "N36oEEHK4YK4"
      },
      "outputs": [],
      "source": [
        "from sklearn.model_selection import train_test_split\n",
        "from sklearn.tree import DecisionTreeClassifier\n",
        "\n",
        "X_train, X_test, y_train, y_test = train_test_split(X, y, test_size=0.3, random_state=101) # 70% entrenamiento y 30% prueba\n",
        "\n",
        "clf = DecisionTreeClassifier()  # Inicializar el modelo con los hiperparámetros por defecto\n",
        "clf = clf.fit(X_train,y_train)  # Entrenar el modelo\n",
        "y_pred = clf.predict(X_test)    # Predecir las etiquetas para el conjunto de prueba"
      ]
    },
    {
      "cell_type": "markdown",
      "metadata": {
        "id": "NQwJ_57zLOBE"
      },
      "source": [
        "### Entrenamiento y evaluación"
      ]
    },
    {
      "cell_type": "markdown",
      "metadata": {
        "id": "AVBqAM525NRI"
      },
      "source": [
        "Como es de esperar, obtenemos el 100% en todas las métricas"
      ]
    },
    {
      "cell_type": "code",
      "execution_count": null,
      "metadata": {
        "id": "paSzESRGOEOh"
      },
      "outputs": [],
      "source": [
        "from sklearn.metrics import confusion_matrix\n",
        "import seaborn as sns\n",
        "from sklearn.metrics import accuracy_score, recall_score, precision_score\n",
        "\n",
        "print(f\"Accuracy: {round(accuracy_score(y_test,y_pred),3)}\")\n",
        "print(f\"Recall: {round(recall_score(y_test,y_pred),3)}\")\n",
        "print(f\"Precision: {round(precision_score(y_test,y_pred),3)}\")\n",
        "\n",
        "plt.figure(figsize=(3,3))\n",
        "cm = confusion_matrix(y_test,y_pred)\n",
        "s_cm = sns.heatmap(cm,cmap='plasma',annot=True)\n",
        "plt.show()"
      ]
    },
    {
      "cell_type": "markdown",
      "metadata": {
        "id": "nx66pAxiLCPb"
      },
      "source": [
        "### Visualización del árbol (opcional)"
      ]
    },
    {
      "cell_type": "markdown",
      "metadata": {
        "id": "CawGwBEF5Yhs"
      },
      "source": [
        "Veamos el árbol de decisión usando [`export_text`](https://scikit-learn.org/stable/modules/generated/sklearn.tree.export_text.html) del módulo `tree` de scikit-learn."
      ]
    },
    {
      "cell_type": "code",
      "execution_count": null,
      "metadata": {
        "id": "no7nskN-OhcG"
      },
      "outputs": [],
      "source": [
        "from sklearn.tree import export_text\n",
        "\n",
        "text_representation = export_text(decision_tree=clf,feature_names=['x','y'])\n",
        "print(text_representation)"
      ]
    },
    {
      "cell_type": "code",
      "execution_count": null,
      "metadata": {
        "id": "JkmSBhGdPPS1"
      },
      "outputs": [],
      "source": [
        "_ = graficar_FD(X,y,clf,h=0.5)"
      ]
    },
    {
      "cell_type": "markdown",
      "metadata": {
        "id": "ArjtpE4M3nEh"
      },
      "source": [
        "## Datos linealmente separables con una línea no vertical."
      ]
    },
    {
      "cell_type": "markdown",
      "metadata": {
        "id": "BkozO0Ay6UD1"
      },
      "source": [
        "Transformamos los datos para ahora sean separables con línea no horizontal. Para esto, rotamos cada punto un ángulo $\\theta=\\frac{\\pi}{4}=45°$, además, trasladamos la clase *positiva* con el vector $z=(-1,-2)$.\n",
        "\n",
        "**Ocultamos el código por limpieza**"
      ]
    },
    {
      "cell_type": "code",
      "execution_count": null,
      "metadata": {
        "cellView": "form",
        "id": "AsmIGzTx6TmQ"
      },
      "outputs": [],
      "source": [
        "#@title Conjunto de datos\n",
        "\n",
        "import numpy as np\n",
        "\n",
        "theta = np.pi/4 # Ángulo de rotación\n",
        "R = np.array([[np.cos(theta),-np.sin(theta)],[np.sin(theta),np.cos(theta)]]) # Matriz de rotación\n",
        "\n",
        "Xr = np.transpose(R@np.transpose(X)) # Rotamos el dataset\n",
        "\n",
        "idxs = np.where(y==1)[0]   # Obtenemos los índices donde y=1\n",
        "\n",
        "Xr[idxs,:] = Xr[idxs,:] + np.array([-1,-2])\n",
        "\n",
        "fig, axs = plt.subplots(1,2,figsize=(9,5),sharey=True)\n",
        "axs[0].scatter(X[:,0],X[:,1],c=['blue' if yi==0 else 'red' for yi in y])\n",
        "axs[0].set_title(\"Original dataset\")\n",
        "axs[1].scatter(Xr[:,0],Xr[:,1],c=['blue' if yi==0 else 'red' for yi in y])\n",
        "axs[1].set_title(\"Transformed dataset\")\n",
        "fig.show()"
      ]
    },
    {
      "cell_type": "code",
      "execution_count": null,
      "metadata": {
        "id": "ehKSVwpH_r0B"
      },
      "outputs": [],
      "source": [
        "from sklearn.model_selection import train_test_split\n",
        "\n",
        "X_train, X_test, y_train, y_test = train_test_split(Xr, y, test_size=0.3, random_state=101) # 70% training and 30% test"
      ]
    },
    {
      "cell_type": "markdown",
      "metadata": {
        "id": "v4Mgg6M1NZ9m"
      },
      "source": [
        "### Entrenamiento y evaluación"
      ]
    },
    {
      "cell_type": "code",
      "execution_count": null,
      "metadata": {
        "id": "BwjCPJ_6NgoY"
      },
      "outputs": [],
      "source": [
        "from sklearn.tree import DecisionTreeClassifier\n",
        "\n",
        "clf = DecisionTreeClassifier()  # Create Decision Tree classifier object\n",
        "clf = clf.fit(X_train,y_train)  # Train Decision Tree Classifier\n",
        "y_pred = clf.predict(X_test)    # Predict the response for test dataset"
      ]
    },
    {
      "cell_type": "markdown",
      "metadata": {
        "id": "TYrghH9rC-F9"
      },
      "source": [
        "Dados que los datos siguen siendo linealmente separables, seguimos obteniendo el 100% en todas las métricas."
      ]
    },
    {
      "cell_type": "code",
      "execution_count": null,
      "metadata": {
        "id": "1lSQ8DO4_zwA"
      },
      "outputs": [],
      "source": [
        "from sklearn.metrics import confusion_matrix\n",
        "import seaborn as sns\n",
        "from sklearn.metrics import accuracy_score, recall_score, precision_score\n",
        "\n",
        "print(f\"Accuracy: {round(accuracy_score(y_test,y_pred),3)}\")\n",
        "print(f\"Recall: {round(recall_score(y_test,y_pred),5)}\")\n",
        "print(f\"Precision: {round(precision_score(y_test,y_pred),3)}\")\n",
        "\n",
        "plt.figure(figsize=(3,3))\n",
        "cm = confusion_matrix(y_test,y_pred)\n",
        "s_cm = sns.heatmap(cm,cmap='plasma',annot=True, fmt='g')\n",
        "plt.show()"
      ]
    },
    {
      "cell_type": "markdown",
      "metadata": {
        "id": "jOcQyoF-NomE"
      },
      "source": [
        "### Visualización del árbol"
      ]
    },
    {
      "cell_type": "markdown",
      "metadata": {
        "id": "tNNNHtZ2DHm-"
      },
      "source": [
        "Sin embargo, el árbol empieza a hacerse más complejo."
      ]
    },
    {
      "cell_type": "code",
      "execution_count": null,
      "metadata": {
        "id": "eK2bQQc5_4yd"
      },
      "outputs": [],
      "source": [
        "from sklearn.tree import export_text\n",
        "\n",
        "text_representation = export_text(decision_tree=clf,feature_names=['x','y'])\n",
        "print(text_representation)"
      ]
    },
    {
      "cell_type": "markdown",
      "metadata": {
        "id": "M0smc2XnR1F3"
      },
      "source": [
        "La frontera de decisión no es la que esperaríamos:"
      ]
    },
    {
      "cell_type": "code",
      "execution_count": null,
      "metadata": {
        "id": "mx8i-5bGCUUq"
      },
      "outputs": [],
      "source": [
        "_ = graficar_FD(Xr,y,clf,h=0.5)"
      ]
    },
    {
      "cell_type": "markdown",
      "metadata": {
        "id": "fMZFacpJqyQj"
      },
      "source": [
        "Como podemos ver, este clasificador no separa con una línea en general, aún si los datos son linealmente separables. **Los árboles de decisión obtienen una FD compuesta de segmentos de línea verticales y horizontales.**"
      ]
    },
    {
      "cell_type": "markdown",
      "metadata": {
        "id": "11W12kCidBep"
      },
      "source": [
        "### Efecto de perturbaciones"
      ]
    },
    {
      "cell_type": "markdown",
      "metadata": {
        "id": "Mr0pJ-nKSfQo"
      },
      "source": [
        "Ahora, observemos el efecto de perturbar levemente el conjunto de datos. ¿Qué le pasa al arbol de decisión?\n",
        "\n",
        "Este tipo de perturbaciones pueden ocurrir como resultado de errores de medición o de la presencia de outliers.\n",
        "\n",
        "Movemos un par de puntos cerca de la FD."
      ]
    },
    {
      "cell_type": "code",
      "execution_count": null,
      "metadata": {
        "id": "8hUiUrdOdH9b"
      },
      "outputs": [],
      "source": [
        "Xrp = Xr.copy()\n",
        "Xrp[192] = Xrp[192] + np.array([-1,-2])\n",
        "Xrp[486] = Xrp[486] + np.array([2,1])\n",
        "\n",
        "fig, axs = plt.subplots(1,2,figsize=(9,5),sharey=True)\n",
        "axs[0].scatter(Xr[:,0],Xr[:,1],c=['blue' if yi==0 else 'red' for yi in y])\n",
        "axs[0].set_title(\"Original dataset\")\n",
        "axs[1].scatter(Xrp[:,0],Xrp[:,1],c=['blue' if yi==0 else 'red' for yi in y])\n",
        "axs[1].set_title(\"Perturbed dataset\")\n",
        "fig.show()"
      ]
    },
    {
      "cell_type": "code",
      "execution_count": null,
      "metadata": {
        "id": "PiWGKgphQJFU"
      },
      "outputs": [],
      "source": [
        "from sklearn.model_selection import train_test_split\n",
        "from sklearn.tree import DecisionTreeClassifier\n",
        "\n",
        "X_train, X_test, y_train, y_test = train_test_split(Xrp, y, test_size=0.3, random_state=101) # 70% training and 30% test\n",
        "\n",
        "clf = DecisionTreeClassifier()  # Create Decision Tree classifier object\n",
        "clf = clf.fit(X_train,y_train)  # Train Decision Tree Classifier\n",
        "y_pred = clf.predict(X_test)    # Predict the response for test dataset"
      ]
    },
    {
      "cell_type": "code",
      "execution_count": null,
      "metadata": {
        "id": "dl_M9fD2QJFW"
      },
      "outputs": [],
      "source": [
        "from sklearn.metrics import confusion_matrix\n",
        "import seaborn as sns\n",
        "from sklearn.metrics import accuracy_score, recall_score, precision_score\n",
        "\n",
        "print(f\"Accuracy: {round(accuracy_score(y_test,y_pred),3)}\")\n",
        "print(f\"Recall: {round(recall_score(y_test,y_pred),5)}\")\n",
        "print(f\"Precision: {round(precision_score(y_test,y_pred),3)}\")\n",
        "\n",
        "plt.figure(figsize=(3,3))\n",
        "cm = confusion_matrix(y_test,y_pred)\n",
        "s_cm = sns.heatmap(cm,cmap='plasma',annot=True, fmt='g')\n",
        "plt.show()"
      ]
    },
    {
      "cell_type": "code",
      "execution_count": null,
      "metadata": {
        "id": "L5f2V5DEQJFX"
      },
      "outputs": [],
      "source": [
        "from sklearn.tree import export_text\n",
        "\n",
        "text_representation = export_text(decision_tree=clf,feature_names=['x','y'])\n",
        "print(text_representation)"
      ]
    },
    {
      "cell_type": "code",
      "execution_count": null,
      "metadata": {
        "id": "fbmVDMdXQJFY"
      },
      "outputs": [],
      "source": [
        "_ = graficar_FD(Xrp,y,clf,h=0.5)"
      ]
    },
    {
      "cell_type": "markdown",
      "metadata": {
        "id": "BOHwPFOmX7zx"
      },
      "source": [
        "# Ejemplo 2: MNIST"
      ]
    },
    {
      "cell_type": "markdown",
      "metadata": {
        "id": "Ew7tZerDkAYF"
      },
      "source": [
        "Ver la diferencia entre normalizar o no"
      ]
    },
    {
      "cell_type": "code",
      "execution_count": 1,
      "metadata": {
        "id": "Le5lbPpXX_oj"
      },
      "outputs": [],
      "source": [
        "from sklearn.datasets import load_digits\n",
        "\n",
        "digits = load_digits()\n",
        "\n",
        "X = digits.data\n",
        "y = digits.target"
      ]
    },
    {
      "cell_type": "code",
      "execution_count": 2,
      "metadata": {
        "id": "JG9-Y5TVYWxR"
      },
      "outputs": [],
      "source": [
        "from sklearn.tree import DecisionTreeClassifier\n",
        "from sklearn.model_selection import train_test_split\n",
        "\n",
        "X_train, X_test, y_train, y_test = train_test_split(X, y, test_size=0.3, random_state=101)\n",
        "\n",
        "clf = DecisionTreeClassifier()\n",
        "clf = clf.fit(X_train,y_train)\n",
        "y_pred = clf.predict(X_test)"
      ]
    },
    {
      "cell_type": "code",
      "execution_count": 3,
      "metadata": {
        "id": "Lpuc3WXfSJFc"
      },
      "outputs": [
        {
          "name": "stdout",
          "output_type": "stream",
          "text": [
            "Accuracy entrenamiento: 1.0\n",
            "Accuracy prueba: 0.8574074074074074\n"
          ]
        }
      ],
      "source": [
        "print(f\"Accuracy entrenamiento: {clf.score(X_train,y_train)}\")\n",
        "print(f\"Accuracy prueba: {clf.score(X_test,y_test)}\")"
      ]
    },
    {
      "cell_type": "markdown",
      "metadata": {
        "id": "4gWKa8KHS99Y"
      },
      "source": [
        "Viendo las métricas, ¿hay señales de entrenamiento?"
      ]
    },
    {
      "cell_type": "code",
      "execution_count": 4,
      "metadata": {
        "id": "fMzvZFqlYwRN"
      },
      "outputs": [
        {
          "name": "stdout",
          "output_type": "stream",
          "text": [
            "Accuracy: 0.857\n",
            "Recall: 0.86\n",
            "Precision: 0.858\n"
          ]
        },
        {
          "data": {
            "image/png": "[encoded data removed]",
            "text/plain": [
              "<Figure size 300x300 with 2 Axes>"
            ]
          },
          "metadata": {},
          "output_type": "display_data"
        }
      ],
      "source": [
        "import matplotlib.pyplot as plt\n",
        "import seaborn as sns\n",
        "from sklearn.metrics import accuracy_score, recall_score, precision_score, confusion_matrix\n",
        "\n",
        "print(f\"Accuracy: {round(accuracy_score(y_test,y_pred),3)}\")\n",
        "print(f\"Recall: {round(recall_score(y_test,y_pred, average='macro'),3)}\")\n",
        "print(f\"Precision: {round(precision_score(y_test,y_pred, average='macro'),3)}\")\n",
        "\n",
        "plt.figure(figsize=(3,3))\n",
        "cm = confusion_matrix(y_test,y_pred)\n",
        "s_cm = sns.heatmap(cm,cmap='plasma',annot=True, fmt='g')\n",
        "plt.show()"
      ]
    },
    {
      "cell_type": "code",
      "execution_count": 5,
      "metadata": {
        "id": "5CIDRJC9Y7NU"
      },
      "outputs": [
        {
          "name": "stdout",
          "output_type": "stream",
          "text": [
            "|--- pixel_37 <= 0.50\n",
            "|   |--- pixel_34 <= 0.50\n",
            "|   |   |--- pixel_22 <= 6.00\n",
            "|   |   |   |--- pixel_5 <= 11.50\n",
            "|   |   |   |   |--- pixel_60 <= 11.00\n",
            "|   |   |   |   |   |--- class: 6\n",
            "|   |   |   |   |--- pixel_60 >  11.00\n",
            "|   |   |   |   |   |--- class: 2\n",
            "|   |   |   |--- pixel_5 >  11.50\n",
            "|   |   |   |   |--- class: 5\n",
            "|   |   |--- pixel_22 >  6.00\n",
            "|   |   |   |--- pixel_44 <= 7.00\n",
            "|   |   |   |   |--- class: 9\n",
            "|   |   |   |--- pixel_44 >  7.00\n",
            "|   |   |   |   |--- pixel_11 <= 9.00\n",
            "|   |   |   |   |   |--- class: 2\n",
            "|   |   |   |   |--- pixel_11 >  9.00\n",
            "|   |   |   |   |   |--- class: 8\n",
            "|   |--- pixel_34 >  0.50\n",
            "|   |   |--- pixel_7 <= 1.50\n",
            "|   |   |   |--- pixel_14 <= 1.50\n",
            "|   |   |   |   |--- pixel_4 <= 7.50\n",
            "|   |   |   |   |   |--- class: 4\n",
            "|   |   |   |   |--- pixel_4 >  7.50\n",
            "|   |   |   |   |   |--- class: 6\n",
            "|   |   |   |--- pixel_14 >  1.50\n",
            "|   |   |   |   |--- pixel_29 <= 4.50\n",
            "|   |   |   |   |   |--- class: 0\n",
            "|   |   |   |   |--- pixel_29 >  4.50\n",
            "|   |   |   |   |   |--- pixel_39 <= 4.00\n",
            "|   |   |   |   |   |   |--- class: 8\n",
            "|   |   |   |   |   |--- pixel_39 >  4.00\n",
            "|   |   |   |   |   |   |--- class: 5\n",
            "|   |   |--- pixel_7 >  1.50\n",
            "|   |   |   |--- pixel_36 <= 12.50\n",
            "|   |   |   |   |--- class: 5\n",
            "|   |   |   |--- pixel_36 >  12.50\n",
            "|   |   |   |   |--- class: 8\n",
            "|--- pixel_37 >  0.50\n",
            "|   |--- pixel_22 <= 0.50\n",
            "|   |   |--- pixel_43 <= 8.50\n",
            "|   |   |   |--- pixel_6 <= 2.50\n",
            "|   |   |   |   |--- pixel_11 <= 11.50\n",
            "|   |   |   |   |   |--- pixel_38 <= 8.50\n",
            "|   |   |   |   |   |   |--- pixel_46 <= 14.00\n",
            "|   |   |   |   |   |   |   |--- class: 1\n",
            "|   |   |   |   |   |   |--- pixel_46 >  14.00\n",
            "|   |   |   |   |   |   |   |--- pixel_2 <= 0.50\n",
            "|   |   |   |   |   |   |   |   |--- class: 6\n",
            "|   |   |   |   |   |   |   |--- pixel_2 >  0.50\n",
            "|   |   |   |   |   |   |   |   |--- class: 3\n",
            "|   |   |   |   |   |--- pixel_38 >  8.50\n",
            "|   |   |   |   |   |   |--- pixel_45 <= 10.50\n",
            "|   |   |   |   |   |   |   |--- pixel_44 <= 8.00\n",
            "|   |   |   |   |   |   |   |   |--- class: 3\n",
            "|   |   |   |   |   |   |   |--- pixel_44 >  8.00\n",
            "|   |   |   |   |   |   |   |   |--- pixel_52 <= 14.00\n",
            "|   |   |   |   |   |   |   |   |   |--- class: 7\n",
            "|   |   |   |   |   |   |   |   |--- pixel_52 >  14.00\n",
            "|   |   |   |   |   |   |   |   |   |--- class: 6\n",
            "|   |   |   |   |   |   |--- pixel_45 >  10.50\n",
            "|   |   |   |   |   |   |   |--- class: 4\n",
            "|   |   |   |   |--- pixel_11 >  11.50\n",
            "|   |   |   |   |   |--- pixel_38 <= 4.00\n",
            "|   |   |   |   |   |   |--- pixel_27 <= 12.50\n",
            "|   |   |   |   |   |   |   |--- pixel_13 <= 1.50\n",
            "|   |   |   |   |   |   |   |   |--- class: 1\n",
            "|   |   |   |   |   |   |   |--- pixel_13 >  1.50\n",
            "|   |   |   |   |   |   |   |   |--- class: 2\n",
            "|   |   |   |   |   |   |--- pixel_27 >  12.50\n",
            "|   |   |   |   |   |   |   |--- class: 8\n",
            "|   |   |   |   |   |--- pixel_38 >  4.00\n",
            "|   |   |   |   |   |   |--- pixel_27 <= 12.50\n",
            "|   |   |   |   |   |   |   |--- class: 3\n",
            "|   |   |   |   |   |   |--- pixel_27 >  12.50\n",
            "|   |   |   |   |   |   |   |--- pixel_38 <= 13.50\n",
            "|   |   |   |   |   |   |   |   |--- pixel_4 <= 11.50\n",
            "|   |   |   |   |   |   |   |   |   |--- class: 9\n",
            "|   |   |   |   |   |   |   |   |--- pixel_4 >  11.50\n",
            "|   |   |   |   |   |   |   |   |   |--- class: 8\n",
            "|   |   |   |   |   |   |   |--- pixel_38 >  13.50\n",
            "|   |   |   |   |   |   |   |   |--- class: 5\n",
            "|   |   |   |--- pixel_6 >  2.50\n",
            "|   |   |   |   |--- pixel_19 <= 6.00\n",
            "|   |   |   |   |   |--- pixel_28 <= 10.50\n",
            "|   |   |   |   |   |   |--- class: 7\n",
            "|   |   |   |   |   |--- pixel_28 >  10.50\n",
            "|   |   |   |   |   |   |--- pixel_6 <= 4.00\n",
            "|   |   |   |   |   |   |   |--- class: 4\n",
            "|   |   |   |   |   |   |--- pixel_6 >  4.00\n",
            "|   |   |   |   |   |   |   |--- class: 3\n",
            "|   |   |   |   |--- pixel_19 >  6.00\n",
            "|   |   |   |   |   |--- class: 5\n",
            "|   |   |--- pixel_43 >  8.50\n",
            "|   |   |   |--- pixel_55 <= 0.50\n",
            "|   |   |   |   |--- pixel_38 <= 6.50\n",
            "|   |   |   |   |   |--- pixel_54 <= 4.50\n",
            "|   |   |   |   |   |   |--- class: 1\n",
            "|   |   |   |   |   |--- pixel_54 >  4.50\n",
            "|   |   |   |   |   |   |--- pixel_54 <= 9.50\n",
            "|   |   |   |   |   |   |   |--- class: 2\n",
            "|   |   |   |   |   |   |--- pixel_54 >  9.50\n",
            "|   |   |   |   |   |   |   |--- class: 6\n",
            "|   |   |   |   |--- pixel_38 >  6.50\n",
            "|   |   |   |   |   |--- class: 4\n",
            "|   |   |   |--- pixel_55 >  0.50\n",
            "|   |   |   |   |--- pixel_58 <= 0.50\n",
            "|   |   |   |   |   |--- pixel_6 <= 12.50\n",
            "|   |   |   |   |   |   |--- class: 6\n",
            "|   |   |   |   |   |--- pixel_6 >  12.50\n",
            "|   |   |   |   |   |   |--- class: 5\n",
            "|   |   |   |   |--- pixel_58 >  0.50\n",
            "|   |   |   |   |   |--- class: 2\n",
            "|   |--- pixel_22 >  0.50\n",
            "|   |   |--- pixel_61 <= 5.50\n",
            "|   |   |   |--- pixel_27 <= 10.50\n",
            "|   |   |   |   |--- pixel_54 <= 3.50\n",
            "|   |   |   |   |   |--- pixel_52 <= 2.50\n",
            "|   |   |   |   |   |   |--- pixel_20 <= 4.00\n",
            "|   |   |   |   |   |   |   |--- class: 3\n",
            "|   |   |   |   |   |   |--- pixel_20 >  4.00\n",
            "|   |   |   |   |   |   |   |--- class: 8\n",
            "|   |   |   |   |   |--- pixel_52 >  2.50\n",
            "|   |   |   |   |   |   |--- pixel_58 <= 2.50\n",
            "|   |   |   |   |   |   |   |--- class: 7\n",
            "|   |   |   |   |   |   |--- pixel_58 >  2.50\n",
            "|   |   |   |   |   |   |   |--- pixel_38 <= 6.00\n",
            "|   |   |   |   |   |   |   |   |--- class: 3\n",
            "|   |   |   |   |   |   |   |--- pixel_38 >  6.00\n",
            "|   |   |   |   |   |   |   |   |--- class: 7\n",
            "|   |   |   |   |--- pixel_54 >  3.50\n",
            "|   |   |   |   |   |--- pixel_13 <= 10.00\n",
            "|   |   |   |   |   |   |--- class: 3\n",
            "|   |   |   |   |   |--- pixel_13 >  10.00\n",
            "|   |   |   |   |   |   |--- pixel_60 <= 2.00\n",
            "|   |   |   |   |   |   |   |--- class: 1\n",
            "|   |   |   |   |   |   |--- pixel_60 >  2.00\n",
            "|   |   |   |   |   |   |   |--- pixel_63 <= 3.00\n",
            "|   |   |   |   |   |   |   |   |--- class: 2\n",
            "|   |   |   |   |   |   |   |--- pixel_63 >  3.00\n",
            "|   |   |   |   |   |   |   |   |--- class: 8\n",
            "|   |   |   |--- pixel_27 >  10.50\n",
            "|   |   |   |   |--- pixel_13 <= 6.00\n",
            "|   |   |   |   |   |--- pixel_5 <= 13.00\n",
            "|   |   |   |   |   |   |--- class: 4\n",
            "|   |   |   |   |   |--- pixel_5 >  13.00\n",
            "|   |   |   |   |   |   |--- pixel_19 <= 9.00\n",
            "|   |   |   |   |   |   |   |--- class: 8\n",
            "|   |   |   |   |   |   |--- pixel_19 >  9.00\n",
            "|   |   |   |   |   |   |   |--- class: 9\n",
            "|   |   |   |   |--- pixel_13 >  6.00\n",
            "|   |   |   |   |   |--- pixel_11 <= 6.50\n",
            "|   |   |   |   |   |   |--- class: 1\n",
            "|   |   |   |   |   |--- pixel_11 >  6.50\n",
            "|   |   |   |   |   |   |--- pixel_18 <= 0.50\n",
            "|   |   |   |   |   |   |   |--- pixel_11 <= 15.00\n",
            "|   |   |   |   |   |   |   |   |--- class: 7\n",
            "|   |   |   |   |   |   |   |--- pixel_11 >  15.00\n",
            "|   |   |   |   |   |   |   |   |--- class: 5\n",
            "|   |   |   |   |   |   |--- pixel_18 >  0.50\n",
            "|   |   |   |   |   |   |   |--- pixel_28 <= 8.50\n",
            "|   |   |   |   |   |   |   |   |--- pixel_15 <= 8.00\n",
            "|   |   |   |   |   |   |   |   |   |--- class: 4\n",
            "|   |   |   |   |   |   |   |   |--- pixel_15 >  8.00\n",
            "|   |   |   |   |   |   |   |   |   |--- class: 7\n",
            "|   |   |   |   |   |   |   |--- pixel_28 >  8.50\n",
            "|   |   |   |   |   |   |   |   |--- pixel_46 <= 6.50\n",
            "|   |   |   |   |   |   |   |   |   |--- class: 9\n",
            "|   |   |   |   |   |   |   |   |--- pixel_46 >  6.50\n",
            "|   |   |   |   |   |   |   |   |   |--- pixel_27 <= 15.00\n",
            "|   |   |   |   |   |   |   |   |   |   |--- class: 9\n",
            "|   |   |   |   |   |   |   |   |   |--- pixel_27 >  15.00\n",
            "|   |   |   |   |   |   |   |   |   |   |--- class: 5\n",
            "|   |   |--- pixel_61 >  5.50\n",
            "|   |   |   |--- pixel_34 <= 4.50\n",
            "|   |   |   |   |--- pixel_44 <= 2.50\n",
            "|   |   |   |   |   |--- pixel_27 <= 3.50\n",
            "|   |   |   |   |   |   |--- pixel_29 <= 7.50\n",
            "|   |   |   |   |   |   |   |--- pixel_19 <= 11.00\n",
            "|   |   |   |   |   |   |   |   |--- class: 2\n",
            "|   |   |   |   |   |   |   |--- pixel_19 >  11.00\n",
            "|   |   |   |   |   |   |   |   |--- class: 9\n",
            "|   |   |   |   |   |   |--- pixel_29 >  7.50\n",
            "|   |   |   |   |   |   |   |--- pixel_20 <= 10.50\n",
            "|   |   |   |   |   |   |   |   |--- pixel_60 <= 5.00\n",
            "|   |   |   |   |   |   |   |   |   |--- class: 1\n",
            "|   |   |   |   |   |   |   |   |--- pixel_60 >  5.00\n",
            "|   |   |   |   |   |   |   |   |   |--- pixel_54 <= 7.50\n",
            "|   |   |   |   |   |   |   |   |   |   |--- pixel_6 <= 3.50\n",
            "|   |   |   |   |   |   |   |   |   |   |   |--- class: 9\n",
            "|   |   |   |   |   |   |   |   |   |   |--- pixel_6 >  3.50\n",
            "|   |   |   |   |   |   |   |   |   |   |   |--- class: 3\n",
            "|   |   |   |   |   |   |   |   |   |--- pixel_54 >  7.50\n",
            "|   |   |   |   |   |   |   |   |   |   |--- class: 3\n",
            "|   |   |   |   |   |   |   |--- pixel_20 >  10.50\n",
            "|   |   |   |   |   |   |   |   |--- pixel_39 <= 1.00\n",
            "|   |   |   |   |   |   |   |   |   |--- pixel_37 <= 14.00\n",
            "|   |   |   |   |   |   |   |   |   |   |--- class: 1\n",
            "|   |   |   |   |   |   |   |   |   |--- pixel_37 >  14.00\n",
            "|   |   |   |   |   |   |   |   |   |   |--- class: 8\n",
            "|   |   |   |   |   |   |   |   |--- pixel_39 >  1.00\n",
            "|   |   |   |   |   |   |   |   |   |--- class: 9\n",
            "|   |   |   |   |   |--- pixel_27 >  3.50\n",
            "|   |   |   |   |   |   |--- pixel_31 <= 0.50\n",
            "|   |   |   |   |   |   |   |--- pixel_43 <= 11.00\n",
            "|   |   |   |   |   |   |   |   |--- pixel_11 <= 7.50\n",
            "|   |   |   |   |   |   |   |   |   |--- class: 1\n",
            "|   |   |   |   |   |   |   |   |--- pixel_11 >  7.50\n",
            "|   |   |   |   |   |   |   |   |   |--- pixel_27 <= 8.00\n",
            "|   |   |   |   |   |   |   |   |   |   |--- pixel_10 <= 1.50\n",
            "|   |   |   |   |   |   |   |   |   |   |   |--- truncated branch of depth 2\n",
            "|   |   |   |   |   |   |   |   |   |   |--- pixel_10 >  1.50\n",
            "|   |   |   |   |   |   |   |   |   |   |   |--- truncated branch of depth 2\n",
            "|   |   |   |   |   |   |   |   |   |--- pixel_27 >  8.00\n",
            "|   |   |   |   |   |   |   |   |   |   |--- pixel_54 <= 6.50\n",
            "|   |   |   |   |   |   |   |   |   |   |   |--- truncated branch of depth 3\n",
            "|   |   |   |   |   |   |   |   |   |   |--- pixel_54 >  6.50\n",
            "|   |   |   |   |   |   |   |   |   |   |   |--- truncated branch of depth 3\n",
            "|   |   |   |   |   |   |   |--- pixel_43 >  11.00\n",
            "|   |   |   |   |   |   |   |   |--- class: 8\n",
            "|   |   |   |   |   |   |--- pixel_31 >  0.50\n",
            "|   |   |   |   |   |   |   |--- pixel_36 <= 1.00\n",
            "|   |   |   |   |   |   |   |   |--- pixel_60 <= 2.00\n",
            "|   |   |   |   |   |   |   |   |   |--- class: 1\n",
            "|   |   |   |   |   |   |   |   |--- pixel_60 >  2.00\n",
            "|   |   |   |   |   |   |   |   |   |--- pixel_21 <= 2.50\n",
            "|   |   |   |   |   |   |   |   |   |   |--- class: 7\n",
            "|   |   |   |   |   |   |   |   |   |--- pixel_21 >  2.50\n",
            "|   |   |   |   |   |   |   |   |   |   |--- class: 9\n",
            "|   |   |   |   |   |   |   |--- pixel_36 >  1.00\n",
            "|   |   |   |   |   |   |   |   |--- pixel_34 <= 3.00\n",
            "|   |   |   |   |   |   |   |   |   |--- pixel_29 <= 4.00\n",
            "|   |   |   |   |   |   |   |   |   |   |--- class: 8\n",
            "|   |   |   |   |   |   |   |   |   |--- pixel_29 >  4.00\n",
            "|   |   |   |   |   |   |   |   |   |   |--- class: 9\n",
            "|   |   |   |   |   |   |   |   |--- pixel_34 >  3.00\n",
            "|   |   |   |   |   |   |   |   |   |--- pixel_11 <= 4.50\n",
            "|   |   |   |   |   |   |   |   |   |   |--- class: 7\n",
            "|   |   |   |   |   |   |   |   |   |--- pixel_11 >  4.50\n",
            "|   |   |   |   |   |   |   |   |   |   |--- class: 4\n",
            "|   |   |   |   |--- pixel_44 >  2.50\n",
            "|   |   |   |   |   |--- pixel_28 <= 10.50\n",
            "|   |   |   |   |   |   |--- pixel_55 <= 1.50\n",
            "|   |   |   |   |   |   |   |--- pixel_61 <= 9.50\n",
            "|   |   |   |   |   |   |   |   |--- pixel_13 <= 3.50\n",
            "|   |   |   |   |   |   |   |   |   |--- class: 4\n",
            "|   |   |   |   |   |   |   |   |--- pixel_13 >  3.50\n",
            "|   |   |   |   |   |   |   |   |   |--- class: 7\n",
            "|   |   |   |   |   |   |   |--- pixel_61 >  9.50\n",
            "|   |   |   |   |   |   |   |   |--- pixel_36 <= 13.00\n",
            "|   |   |   |   |   |   |   |   |   |--- pixel_20 <= 11.50\n",
            "|   |   |   |   |   |   |   |   |   |   |--- class: 2\n",
            "|   |   |   |   |   |   |   |   |   |--- pixel_20 >  11.50\n",
            "|   |   |   |   |   |   |   |   |   |   |--- pixel_27 <= 11.50\n",
            "|   |   |   |   |   |   |   |   |   |   |   |--- class: 1\n",
            "|   |   |   |   |   |   |   |   |   |   |--- pixel_27 >  11.50\n",
            "|   |   |   |   |   |   |   |   |   |   |   |--- truncated branch of depth 2\n",
            "|   |   |   |   |   |   |   |   |--- pixel_36 >  13.00\n",
            "|   |   |   |   |   |   |   |   |   |--- pixel_51 <= 2.50\n",
            "|   |   |   |   |   |   |   |   |   |   |--- pixel_59 <= 2.50\n",
            "|   |   |   |   |   |   |   |   |   |   |   |--- truncated branch of depth 2\n",
            "|   |   |   |   |   |   |   |   |   |   |--- pixel_59 >  2.50\n",
            "|   |   |   |   |   |   |   |   |   |   |   |--- class: 3\n",
            "|   |   |   |   |   |   |   |   |   |--- pixel_51 >  2.50\n",
            "|   |   |   |   |   |   |   |   |   |   |--- class: 8\n",
            "|   |   |   |   |   |   |--- pixel_55 >  1.50\n",
            "|   |   |   |   |   |   |   |--- pixel_27 <= 11.00\n",
            "|   |   |   |   |   |   |   |   |--- pixel_39 <= 1.50\n",
            "|   |   |   |   |   |   |   |   |   |--- class: 2\n",
            "|   |   |   |   |   |   |   |   |--- pixel_39 >  1.50\n",
            "|   |   |   |   |   |   |   |   |   |--- class: 3\n",
            "|   |   |   |   |   |   |   |--- pixel_27 >  11.00\n",
            "|   |   |   |   |   |   |   |   |--- pixel_3 <= 4.50\n",
            "|   |   |   |   |   |   |   |   |   |--- class: 8\n",
            "|   |   |   |   |   |   |   |   |--- pixel_3 >  4.50\n",
            "|   |   |   |   |   |   |   |   |   |--- pixel_63 <= 4.50\n",
            "|   |   |   |   |   |   |   |   |   |   |--- class: 9\n",
            "|   |   |   |   |   |   |   |   |   |--- pixel_63 >  4.50\n",
            "|   |   |   |   |   |   |   |   |   |   |--- class: 2\n",
            "|   |   |   |   |   |--- pixel_28 >  10.50\n",
            "|   |   |   |   |   |   |--- pixel_21 <= 14.50\n",
            "|   |   |   |   |   |   |   |--- pixel_22 <= 4.00\n",
            "|   |   |   |   |   |   |   |   |--- pixel_42 <= 2.50\n",
            "|   |   |   |   |   |   |   |   |   |--- class: 1\n",
            "|   |   |   |   |   |   |   |   |--- pixel_42 >  2.50\n",
            "|   |   |   |   |   |   |   |   |   |--- class: 2\n",
            "|   |   |   |   |   |   |   |--- pixel_22 >  4.00\n",
            "|   |   |   |   |   |   |   |   |--- pixel_31 <= 5.50\n",
            "|   |   |   |   |   |   |   |   |   |--- pixel_37 <= 3.00\n",
            "|   |   |   |   |   |   |   |   |   |   |--- pixel_53 <= 10.50\n",
            "|   |   |   |   |   |   |   |   |   |   |   |--- class: 9\n",
            "|   |   |   |   |   |   |   |   |   |   |--- pixel_53 >  10.50\n",
            "|   |   |   |   |   |   |   |   |   |   |   |--- class: 8\n",
            "|   |   |   |   |   |   |   |   |   |--- pixel_37 >  3.00\n",
            "|   |   |   |   |   |   |   |   |   |   |--- pixel_3 <= 14.50\n",
            "|   |   |   |   |   |   |   |   |   |   |   |--- class: 8\n",
            "|   |   |   |   |   |   |   |   |   |   |--- pixel_3 >  14.50\n",
            "|   |   |   |   |   |   |   |   |   |   |   |--- truncated branch of depth 2\n",
            "|   |   |   |   |   |   |   |   |--- pixel_31 >  5.50\n",
            "|   |   |   |   |   |   |   |   |   |--- pixel_19 <= 7.50\n",
            "|   |   |   |   |   |   |   |   |   |   |--- class: 7\n",
            "|   |   |   |   |   |   |   |   |   |--- pixel_19 >  7.50\n",
            "|   |   |   |   |   |   |   |   |   |   |--- pixel_22 <= 12.50\n",
            "|   |   |   |   |   |   |   |   |   |   |   |--- class: 9\n",
            "|   |   |   |   |   |   |   |   |   |   |--- pixel_22 >  12.50\n",
            "|   |   |   |   |   |   |   |   |   |   |   |--- class: 0\n",
            "|   |   |   |   |   |   |--- pixel_21 >  14.50\n",
            "|   |   |   |   |   |   |   |--- pixel_10 <= 0.50\n",
            "|   |   |   |   |   |   |   |   |--- pixel_13 <= 14.00\n",
            "|   |   |   |   |   |   |   |   |   |--- pixel_35 <= 2.50\n",
            "|   |   |   |   |   |   |   |   |   |   |--- pixel_43 <= 6.00\n",
            "|   |   |   |   |   |   |   |   |   |   |   |--- class: 3\n",
            "|   |   |   |   |   |   |   |   |   |   |--- pixel_43 >  6.00\n",
            "|   |   |   |   |   |   |   |   |   |   |   |--- class: 2\n",
            "|   |   |   |   |   |   |   |   |   |--- pixel_35 >  2.50\n",
            "|   |   |   |   |   |   |   |   |   |   |--- class: 8\n",
            "|   |   |   |   |   |   |   |   |--- pixel_13 >  14.00\n",
            "|   |   |   |   |   |   |   |   |   |--- pixel_42 <= 8.50\n",
            "|   |   |   |   |   |   |   |   |   |   |--- pixel_29 <= 14.50\n",
            "|   |   |   |   |   |   |   |   |   |   |   |--- truncated branch of depth 2\n",
            "|   |   |   |   |   |   |   |   |   |   |--- pixel_29 >  14.50\n",
            "|   |   |   |   |   |   |   |   |   |   |   |--- class: 1\n",
            "|   |   |   |   |   |   |   |   |   |--- pixel_42 >  8.50\n",
            "|   |   |   |   |   |   |   |   |   |   |--- class: 4\n",
            "|   |   |   |   |   |   |   |--- pixel_10 >  0.50\n",
            "|   |   |   |   |   |   |   |   |--- pixel_43 <= 4.00\n",
            "|   |   |   |   |   |   |   |   |   |--- class: 3\n",
            "|   |   |   |   |   |   |   |   |--- pixel_43 >  4.00\n",
            "|   |   |   |   |   |   |   |   |   |--- pixel_45 <= 9.00\n",
            "|   |   |   |   |   |   |   |   |   |   |--- class: 2\n",
            "|   |   |   |   |   |   |   |   |   |--- pixel_45 >  9.00\n",
            "|   |   |   |   |   |   |   |   |   |   |--- class: 1\n",
            "|   |   |   |--- pixel_34 >  4.50\n",
            "|   |   |   |   |--- pixel_14 <= 8.50\n",
            "|   |   |   |   |   |--- pixel_45 <= 2.50\n",
            "|   |   |   |   |   |   |--- class: 6\n",
            "|   |   |   |   |   |--- pixel_45 >  2.50\n",
            "|   |   |   |   |   |   |--- pixel_38 <= 4.50\n",
            "|   |   |   |   |   |   |   |--- class: 1\n",
            "|   |   |   |   |   |   |--- pixel_38 >  4.50\n",
            "|   |   |   |   |   |   |   |--- class: 4\n",
            "|   |   |   |   |--- pixel_14 >  8.50\n",
            "|   |   |   |   |   |--- pixel_28 <= 14.00\n",
            "|   |   |   |   |   |   |--- pixel_21 <= 5.00\n",
            "|   |   |   |   |   |   |   |--- pixel_60 <= 10.50\n",
            "|   |   |   |   |   |   |   |   |--- pixel_52 <= 8.00\n",
            "|   |   |   |   |   |   |   |   |   |--- class: 9\n",
            "|   |   |   |   |   |   |   |   |--- pixel_52 >  8.00\n",
            "|   |   |   |   |   |   |   |   |   |--- pixel_12 <= 15.50\n",
            "|   |   |   |   |   |   |   |   |   |   |--- pixel_36 <= 8.00\n",
            "|   |   |   |   |   |   |   |   |   |   |   |--- class: 0\n",
            "|   |   |   |   |   |   |   |   |   |   |--- pixel_36 >  8.00\n",
            "|   |   |   |   |   |   |   |   |   |   |   |--- class: 8\n",
            "|   |   |   |   |   |   |   |   |   |--- pixel_12 >  15.50\n",
            "|   |   |   |   |   |   |   |   |   |   |--- class: 6\n",
            "|   |   |   |   |   |   |   |--- pixel_60 >  10.50\n",
            "|   |   |   |   |   |   |   |   |--- class: 7\n",
            "|   |   |   |   |   |   |--- pixel_21 >  5.00\n",
            "|   |   |   |   |   |   |   |--- class: 4\n",
            "|   |   |   |   |   |--- pixel_28 >  14.00\n",
            "|   |   |   |   |   |   |--- pixel_10 <= 3.50\n",
            "|   |   |   |   |   |   |   |--- class: 1\n",
            "|   |   |   |   |   |   |--- pixel_10 >  3.50\n",
            "|   |   |   |   |   |   |   |--- class: 8\n",
            "\n"
          ]
        }
      ],
      "source": [
        "from sklearn import tree\n",
        "\n",
        "from sklearn.tree import export_text\n",
        "\n",
        "text_representation = export_text(decision_tree=clf,feature_names=[f'pixel_{j+1}' for j in range(X.shape[1])])\n",
        "print(text_representation)"
      ]
    },
    {
      "cell_type": "markdown",
      "metadata": {
        "id": "6uP__ydLXPNJ"
      },
      "source": [
        "### No es necesaria la normalización"
      ]
    },
    {
      "cell_type": "code",
      "execution_count": 10,
      "metadata": {
        "id": "bquVwsUweOax"
      },
      "outputs": [
        {
          "name": "stdout",
          "output_type": "stream",
          "text": [
            "Accuracy de prueba (Normalizando): 0.8277777777777777\n",
            "Accuracy de prueba (Sin normalizar): 0.8574074074074074\n"
          ]
        }
      ],
      "source": [
        "from sklearn.pipeline import Pipeline\n",
        "from sklearn.preprocessing import StandardScaler, MinMaxScaler\n",
        "from sklearn.model_selection import train_test_split\n",
        "\n",
        "X_train, X_test, y_train, y_test = train_test_split(X, y, test_size=0.3, random_state=101)\n",
        "\n",
        "# ----- Normalizando ----\n",
        "pl = Pipeline([('scl',MinMaxScaler()),\n",
        "               ('clf',DecisionTreeClassifier())])\n",
        "pl.fit(X_train,y_train)\n",
        "print(f\"Accuracy de prueba (Normalizando): {pl.score(X_test,y_test)}\")\n",
        "\n",
        "# ---- Sin normalizar ----\n",
        "clf = DecisionTreeClassifier()\n",
        "clf = clf.fit(X_train,y_train)\n",
        "print(f\"Accuracy de prueba (Sin normalizar): {clf.score(X_test,y_test)}\")\n"
      ]
    },
    {
      "cell_type": "markdown",
      "metadata": {
        "id": "taNnvpVFfgTS"
      },
      "source": [
        "### Efecto de los hiperparámetros"
      ]
    },
    {
      "cell_type": "markdown",
      "metadata": {
        "id": "3ijxtqwiUTuU"
      },
      "source": [
        "Veamos cuál es el efecto en el accuracy de cambiar el parámetro `max_depth`"
      ]
    },
    {
      "cell_type": "code",
      "execution_count": 12,
      "metadata": {
        "id": "XdTS7E0-TG1T"
      },
      "outputs": [
        {
          "data": {
            "image/png": "[encoded data removed]",
            "text/plain": [
              "<Figure size 640x480 with 1 Axes>"
            ]
          },
          "metadata": {},
          "output_type": "display_data"
        }
      ],
      "source": [
        "depths = [2,3,4,5,6,7,8,9,10,11]\n",
        "train_scores = []\n",
        "test_scores = []\n",
        "\n",
        "for d in depths:\n",
        "    clf = DecisionTreeClassifier(max_depth=d)\n",
        "    clf = clf.fit(X_train,y_train)\n",
        "    y_pred = clf.predict(X_test)\n",
        "    train_scores.append(clf.score(X_train,y_train))\n",
        "    test_scores.append(clf.score(X_test,y_test))\n",
        "\n",
        "plt.figure()\n",
        "plt.plot(depths,train_scores,label='Entrenamiento')\n",
        "plt.plot(depths,test_scores,label='Prueba')\n",
        "plt.axhline(0.835,color='gray',linestyle='--')\n",
        "plt.legend(loc='best')\n",
        "plt.xlabel(\"max_depth\")\n",
        "plt.ylabel(\"accuracy\")\n",
        "plt.show()"
      ]
    },
    {
      "cell_type": "markdown",
      "metadata": {
        "id": "XY2wWtUTWT_X"
      },
      "source": [
        "Con la ayuda de gridsearch, veamos cuál es la mejor profundidad que podemos obtener"
      ]
    },
    {
      "cell_type": "code",
      "execution_count": 16,
      "metadata": {
        "id": "YKOmR3XTUzuC"
      },
      "outputs": [
        {
          "name": "stdout",
          "output_type": "stream",
          "text": [
            "{'max_depth': 9}\n",
            "Accuracy de prueba con el mejor clasificador: 0.8407407407407408\n"
          ]
        }
      ],
      "source": [
        "from sklearn.model_selection import GridSearchCV\n",
        "\n",
        "gs = GridSearchCV(estimator = DecisionTreeClassifier(),\n",
        "                  param_grid = {'max_depth': depths})\n",
        "gs.fit(X_train,y_train)\n",
        "print(gs.best_params_)\n",
        "print(f\"Accuracy de prueba con el mejor clasificador: {gs.best_estimator_.score(X_test,y_test)}\")"
      ]
    },
    {
      "cell_type": "markdown",
      "metadata": {
        "id": "_0uXYModWQsy"
      },
      "source": [
        "### Comparación con otros algoritmos"
      ]
    },
    {
      "cell_type": "code",
      "execution_count": null,
      "metadata": {
        "id": "vX-9U_75WS-m"
      },
      "outputs": [],
      "source": [
        "from sklearn.tree import DecisionTreeClassifier\n",
        "from sklearn.svm import SVC\n",
        "import time\n",
        "\n",
        "X_train, X_test, y_train, y_test = train_test_split(X, y, test_size=0.1, random_state=101)\n",
        "\n",
        "dt_times = []\n",
        "for j in range(5):\n",
        "    start = time.time()\n",
        "    clf = DecisionTreeClassifier(max_depth=None)\n",
        "    clf = clf.fit(X_train,y_train)\n",
        "    end = time.time()\n",
        "    dt_times.append(end-start)\n",
        "print(f\"Tiempo promedio de ejecución DT: {np.mean(dt_times)}\")\n",
        "\n",
        "svm_times = []\n",
        "for j in range(5):\n",
        "    start = time.time()\n",
        "    clf = SVC(kernel='linear')\n",
        "    clf = clf.fit(X_train,y_train)\n",
        "    end = time.time()\n",
        "    svm_times.append(end-start)\n",
        "print(f\"Tiempo promedio de ejecución SVM: {np.mean(svm_times)}\")\n"
      ]
    },
    {
      "cell_type": "markdown",
      "metadata": {
        "id": "YiHH6O5dbgM9"
      },
      "source": [
        "¿Cómo se compara el rendimiento?"
      ]
    },
    {
      "cell_type": "code",
      "execution_count": null,
      "metadata": {
        "id": "08bgv1Y0bmTI"
      },
      "outputs": [],
      "source": [
        "from sklearn.svm import SVC\n",
        "\n",
        "X_train, X_test, y_train, y_test = train_test_split(X, y, test_size=0.3, random_state=101)\n",
        "\n",
        "clf = SVC()\n",
        "clf = clf.fit(X_train,y_train)\n",
        "print(f\"Accuracy de prueba (SVM): {clf.score(X_test,y_test)}\")\n",
        "\n",
        "print(f\"Accuracy de prueba (DT): {gs.best_estimator_.score(X_test,y_test)}\")"
      ]
    },
    {
      "cell_type": "markdown",
      "metadata": {
        "id": "l744DLSs6FIg"
      },
      "source": [
        "# Ejemplo 3: PIMA Dataset"
      ]
    },
    {
      "cell_type": "markdown",
      "metadata": {
        "id": "VupVs1qxEAIR"
      },
      "source": [
        "## 1. El conjunto de datos"
      ]
    },
    {
      "cell_type": "markdown",
      "metadata": {
        "id": "G3vFmHPULcpU"
      },
      "source": [
        "Este dataset fue creado por el *National Institute of Diabetes and Digestive and Kidney Diseases* de Estados Unidos. El objetivo del dataset es predecir el diagnostico de cuándo un paciente tiene diabetes o no, basado en ciertas mediciones incluidas en el dataset. Varias restricciones fueron usadas en la selección de estas instancias para filtrar el dataset. En particular, se trata pacientes femeninas de al menos 21 años de edad pertenecientes al grupo indígena Pima de Arizona.\n",
        "\n",
        "Las variables incluidas son el numero de embarazos la paciente ha tenido, su BMI, nivel de insulina, edad, entre otras.\n",
        "\n",
        "El dataset se encuentra en https://www.kaggle.com/datasets/uciml/pima-indians-diabetes-database."
      ]
    },
    {
      "cell_type": "code",
      "execution_count": null,
      "metadata": {
        "id": "WvSDcCiBD_4M"
      },
      "outputs": [],
      "source": [
        "import pandas as pd\n",
        "\n",
        "url = 'https://github.com/DCDPUAEM/DCDP/raw/main/03%20Machine%20Learning/data/diabetes.csv'\n",
        "df = pd.read_csv(url,index_col=0)\n",
        "df"
      ]
    },
    {
      "cell_type": "markdown",
      "metadata": {
        "id": "8OBIK856IEcw"
      },
      "source": [
        "## Entrenar el clasificador y resultados"
      ]
    },
    {
      "cell_type": "markdown",
      "metadata": {
        "id": "6qMqoQT3IPXY"
      },
      "source": [
        "Escogemos las *features* que usaremos y definimos el dataset de features y el vector de etiquetas"
      ]
    },
    {
      "cell_type": "code",
      "execution_count": null,
      "metadata": {
        "id": "qOUwwCd5S3DO"
      },
      "outputs": [],
      "source": [
        "feature_cols = ['pregnant', 'insulin', 'bmi', 'age','glucose','bp','pedigree']\n",
        "\n",
        "X = df[feature_cols].values    # Features\n",
        "y = df['label'].values         # Target variable"
      ]
    },
    {
      "cell_type": "markdown",
      "metadata": {
        "id": "zOLVREgOIhWN"
      },
      "source": [
        "Dividimos los datos en train/test. Entrenamos el árbol de decisión usando la implementación de scikit-learn sklearn.tree.DecisionTreeClassifier. Realizamos la predicción sobre el conjunto de prueba."
      ]
    },
    {
      "cell_type": "code",
      "execution_count": null,
      "metadata": {
        "id": "PpZUvwi7Ig1u"
      },
      "outputs": [],
      "source": [
        "from sklearn.model_selection import train_test_split\n",
        "from sklearn.tree import DecisionTreeClassifier\n",
        "\n",
        "X_train, X_test, y_train, y_test = train_test_split(X, y, test_size=0.3, random_state=1) # 70% training and 30% test\n",
        "\n",
        "clf = DecisionTreeClassifier()\n",
        "clf = clf.fit(X_train,y_train)\n",
        "y_pred = clf.predict(X_test)"
      ]
    },
    {
      "cell_type": "code",
      "execution_count": null,
      "metadata": {
        "id": "rsso9OE3BVk_"
      },
      "outputs": [],
      "source": [
        "from sklearn.metrics import confusion_matrix\n",
        "import seaborn as sns\n",
        "from sklearn.metrics import accuracy_score, recall_score, precision_score\n",
        "\n",
        "print(f\"Accuracy: {round(accuracy_score(y_test,y_pred),3)}\")\n",
        "print(f\"Recall: {round(recall_score(y_test,y_pred),5)}\")\n",
        "print(f\"Precision: {round(precision_score(y_test,y_pred),3)}\")\n",
        "\n",
        "target_labels = ['no diabetes','diabetes']\n",
        "\n",
        "plt.figure(figsize=(3,3))\n",
        "cm = confusion_matrix(y_test,y_pred)\n",
        "s_cm = sns.heatmap(cm,cmap='plasma',annot=True, fmt='g',\n",
        "            xticklabels=target_labels,\n",
        "            yticklabels=target_labels)\n",
        "s_cm.set(xlabel='Predicted',ylabel='Real')\n",
        "plt.show()"
      ]
    },
    {
      "cell_type": "markdown",
      "metadata": {
        "id": "dXSNV3Kej-zy"
      },
      "source": [
        "## Importancia de las features"
      ]
    },
    {
      "cell_type": "markdown",
      "metadata": {
        "id": "004cEhuKaxFb"
      },
      "source": [
        "Podemos obtener la importancia de las features"
      ]
    },
    {
      "cell_type": "code",
      "execution_count": null,
      "metadata": {
        "id": "vTVRCjRpaw1z"
      },
      "outputs": [],
      "source": [
        "clf.feature_importances_"
      ]
    },
    {
      "cell_type": "code",
      "execution_count": null,
      "metadata": {
        "id": "O4RvkQpOamub"
      },
      "outputs": [],
      "source": [
        "importances_df = pd.DataFrame({'feature':feature_cols,'importancia':np.round(clf.feature_importances_,3)})\n",
        "importances_df.sort_values(by='importancia',ascending=False,inplace=True)\n",
        "importances_df"
      ]
    },
    {
      "cell_type": "markdown",
      "metadata": {
        "id": "SHIxJ_6Wj6dH"
      },
      "source": [
        "## Visualizaciones de los árboles"
      ]
    },
    {
      "cell_type": "markdown",
      "metadata": {
        "id": "77CcvUVsSghj"
      },
      "source": [
        "Al visualizar árboles de decisión recuerda que el escalamiento no es necesario, en general. Si decides escalar, esto tiene repercusiones en la visualización del árbol."
      ]
    },
    {
      "cell_type": "markdown",
      "metadata": {
        "id": "QUt9Z3-WlEvk"
      },
      "source": [
        "### Con scikit-learn"
      ]
    },
    {
      "cell_type": "code",
      "execution_count": null,
      "metadata": {
        "id": "as_iRGyHj8h0"
      },
      "outputs": [],
      "source": [
        "from sklearn.tree import export_text\n",
        "\n",
        "text_representation = export_text(decision_tree=clf,\n",
        "                                       feature_names=feature_cols)\n",
        "print(text_representation)"
      ]
    },
    {
      "cell_type": "code",
      "execution_count": null,
      "metadata": {
        "id": "QoyVuldWk1I6"
      },
      "outputs": [],
      "source": [
        "from sklearn.tree import plot_tree\n",
        "\n",
        "fig = plt.figure(figsize=(25,20))   # Definimos una figura más grande para que quepa\n",
        "_ = plot_tree(clf, feature_names=feature_cols,\n",
        "                   class_names=['0','1'],\n",
        "                   filled=True)"
      ]
    },
    {
      "cell_type": "markdown",
      "metadata": {
        "id": "nbHmh8pCWmzi"
      },
      "source": [
        "### Using [graphviz](https://graphviz.org/)"
      ]
    },
    {
      "cell_type": "code",
      "execution_count": null,
      "metadata": {
        "id": "4d_KAeh3SOpv"
      },
      "outputs": [],
      "source": [
        "from sklearn.tree import export_graphviz\n",
        "from six import StringIO\n",
        "from IPython.display import Image\n",
        "import pydotplus\n",
        "\n",
        "dot_data = StringIO()\n",
        "export_graphviz(clf, out_file=dot_data,\n",
        "                filled=True, rounded=True,\n",
        "                special_characters=True,feature_names = feature_cols,class_names=['0','1'])\n",
        "graph = pydotplus.graph_from_dot_data(dot_data.getvalue())\n",
        "graph.write_png('diabetes.png')\n",
        "Image(graph.create_png())"
      ]
    },
    {
      "cell_type": "markdown",
      "metadata": {
        "id": "c3PQex_sRsnz"
      },
      "source": [
        "### Using [dtreeviz](https://github.com/parrt/dtreeviz)"
      ]
    },
    {
      "cell_type": "code",
      "execution_count": null,
      "metadata": {
        "id": "dvKybSONxSut"
      },
      "outputs": [],
      "source": [
        "from dtreeviz import model\n",
        "\n",
        "ct = model(clf, X, y, feature_names = feature_cols)\n",
        "ct.view(fontname='DejaVu Sans')"
      ]
    },
    {
      "cell_type": "markdown",
      "metadata": {
        "id": "A_8WgZDGWjWm"
      },
      "source": [
        "Si queremos salvar la imagen"
      ]
    },
    {
      "cell_type": "code",
      "execution_count": null,
      "metadata": {
        "id": "Fq9Rqb3aWl85"
      },
      "outputs": [],
      "source": [
        "v = ct.view(fontname='DejaVu Sans')\n",
        "v.save(\"tree.svg\")"
      ]
    },
    {
      "cell_type": "markdown",
      "metadata": {
        "id": "XH4LAHlzH97g"
      },
      "source": [
        "#⭕ **Práctica**:\n",
        "\n",
        "¿Puedes subir las métricas de desempeño de este clasificador en este dataset? A continuación hay algunas opciones que puedes probar:\n",
        "\n",
        "* Observar la variable 'bmi', tiene valores 0, ¿qué sentido tienen estos?\n",
        "    * Puedes quitar esas instancias.\n",
        "    * Puedes quitar la variable.\n",
        "* Cambiar el conjunto de features, ya sea manualmente o con algún método como [VarianceThreshold](https://scikit-learn.org/stable/modules/generated/sklearn.feature_selection.VarianceThreshold.html#sklearn.feature_selection.VarianceThreshold), [SelectKBest](https://scikit-learn.org/stable/modules/generated/sklearn.feature_selection.SelectKBest.html), etc.\n",
        "* Realizar un gridsearch en los parámetros del clasificador: `max_depth`, `criterion`, `min_samples_leaf`."
      ]
    },
    {
      "cell_type": "markdown",
      "metadata": {
        "id": "gwbg6Q2uYs85"
      },
      "source": [
        "A continuación se muestra una estrategia para obtener alrededor de 75% de accuracy.\n",
        "\n",
        "Esta estrategia usa un imputador para reemplazar los valores 0 con el promedio. Además, se hace selección de features. Todo se junta en un pipeline.\n",
        "\n",
        "**Además, realizamos un gridsearch en un pipeline.**\n",
        "\n",
        "Puedes probar modificando algunos pasos para buscar obtener un mejor rendimiento."
      ]
    },
    {
      "cell_type": "code",
      "execution_count": 18,
      "metadata": {
        "id": "n_UHvMG_UADb"
      },
      "outputs": [
        {
          "data": {
            "text/html": [
              "<div>\n",
              "<style scoped>\n",
              "    .dataframe tbody tr th:only-of-type {\n",
              "        vertical-align: middle;\n",
              "    }\n",
              "\n",
              "    .dataframe tbody tr th {\n",
              "        vertical-align: top;\n",
              "    }\n",
              "\n",
              "    .dataframe thead th {\n",
              "        text-align: right;\n",
              "    }\n",
              "</style>\n",
              "<table border=\"1\" class=\"dataframe\">\n",
              "  <thead>\n",
              "    <tr style=\"text-align: right;\">\n",
              "      <th></th>\n",
              "      <th>pregnant</th>\n",
              "      <th>glucose</th>\n",
              "      <th>bp</th>\n",
              "      <th>skin</th>\n",
              "      <th>insulin</th>\n",
              "      <th>bmi</th>\n",
              "      <th>pedigree</th>\n",
              "      <th>age</th>\n",
              "      <th>label</th>\n",
              "    </tr>\n",
              "  </thead>\n",
              "  <tbody>\n",
              "    <tr>\n",
              "      <th>0</th>\n",
              "      <td>6</td>\n",
              "      <td>148</td>\n",
              "      <td>72</td>\n",
              "      <td>35</td>\n",
              "      <td>0</td>\n",
              "      <td>33.6</td>\n",
              "      <td>0.627</td>\n",
              "      <td>50</td>\n",
              "      <td>1</td>\n",
              "    </tr>\n",
              "    <tr>\n",
              "      <th>1</th>\n",
              "      <td>1</td>\n",
              "      <td>85</td>\n",
              "      <td>66</td>\n",
              "      <td>29</td>\n",
              "      <td>0</td>\n",
              "      <td>26.6</td>\n",
              "      <td>0.351</td>\n",
              "      <td>31</td>\n",
              "      <td>0</td>\n",
              "    </tr>\n",
              "    <tr>\n",
              "      <th>2</th>\n",
              "      <td>8</td>\n",
              "      <td>183</td>\n",
              "      <td>64</td>\n",
              "      <td>0</td>\n",
              "      <td>0</td>\n",
              "      <td>23.3</td>\n",
              "      <td>0.672</td>\n",
              "      <td>32</td>\n",
              "      <td>1</td>\n",
              "    </tr>\n",
              "    <tr>\n",
              "      <th>3</th>\n",
              "      <td>1</td>\n",
              "      <td>89</td>\n",
              "      <td>66</td>\n",
              "      <td>23</td>\n",
              "      <td>94</td>\n",
              "      <td>28.1</td>\n",
              "      <td>0.167</td>\n",
              "      <td>21</td>\n",
              "      <td>0</td>\n",
              "    </tr>\n",
              "    <tr>\n",
              "      <th>4</th>\n",
              "      <td>0</td>\n",
              "      <td>137</td>\n",
              "      <td>40</td>\n",
              "      <td>35</td>\n",
              "      <td>168</td>\n",
              "      <td>43.1</td>\n",
              "      <td>2.288</td>\n",
              "      <td>33</td>\n",
              "      <td>1</td>\n",
              "    </tr>\n",
              "    <tr>\n",
              "      <th>...</th>\n",
              "      <td>...</td>\n",
              "      <td>...</td>\n",
              "      <td>...</td>\n",
              "      <td>...</td>\n",
              "      <td>...</td>\n",
              "      <td>...</td>\n",
              "      <td>...</td>\n",
              "      <td>...</td>\n",
              "      <td>...</td>\n",
              "    </tr>\n",
              "    <tr>\n",
              "      <th>763</th>\n",
              "      <td>10</td>\n",
              "      <td>101</td>\n",
              "      <td>76</td>\n",
              "      <td>48</td>\n",
              "      <td>180</td>\n",
              "      <td>32.9</td>\n",
              "      <td>0.171</td>\n",
              "      <td>63</td>\n",
              "      <td>0</td>\n",
              "    </tr>\n",
              "    <tr>\n",
              "      <th>764</th>\n",
              "      <td>2</td>\n",
              "      <td>122</td>\n",
              "      <td>70</td>\n",
              "      <td>27</td>\n",
              "      <td>0</td>\n",
              "      <td>36.8</td>\n",
              "      <td>0.340</td>\n",
              "      <td>27</td>\n",
              "      <td>0</td>\n",
              "    </tr>\n",
              "    <tr>\n",
              "      <th>765</th>\n",
              "      <td>5</td>\n",
              "      <td>121</td>\n",
              "      <td>72</td>\n",
              "      <td>23</td>\n",
              "      <td>112</td>\n",
              "      <td>26.2</td>\n",
              "      <td>0.245</td>\n",
              "      <td>30</td>\n",
              "      <td>0</td>\n",
              "    </tr>\n",
              "    <tr>\n",
              "      <th>766</th>\n",
              "      <td>1</td>\n",
              "      <td>126</td>\n",
              "      <td>60</td>\n",
              "      <td>0</td>\n",
              "      <td>0</td>\n",
              "      <td>30.1</td>\n",
              "      <td>0.349</td>\n",
              "      <td>47</td>\n",
              "      <td>1</td>\n",
              "    </tr>\n",
              "    <tr>\n",
              "      <th>767</th>\n",
              "      <td>1</td>\n",
              "      <td>93</td>\n",
              "      <td>70</td>\n",
              "      <td>31</td>\n",
              "      <td>0</td>\n",
              "      <td>30.4</td>\n",
              "      <td>0.315</td>\n",
              "      <td>23</td>\n",
              "      <td>0</td>\n",
              "    </tr>\n",
              "  </tbody>\n",
              "</table>\n",
              "<p>768 rows × 9 columns</p>\n",
              "</div>"
            ],
            "text/plain": [
              "     pregnant  glucose  bp  skin  insulin   bmi  pedigree  age  label\n",
              "0           6      148  72    35        0  33.6     0.627   50      1\n",
              "1           1       85  66    29        0  26.6     0.351   31      0\n",
              "2           8      183  64     0        0  23.3     0.672   32      1\n",
              "3           1       89  66    23       94  28.1     0.167   21      0\n",
              "4           0      137  40    35      168  43.1     2.288   33      1\n",
              "..        ...      ...  ..   ...      ...   ...       ...  ...    ...\n",
              "763        10      101  76    48      180  32.9     0.171   63      0\n",
              "764         2      122  70    27        0  36.8     0.340   27      0\n",
              "765         5      121  72    23      112  26.2     0.245   30      0\n",
              "766         1      126  60     0        0  30.1     0.349   47      1\n",
              "767         1       93  70    31        0  30.4     0.315   23      0\n",
              "\n",
              "[768 rows x 9 columns]"
            ]
          },
          "execution_count": 18,
          "metadata": {},
          "output_type": "execute_result"
        }
      ],
      "source": [
        "import pandas as pd\n",
        "\n",
        "url = 'https://github.com/DCDPUAEM/DCDP/raw/main/03%20Machine%20Learning/data/diabetes.csv'\n",
        "df = pd.read_csv(url,index_col=0)\n",
        "df"
      ]
    },
    {
      "cell_type": "code",
      "execution_count": 19,
      "metadata": {
        "id": "l7MUiy728wC1"
      },
      "outputs": [
        {
          "name": "stdout",
          "output_type": "stream",
          "text": [
            "Nombres de las features: ['pregnant', 'glucose', 'bp', 'skin', 'insulin', 'bmi', 'pedigree', 'age']\n"
          ]
        }
      ],
      "source": [
        "feature_names = df.columns.to_list()[:-1]\n",
        "\n",
        "print(f\"Nombres de las features: {feature_names}\")"
      ]
    },
    {
      "cell_type": "code",
      "execution_count": 20,
      "metadata": {
        "id": "Lq-gOmZJ8q1a"
      },
      "outputs": [],
      "source": [
        "X = df.loc[:,feature_names].values\n",
        "y = df['label'].values"
      ]
    },
    {
      "cell_type": "markdown",
      "metadata": {
        "id": "yyBoAydZQX-w"
      },
      "source": [
        "### ⚡ GridSearch con pipeline"
      ]
    },
    {
      "cell_type": "code",
      "execution_count": 21,
      "metadata": {
        "id": "_tJwQ9WFbJLX"
      },
      "outputs": [
        {
          "ename": "ValueError",
          "evalue": "Invalid parameter 'clasificador' for estimator Pipeline(steps=[('scl', MinMaxScaler()), ('clf', DecisionTreeClassifier())]). Valid parameters are: ['memory', 'steps', 'verbose'].",
          "output_type": "error",
          "traceback": [
            "\u001b[1;31m---------------------------------------------------------------------------\u001b[0m",
            "\u001b[1;31m_RemoteTraceback\u001b[0m                          Traceback (most recent call last)",
            "\u001b[1;31m_RemoteTraceback\u001b[0m: \n\"\"\"\nTraceback (most recent call last):\n  File \"C:\\Users\\jared\\AppData\\Local\\Packages\\PythonSoftwareFoundation.Python.3.10_qbz5n2kfra8p0\\LocalCache\\local-packages\\Python310\\site-packages\\joblib\\externals\\loky\\process_executor.py\", line 463, in _process_worker\n    r = call_item()\n  File \"C:\\Users\\jared\\AppData\\Local\\Packages\\PythonSoftwareFoundation.Python.3.10_qbz5n2kfra8p0\\LocalCache\\local-packages\\Python310\\site-packages\\joblib\\externals\\loky\\process_executor.py\", line 291, in __call__\n    return self.fn(*self.args, **self.kwargs)\n  File \"C:\\Users\\jared\\AppData\\Local\\Packages\\PythonSoftwareFoundation.Python.3.10_qbz5n2kfra8p0\\LocalCache\\local-packages\\Python310\\site-packages\\joblib\\parallel.py\", line 589, in __call__\n    return [func(*args, **kwargs)\n  File \"C:\\Users\\jared\\AppData\\Local\\Packages\\PythonSoftwareFoundation.Python.3.10_qbz5n2kfra8p0\\LocalCache\\local-packages\\Python310\\site-packages\\joblib\\parallel.py\", line 589, in <listcomp>\n    return [func(*args, **kwargs)\n  File \"C:\\Users\\jared\\AppData\\Local\\Packages\\PythonSoftwareFoundation.Python.3.10_qbz5n2kfra8p0\\LocalCache\\local-packages\\Python310\\site-packages\\sklearn\\utils\\parallel.py\", line 129, in __call__\n    return self.function(*args, **kwargs)\n  File \"C:\\Users\\jared\\AppData\\Local\\Packages\\PythonSoftwareFoundation.Python.3.10_qbz5n2kfra8p0\\LocalCache\\local-packages\\Python310\\site-packages\\sklearn\\model_selection\\_validation.py\", line 878, in _fit_and_score\n    estimator = estimator.set_params(**clone(parameters, safe=False))\n  File \"C:\\Users\\jared\\AppData\\Local\\Packages\\PythonSoftwareFoundation.Python.3.10_qbz5n2kfra8p0\\LocalCache\\local-packages\\Python310\\site-packages\\sklearn\\pipeline.py\", line 239, in set_params\n    self._set_params(\"steps\", **kwargs)\n  File \"C:\\Users\\jared\\AppData\\Local\\Packages\\PythonSoftwareFoundation.Python.3.10_qbz5n2kfra8p0\\LocalCache\\local-packages\\Python310\\site-packages\\sklearn\\utils\\metaestimators.py\", line 71, in _set_params\n    super().set_params(**params)\n  File \"C:\\Users\\jared\\AppData\\Local\\Packages\\PythonSoftwareFoundation.Python.3.10_qbz5n2kfra8p0\\LocalCache\\local-packages\\Python310\\site-packages\\sklearn\\base.py\", line 279, in set_params\n    raise ValueError(\nValueError: Invalid parameter 'clasificador' for estimator Pipeline(steps=[('scl', MinMaxScaler()), ('clf', DecisionTreeClassifier())]). Valid parameters are: ['memory', 'steps', 'verbose'].\n\"\"\"",
            "\nThe above exception was the direct cause of the following exception:\n",
            "\u001b[1;31mValueError\u001b[0m                                Traceback (most recent call last)",
            "Cell \u001b[1;32mIn[21], line 11\u001b[0m\n\u001b[0;32m      3\u001b[0m param_grid \u001b[38;5;241m=\u001b[39m {\n\u001b[0;32m      4\u001b[0m     \u001b[38;5;124m\"\u001b[39m\u001b[38;5;124mselector__threshold\u001b[39m\u001b[38;5;124m\"\u001b[39m: [\u001b[38;5;241m0\u001b[39m,\u001b[38;5;241m0.1\u001b[39m,\u001b[38;5;241m0.2\u001b[39m,\u001b[38;5;241m0.5\u001b[39m],\n\u001b[0;32m      5\u001b[0m     \u001b[38;5;124m\"\u001b[39m\u001b[38;5;124mclasificador__criterion\u001b[39m\u001b[38;5;124m\"\u001b[39m: [\u001b[38;5;124m'\u001b[39m\u001b[38;5;124mgini\u001b[39m\u001b[38;5;124m'\u001b[39m,\u001b[38;5;124m'\u001b[39m\u001b[38;5;124mentropy\u001b[39m\u001b[38;5;124m'\u001b[39m],\n\u001b[0;32m      6\u001b[0m     \u001b[38;5;124m\"\u001b[39m\u001b[38;5;124mclasificador__max_depth\u001b[39m\u001b[38;5;124m\"\u001b[39m: [\u001b[38;5;28;01mNone\u001b[39;00m,\u001b[38;5;241m10\u001b[39m],\n\u001b[0;32m      7\u001b[0m     \u001b[38;5;124m\"\u001b[39m\u001b[38;5;124mclasificador__min_samples_split\u001b[39m\u001b[38;5;124m\"\u001b[39m: [\u001b[38;5;241m2\u001b[39m,\u001b[38;5;241m3\u001b[39m,\u001b[38;5;241m4\u001b[39m]\n\u001b[0;32m      8\u001b[0m }\n\u001b[0;32m     10\u001b[0m search \u001b[38;5;241m=\u001b[39m GridSearchCV(pl, param_grid, n_jobs\u001b[38;5;241m=\u001b[39m\u001b[38;5;241m2\u001b[39m)\n\u001b[1;32m---> 11\u001b[0m \u001b[43msearch\u001b[49m\u001b[38;5;241;43m.\u001b[39;49m\u001b[43mfit\u001b[49m\u001b[43m(\u001b[49m\u001b[43mX_train\u001b[49m\u001b[43m,\u001b[49m\u001b[43m \u001b[49m\u001b[43my_train\u001b[49m\u001b[43m)\u001b[49m\n\u001b[0;32m     12\u001b[0m \u001b[38;5;28mprint\u001b[39m(\u001b[38;5;124m\"\u001b[39m\u001b[38;5;124mBest parameter (CV score=\u001b[39m\u001b[38;5;132;01m%0.3f\u001b[39;00m\u001b[38;5;124m):\u001b[39m\u001b[38;5;124m\"\u001b[39m \u001b[38;5;241m%\u001b[39m search\u001b[38;5;241m.\u001b[39mbest_score_)\n\u001b[0;32m     13\u001b[0m \u001b[38;5;28mprint\u001b[39m(search\u001b[38;5;241m.\u001b[39mbest_params_)\n",
            "File \u001b[1;32m~\\AppData\\Local\\Packages\\PythonSoftwareFoundation.Python.3.10_qbz5n2kfra8p0\\LocalCache\\local-packages\\Python310\\site-packages\\sklearn\\base.py:1351\u001b[0m, in \u001b[0;36m_fit_context.<locals>.decorator.<locals>.wrapper\u001b[1;34m(estimator, *args, **kwargs)\u001b[0m\n\u001b[0;32m   1344\u001b[0m     estimator\u001b[38;5;241m.\u001b[39m_validate_params()\n\u001b[0;32m   1346\u001b[0m \u001b[38;5;28;01mwith\u001b[39;00m config_context(\n\u001b[0;32m   1347\u001b[0m     skip_parameter_validation\u001b[38;5;241m=\u001b[39m(\n\u001b[0;32m   1348\u001b[0m         prefer_skip_nested_validation \u001b[38;5;129;01mor\u001b[39;00m global_skip_validation\n\u001b[0;32m   1349\u001b[0m     )\n\u001b[0;32m   1350\u001b[0m ):\n\u001b[1;32m-> 1351\u001b[0m     \u001b[38;5;28;01mreturn\u001b[39;00m fit_method(estimator, \u001b[38;5;241m*\u001b[39margs, \u001b[38;5;241m*\u001b[39m\u001b[38;5;241m*\u001b[39mkwargs)\n",
            "File \u001b[1;32m~\\AppData\\Local\\Packages\\PythonSoftwareFoundation.Python.3.10_qbz5n2kfra8p0\\LocalCache\\local-packages\\Python310\\site-packages\\sklearn\\model_selection\\_search.py:970\u001b[0m, in \u001b[0;36mBaseSearchCV.fit\u001b[1;34m(self, X, y, **params)\u001b[0m\n\u001b[0;32m    964\u001b[0m     results \u001b[38;5;241m=\u001b[39m \u001b[38;5;28mself\u001b[39m\u001b[38;5;241m.\u001b[39m_format_results(\n\u001b[0;32m    965\u001b[0m         all_candidate_params, n_splits, all_out, all_more_results\n\u001b[0;32m    966\u001b[0m     )\n\u001b[0;32m    968\u001b[0m     \u001b[38;5;28;01mreturn\u001b[39;00m results\n\u001b[1;32m--> 970\u001b[0m \u001b[38;5;28;43mself\u001b[39;49m\u001b[38;5;241;43m.\u001b[39;49m\u001b[43m_run_search\u001b[49m\u001b[43m(\u001b[49m\u001b[43mevaluate_candidates\u001b[49m\u001b[43m)\u001b[49m\n\u001b[0;32m    972\u001b[0m \u001b[38;5;66;03m# multimetric is determined here because in the case of a callable\u001b[39;00m\n\u001b[0;32m    973\u001b[0m \u001b[38;5;66;03m# self.scoring the return type is only known after calling\u001b[39;00m\n\u001b[0;32m    974\u001b[0m first_test_score \u001b[38;5;241m=\u001b[39m all_out[\u001b[38;5;241m0\u001b[39m][\u001b[38;5;124m\"\u001b[39m\u001b[38;5;124mtest_scores\u001b[39m\u001b[38;5;124m\"\u001b[39m]\n",
            "File \u001b[1;32m~\\AppData\\Local\\Packages\\PythonSoftwareFoundation.Python.3.10_qbz5n2kfra8p0\\LocalCache\\local-packages\\Python310\\site-packages\\sklearn\\model_selection\\_search.py:1527\u001b[0m, in \u001b[0;36mGridSearchCV._run_search\u001b[1;34m(self, evaluate_candidates)\u001b[0m\n\u001b[0;32m   1525\u001b[0m \u001b[38;5;28;01mdef\u001b[39;00m \u001b[38;5;21m_run_search\u001b[39m(\u001b[38;5;28mself\u001b[39m, evaluate_candidates):\n\u001b[0;32m   1526\u001b[0m \u001b[38;5;250m    \u001b[39m\u001b[38;5;124;03m\"\"\"Search all candidates in param_grid\"\"\"\u001b[39;00m\n\u001b[1;32m-> 1527\u001b[0m     \u001b[43mevaluate_candidates\u001b[49m\u001b[43m(\u001b[49m\u001b[43mParameterGrid\u001b[49m\u001b[43m(\u001b[49m\u001b[38;5;28;43mself\u001b[39;49m\u001b[38;5;241;43m.\u001b[39;49m\u001b[43mparam_grid\u001b[49m\u001b[43m)\u001b[49m\u001b[43m)\u001b[49m\n",
            "File \u001b[1;32m~\\AppData\\Local\\Packages\\PythonSoftwareFoundation.Python.3.10_qbz5n2kfra8p0\\LocalCache\\local-packages\\Python310\\site-packages\\sklearn\\model_selection\\_search.py:916\u001b[0m, in \u001b[0;36mBaseSearchCV.fit.<locals>.evaluate_candidates\u001b[1;34m(candidate_params, cv, more_results)\u001b[0m\n\u001b[0;32m    908\u001b[0m \u001b[38;5;28;01mif\u001b[39;00m \u001b[38;5;28mself\u001b[39m\u001b[38;5;241m.\u001b[39mverbose \u001b[38;5;241m>\u001b[39m \u001b[38;5;241m0\u001b[39m:\n\u001b[0;32m    909\u001b[0m     \u001b[38;5;28mprint\u001b[39m(\n\u001b[0;32m    910\u001b[0m         \u001b[38;5;124m\"\u001b[39m\u001b[38;5;124mFitting \u001b[39m\u001b[38;5;132;01m{0}\u001b[39;00m\u001b[38;5;124m folds for each of \u001b[39m\u001b[38;5;132;01m{1}\u001b[39;00m\u001b[38;5;124m candidates,\u001b[39m\u001b[38;5;124m\"\u001b[39m\n\u001b[0;32m    911\u001b[0m         \u001b[38;5;124m\"\u001b[39m\u001b[38;5;124m totalling \u001b[39m\u001b[38;5;132;01m{2}\u001b[39;00m\u001b[38;5;124m fits\u001b[39m\u001b[38;5;124m\"\u001b[39m\u001b[38;5;241m.\u001b[39mformat(\n\u001b[0;32m    912\u001b[0m             n_splits, n_candidates, n_candidates \u001b[38;5;241m*\u001b[39m n_splits\n\u001b[0;32m    913\u001b[0m         )\n\u001b[0;32m    914\u001b[0m     )\n\u001b[1;32m--> 916\u001b[0m out \u001b[38;5;241m=\u001b[39m \u001b[43mparallel\u001b[49m\u001b[43m(\u001b[49m\n\u001b[0;32m    917\u001b[0m \u001b[43m    \u001b[49m\u001b[43mdelayed\u001b[49m\u001b[43m(\u001b[49m\u001b[43m_fit_and_score\u001b[49m\u001b[43m)\u001b[49m\u001b[43m(\u001b[49m\n\u001b[0;32m    918\u001b[0m \u001b[43m        \u001b[49m\u001b[43mclone\u001b[49m\u001b[43m(\u001b[49m\u001b[43mbase_estimator\u001b[49m\u001b[43m)\u001b[49m\u001b[43m,\u001b[49m\n\u001b[0;32m    919\u001b[0m \u001b[43m        \u001b[49m\u001b[43mX\u001b[49m\u001b[43m,\u001b[49m\n\u001b[0;32m    920\u001b[0m \u001b[43m        \u001b[49m\u001b[43my\u001b[49m\u001b[43m,\u001b[49m\n\u001b[0;32m    921\u001b[0m \u001b[43m        \u001b[49m\u001b[43mtrain\u001b[49m\u001b[38;5;241;43m=\u001b[39;49m\u001b[43mtrain\u001b[49m\u001b[43m,\u001b[49m\n\u001b[0;32m    922\u001b[0m \u001b[43m        \u001b[49m\u001b[43mtest\u001b[49m\u001b[38;5;241;43m=\u001b[39;49m\u001b[43mtest\u001b[49m\u001b[43m,\u001b[49m\n\u001b[0;32m    923\u001b[0m \u001b[43m        \u001b[49m\u001b[43mparameters\u001b[49m\u001b[38;5;241;43m=\u001b[39;49m\u001b[43mparameters\u001b[49m\u001b[43m,\u001b[49m\n\u001b[0;32m    924\u001b[0m \u001b[43m        \u001b[49m\u001b[43msplit_progress\u001b[49m\u001b[38;5;241;43m=\u001b[39;49m\u001b[43m(\u001b[49m\u001b[43msplit_idx\u001b[49m\u001b[43m,\u001b[49m\u001b[43m \u001b[49m\u001b[43mn_splits\u001b[49m\u001b[43m)\u001b[49m\u001b[43m,\u001b[49m\n\u001b[0;32m    925\u001b[0m \u001b[43m        \u001b[49m\u001b[43mcandidate_progress\u001b[49m\u001b[38;5;241;43m=\u001b[39;49m\u001b[43m(\u001b[49m\u001b[43mcand_idx\u001b[49m\u001b[43m,\u001b[49m\u001b[43m \u001b[49m\u001b[43mn_candidates\u001b[49m\u001b[43m)\u001b[49m\u001b[43m,\u001b[49m\n\u001b[0;32m    926\u001b[0m \u001b[43m        \u001b[49m\u001b[38;5;241;43m*\u001b[39;49m\u001b[38;5;241;43m*\u001b[39;49m\u001b[43mfit_and_score_kwargs\u001b[49m\u001b[43m,\u001b[49m\n\u001b[0;32m    927\u001b[0m \u001b[43m    \u001b[49m\u001b[43m)\u001b[49m\n\u001b[0;32m    928\u001b[0m \u001b[43m    \u001b[49m\u001b[38;5;28;43;01mfor\u001b[39;49;00m\u001b[43m \u001b[49m\u001b[43m(\u001b[49m\u001b[43mcand_idx\u001b[49m\u001b[43m,\u001b[49m\u001b[43m \u001b[49m\u001b[43mparameters\u001b[49m\u001b[43m)\u001b[49m\u001b[43m,\u001b[49m\u001b[43m \u001b[49m\u001b[43m(\u001b[49m\u001b[43msplit_idx\u001b[49m\u001b[43m,\u001b[49m\u001b[43m \u001b[49m\u001b[43m(\u001b[49m\u001b[43mtrain\u001b[49m\u001b[43m,\u001b[49m\u001b[43m \u001b[49m\u001b[43mtest\u001b[49m\u001b[43m)\u001b[49m\u001b[43m)\u001b[49m\u001b[43m \u001b[49m\u001b[38;5;129;43;01min\u001b[39;49;00m\u001b[43m \u001b[49m\u001b[43mproduct\u001b[49m\u001b[43m(\u001b[49m\n\u001b[0;32m    929\u001b[0m \u001b[43m        \u001b[49m\u001b[38;5;28;43menumerate\u001b[39;49m\u001b[43m(\u001b[49m\u001b[43mcandidate_params\u001b[49m\u001b[43m)\u001b[49m\u001b[43m,\u001b[49m\n\u001b[0;32m    930\u001b[0m \u001b[43m        \u001b[49m\u001b[38;5;28;43menumerate\u001b[39;49m\u001b[43m(\u001b[49m\u001b[43mcv\u001b[49m\u001b[38;5;241;43m.\u001b[39;49m\u001b[43msplit\u001b[49m\u001b[43m(\u001b[49m\u001b[43mX\u001b[49m\u001b[43m,\u001b[49m\u001b[43m \u001b[49m\u001b[43my\u001b[49m\u001b[43m,\u001b[49m\u001b[43m \u001b[49m\u001b[38;5;241;43m*\u001b[39;49m\u001b[38;5;241;43m*\u001b[39;49m\u001b[43mrouted_params\u001b[49m\u001b[38;5;241;43m.\u001b[39;49m\u001b[43msplitter\u001b[49m\u001b[38;5;241;43m.\u001b[39;49m\u001b[43msplit\u001b[49m\u001b[43m)\u001b[49m\u001b[43m)\u001b[49m\u001b[43m,\u001b[49m\n\u001b[0;32m    931\u001b[0m \u001b[43m    \u001b[49m\u001b[43m)\u001b[49m\n\u001b[0;32m    932\u001b[0m \u001b[43m\u001b[49m\u001b[43m)\u001b[49m\n\u001b[0;32m    934\u001b[0m \u001b[38;5;28;01mif\u001b[39;00m \u001b[38;5;28mlen\u001b[39m(out) \u001b[38;5;241m<\u001b[39m \u001b[38;5;241m1\u001b[39m:\n\u001b[0;32m    935\u001b[0m     \u001b[38;5;28;01mraise\u001b[39;00m \u001b[38;5;167;01mValueError\u001b[39;00m(\n\u001b[0;32m    936\u001b[0m         \u001b[38;5;124m\"\u001b[39m\u001b[38;5;124mNo fits were performed. \u001b[39m\u001b[38;5;124m\"\u001b[39m\n\u001b[0;32m    937\u001b[0m         \u001b[38;5;124m\"\u001b[39m\u001b[38;5;124mWas the CV iterator empty? \u001b[39m\u001b[38;5;124m\"\u001b[39m\n\u001b[0;32m    938\u001b[0m         \u001b[38;5;124m\"\u001b[39m\u001b[38;5;124mWere there no candidates?\u001b[39m\u001b[38;5;124m\"\u001b[39m\n\u001b[0;32m    939\u001b[0m     )\n",
            "File \u001b[1;32m~\\AppData\\Local\\Packages\\PythonSoftwareFoundation.Python.3.10_qbz5n2kfra8p0\\LocalCache\\local-packages\\Python310\\site-packages\\sklearn\\utils\\parallel.py:67\u001b[0m, in \u001b[0;36mParallel.__call__\u001b[1;34m(self, iterable)\u001b[0m\n\u001b[0;32m     62\u001b[0m config \u001b[38;5;241m=\u001b[39m get_config()\n\u001b[0;32m     63\u001b[0m iterable_with_config \u001b[38;5;241m=\u001b[39m (\n\u001b[0;32m     64\u001b[0m     (_with_config(delayed_func, config), args, kwargs)\n\u001b[0;32m     65\u001b[0m     \u001b[38;5;28;01mfor\u001b[39;00m delayed_func, args, kwargs \u001b[38;5;129;01min\u001b[39;00m iterable\n\u001b[0;32m     66\u001b[0m )\n\u001b[1;32m---> 67\u001b[0m \u001b[38;5;28;01mreturn\u001b[39;00m \u001b[38;5;28;43msuper\u001b[39;49m\u001b[43m(\u001b[49m\u001b[43m)\u001b[49m\u001b[38;5;241;43m.\u001b[39;49m\u001b[38;5;21;43m__call__\u001b[39;49m\u001b[43m(\u001b[49m\u001b[43miterable_with_config\u001b[49m\u001b[43m)\u001b[49m\n",
            "File \u001b[1;32m~\\AppData\\Local\\Packages\\PythonSoftwareFoundation.Python.3.10_qbz5n2kfra8p0\\LocalCache\\local-packages\\Python310\\site-packages\\joblib\\parallel.py:1952\u001b[0m, in \u001b[0;36mParallel.__call__\u001b[1;34m(self, iterable)\u001b[0m\n\u001b[0;32m   1946\u001b[0m \u001b[38;5;66;03m# The first item from the output is blank, but it makes the interpreter\u001b[39;00m\n\u001b[0;32m   1947\u001b[0m \u001b[38;5;66;03m# progress until it enters the Try/Except block of the generator and\u001b[39;00m\n\u001b[0;32m   1948\u001b[0m \u001b[38;5;66;03m# reach the first `yield` statement. This starts the aynchronous\u001b[39;00m\n\u001b[0;32m   1949\u001b[0m \u001b[38;5;66;03m# dispatch of the tasks to the workers.\u001b[39;00m\n\u001b[0;32m   1950\u001b[0m \u001b[38;5;28mnext\u001b[39m(output)\n\u001b[1;32m-> 1952\u001b[0m \u001b[38;5;28;01mreturn\u001b[39;00m output \u001b[38;5;28;01mif\u001b[39;00m \u001b[38;5;28mself\u001b[39m\u001b[38;5;241m.\u001b[39mreturn_generator \u001b[38;5;28;01melse\u001b[39;00m \u001b[38;5;28;43mlist\u001b[39;49m\u001b[43m(\u001b[49m\u001b[43moutput\u001b[49m\u001b[43m)\u001b[49m\n",
            "File \u001b[1;32m~\\AppData\\Local\\Packages\\PythonSoftwareFoundation.Python.3.10_qbz5n2kfra8p0\\LocalCache\\local-packages\\Python310\\site-packages\\joblib\\parallel.py:1595\u001b[0m, in \u001b[0;36mParallel._get_outputs\u001b[1;34m(self, iterator, pre_dispatch)\u001b[0m\n\u001b[0;32m   1592\u001b[0m     \u001b[38;5;28;01myield\u001b[39;00m\n\u001b[0;32m   1594\u001b[0m     \u001b[38;5;28;01mwith\u001b[39;00m \u001b[38;5;28mself\u001b[39m\u001b[38;5;241m.\u001b[39m_backend\u001b[38;5;241m.\u001b[39mretrieval_context():\n\u001b[1;32m-> 1595\u001b[0m         \u001b[38;5;28;01myield from\u001b[39;00m \u001b[38;5;28mself\u001b[39m\u001b[38;5;241m.\u001b[39m_retrieve()\n\u001b[0;32m   1597\u001b[0m \u001b[38;5;28;01mexcept\u001b[39;00m \u001b[38;5;167;01mGeneratorExit\u001b[39;00m:\n\u001b[0;32m   1598\u001b[0m     \u001b[38;5;66;03m# The generator has been garbage collected before being fully\u001b[39;00m\n\u001b[0;32m   1599\u001b[0m     \u001b[38;5;66;03m# consumed. This aborts the remaining tasks if possible and warn\u001b[39;00m\n\u001b[0;32m   1600\u001b[0m     \u001b[38;5;66;03m# the user if necessary.\u001b[39;00m\n\u001b[0;32m   1601\u001b[0m     \u001b[38;5;28mself\u001b[39m\u001b[38;5;241m.\u001b[39m_exception \u001b[38;5;241m=\u001b[39m \u001b[38;5;28;01mTrue\u001b[39;00m\n",
            "File \u001b[1;32m~\\AppData\\Local\\Packages\\PythonSoftwareFoundation.Python.3.10_qbz5n2kfra8p0\\LocalCache\\local-packages\\Python310\\site-packages\\joblib\\parallel.py:1699\u001b[0m, in \u001b[0;36mParallel._retrieve\u001b[1;34m(self)\u001b[0m\n\u001b[0;32m   1692\u001b[0m \u001b[38;5;28;01mwhile\u001b[39;00m \u001b[38;5;28mself\u001b[39m\u001b[38;5;241m.\u001b[39m_wait_retrieval():\n\u001b[0;32m   1693\u001b[0m \n\u001b[0;32m   1694\u001b[0m     \u001b[38;5;66;03m# If the callback thread of a worker has signaled that its task\u001b[39;00m\n\u001b[0;32m   1695\u001b[0m     \u001b[38;5;66;03m# triggered an exception, or if the retrieval loop has raised an\u001b[39;00m\n\u001b[0;32m   1696\u001b[0m     \u001b[38;5;66;03m# exception (e.g. `GeneratorExit`), exit the loop and surface the\u001b[39;00m\n\u001b[0;32m   1697\u001b[0m     \u001b[38;5;66;03m# worker traceback.\u001b[39;00m\n\u001b[0;32m   1698\u001b[0m     \u001b[38;5;28;01mif\u001b[39;00m \u001b[38;5;28mself\u001b[39m\u001b[38;5;241m.\u001b[39m_aborting:\n\u001b[1;32m-> 1699\u001b[0m         \u001b[38;5;28;43mself\u001b[39;49m\u001b[38;5;241;43m.\u001b[39;49m\u001b[43m_raise_error_fast\u001b[49m\u001b[43m(\u001b[49m\u001b[43m)\u001b[49m\n\u001b[0;32m   1700\u001b[0m         \u001b[38;5;28;01mbreak\u001b[39;00m\n\u001b[0;32m   1702\u001b[0m     \u001b[38;5;66;03m# If the next job is not ready for retrieval yet, we just wait for\u001b[39;00m\n\u001b[0;32m   1703\u001b[0m     \u001b[38;5;66;03m# async callbacks to progress.\u001b[39;00m\n",
            "File \u001b[1;32m~\\AppData\\Local\\Packages\\PythonSoftwareFoundation.Python.3.10_qbz5n2kfra8p0\\LocalCache\\local-packages\\Python310\\site-packages\\joblib\\parallel.py:1734\u001b[0m, in \u001b[0;36mParallel._raise_error_fast\u001b[1;34m(self)\u001b[0m\n\u001b[0;32m   1730\u001b[0m \u001b[38;5;66;03m# If this error job exists, immediatly raise the error by\u001b[39;00m\n\u001b[0;32m   1731\u001b[0m \u001b[38;5;66;03m# calling get_result. This job might not exists if abort has been\u001b[39;00m\n\u001b[0;32m   1732\u001b[0m \u001b[38;5;66;03m# called directly or if the generator is gc'ed.\u001b[39;00m\n\u001b[0;32m   1733\u001b[0m \u001b[38;5;28;01mif\u001b[39;00m error_job \u001b[38;5;129;01mis\u001b[39;00m \u001b[38;5;129;01mnot\u001b[39;00m \u001b[38;5;28;01mNone\u001b[39;00m:\n\u001b[1;32m-> 1734\u001b[0m     \u001b[43merror_job\u001b[49m\u001b[38;5;241;43m.\u001b[39;49m\u001b[43mget_result\u001b[49m\u001b[43m(\u001b[49m\u001b[38;5;28;43mself\u001b[39;49m\u001b[38;5;241;43m.\u001b[39;49m\u001b[43mtimeout\u001b[49m\u001b[43m)\u001b[49m\n",
            "File \u001b[1;32m~\\AppData\\Local\\Packages\\PythonSoftwareFoundation.Python.3.10_qbz5n2kfra8p0\\LocalCache\\local-packages\\Python310\\site-packages\\joblib\\parallel.py:736\u001b[0m, in \u001b[0;36mBatchCompletionCallBack.get_result\u001b[1;34m(self, timeout)\u001b[0m\n\u001b[0;32m    730\u001b[0m backend \u001b[38;5;241m=\u001b[39m \u001b[38;5;28mself\u001b[39m\u001b[38;5;241m.\u001b[39mparallel\u001b[38;5;241m.\u001b[39m_backend\n\u001b[0;32m    732\u001b[0m \u001b[38;5;28;01mif\u001b[39;00m backend\u001b[38;5;241m.\u001b[39msupports_retrieve_callback:\n\u001b[0;32m    733\u001b[0m     \u001b[38;5;66;03m# We assume that the result has already been retrieved by the\u001b[39;00m\n\u001b[0;32m    734\u001b[0m     \u001b[38;5;66;03m# callback thread, and is stored internally. It's just waiting to\u001b[39;00m\n\u001b[0;32m    735\u001b[0m     \u001b[38;5;66;03m# be returned.\u001b[39;00m\n\u001b[1;32m--> 736\u001b[0m     \u001b[38;5;28;01mreturn\u001b[39;00m \u001b[38;5;28;43mself\u001b[39;49m\u001b[38;5;241;43m.\u001b[39;49m\u001b[43m_return_or_raise\u001b[49m\u001b[43m(\u001b[49m\u001b[43m)\u001b[49m\n\u001b[0;32m    738\u001b[0m \u001b[38;5;66;03m# For other backends, the main thread needs to run the retrieval step.\u001b[39;00m\n\u001b[0;32m    739\u001b[0m \u001b[38;5;28;01mtry\u001b[39;00m:\n",
            "File \u001b[1;32m~\\AppData\\Local\\Packages\\PythonSoftwareFoundation.Python.3.10_qbz5n2kfra8p0\\LocalCache\\local-packages\\Python310\\site-packages\\joblib\\parallel.py:754\u001b[0m, in \u001b[0;36mBatchCompletionCallBack._return_or_raise\u001b[1;34m(self)\u001b[0m\n\u001b[0;32m    752\u001b[0m \u001b[38;5;28;01mtry\u001b[39;00m:\n\u001b[0;32m    753\u001b[0m     \u001b[38;5;28;01mif\u001b[39;00m \u001b[38;5;28mself\u001b[39m\u001b[38;5;241m.\u001b[39mstatus \u001b[38;5;241m==\u001b[39m TASK_ERROR:\n\u001b[1;32m--> 754\u001b[0m         \u001b[38;5;28;01mraise\u001b[39;00m \u001b[38;5;28mself\u001b[39m\u001b[38;5;241m.\u001b[39m_result\n\u001b[0;32m    755\u001b[0m     \u001b[38;5;28;01mreturn\u001b[39;00m \u001b[38;5;28mself\u001b[39m\u001b[38;5;241m.\u001b[39m_result\n\u001b[0;32m    756\u001b[0m \u001b[38;5;28;01mfinally\u001b[39;00m:\n",
            "\u001b[1;31mValueError\u001b[0m: Invalid parameter 'clasificador' for estimator Pipeline(steps=[('scl', MinMaxScaler()), ('clf', DecisionTreeClassifier())]). Valid parameters are: ['memory', 'steps', 'verbose']."
          ]
        }
      ],
      "source": [
        "from sklearn.model_selection import GridSearchCV\n",
        "\n",
        "param_grid = {\n",
        "    \"selector__threshold\": [0,0.1,0.2,0.5],\n",
        "    \"clasificador__criterion\": ['gini','entropy'],\n",
        "    \"clasificador__max_depth\": [None,10],\n",
        "    \"clasificador__min_samples_split\": [2,3,4]\n",
        "}\n",
        "\n",
        "search = GridSearchCV(pl, param_grid, n_jobs=2)\n",
        "search.fit(X_train, y_train)\n",
        "print(\"Best parameter (CV score=%0.3f):\" % search.best_score_)\n",
        "print(search.best_params_)\n",
        "\n",
        "best_clf = search.best_estimator_\n",
        "\n",
        "print(f\"Accuracy en el entrenamiento: {best_clf.score(X_train,y_train)}\")\n",
        "print(f\"Accuracy en la prueba: {best_clf.score(X_test,y_test)}\")"
      ]
    },
    {
      "cell_type": "code",
      "execution_count": null,
      "metadata": {
        "id": "ZuklND0fX1TF"
      },
      "outputs": [],
      "source": [
        "y_pred = best_clf.predict(X_test)\n",
        "\n",
        "print(f\"Accuracy: {round(accuracy_score(y_test,y_pred),3)}\")\n",
        "print(f\"Recall: {round(recall_score(y_test,y_pred),3)}\")\n",
        "print(f\"Precision: {round(precision_score(y_test,y_pred),3)}\")"
      ]
    }
  ],
  "metadata": {
    "colab": {
      "provenance": [],
      "toc_visible": true
    },
    "kernelspec": {
      "display_name": "Python 3",
      "name": "python3"
    },
    "language_info": {
      "codemirror_mode": {
        "name": "ipython",
        "version": 3
      },
      "file_extension": ".py",
      "mimetype": "text/x-python",
      "name": "python",
      "nbconvert_exporter": "python",
      "pygments_lexer": "ipython3",
      "version": "3.10.11"
    }
  },
  "nbformat": 4,
  "nbformat_minor": 0
}
